{
 "cells": [
  {
   "cell_type": "markdown",
   "id": "extended-purpose",
   "metadata": {},
   "source": [
    "# Data Prep for Database"
   ]
  },
  {
   "cell_type": "code",
   "execution_count": 1,
   "id": "matched-diana",
   "metadata": {},
   "outputs": [
    {
     "name": "stderr",
     "output_type": "stream",
     "text": [
      "C:\\Users\\lenpk\\anaconda3\\envs\\PythonAdv\\lib\\site-packages\\ipykernel_launcher.py:14: FutureWarning: Passing a negative integer is deprecated in version 1.0 and will not be supported in future version. Instead, use None to not limit the column width.\n",
      "  \n"
     ]
    }
   ],
   "source": [
    "# import modules\n",
    "import pandas as pd\n",
    "import re\n",
    "import numpy as np\n",
    "import matplotlib.pyplot as plt\n",
    "import seaborn as sns\n",
    "import pickle\n",
    "from pickle import dump\n",
    "from sqlalchemy import create_engine\n",
    "from config import DATABASE_URI\n",
    "import datetime\n",
    "%matplotlib inline\n",
    "\n",
    "pd.set_option('display.max_colwidth', -1)"
   ]
  },
  {
   "cell_type": "code",
   "execution_count": 23,
   "id": "exceptional-democracy",
   "metadata": {},
   "outputs": [],
   "source": [
    "# train dataset\n",
    "train = pd.read_csv('Corona_NLP_train.csv', encoding = \"ISO-8859-1\")\n",
    "test= pd.read_csv('Corona_NLP_test.csv', encoding = \"ISO-8859-1\")"
   ]
  },
  {
   "cell_type": "code",
   "execution_count": 24,
   "id": "comic-burning",
   "metadata": {},
   "outputs": [],
   "source": [
    "# Combine datasets\n",
    "train['status'] = 'train'\n",
    "test['status'] = 'test'"
   ]
  },
  {
   "cell_type": "code",
   "execution_count": null,
   "id": "close-scale",
   "metadata": {},
   "outputs": [],
   "source": []
  },
  {
   "cell_type": "code",
   "execution_count": 25,
   "id": "helpful-observation",
   "metadata": {},
   "outputs": [],
   "source": [
    "combined_df = pd.concat([test, train]).reset_index(drop = True)"
   ]
  },
  {
   "cell_type": "code",
   "execution_count": 26,
   "id": "large-victor",
   "metadata": {},
   "outputs": [
    {
     "data": {
      "text/html": [
       "<div>\n",
       "<style scoped>\n",
       "    .dataframe tbody tr th:only-of-type {\n",
       "        vertical-align: middle;\n",
       "    }\n",
       "\n",
       "    .dataframe tbody tr th {\n",
       "        vertical-align: top;\n",
       "    }\n",
       "\n",
       "    .dataframe thead th {\n",
       "        text-align: right;\n",
       "    }\n",
       "</style>\n",
       "<table border=\"1\" class=\"dataframe\">\n",
       "  <thead>\n",
       "    <tr style=\"text-align: right;\">\n",
       "      <th></th>\n",
       "      <th>UserName</th>\n",
       "      <th>ScreenName</th>\n",
       "      <th>Location</th>\n",
       "      <th>TweetAt</th>\n",
       "      <th>OriginalTweet</th>\n",
       "      <th>Sentiment</th>\n",
       "      <th>status</th>\n",
       "    </tr>\n",
       "  </thead>\n",
       "  <tbody>\n",
       "    <tr>\n",
       "      <th>0</th>\n",
       "      <td>1</td>\n",
       "      <td>44953</td>\n",
       "      <td>NYC</td>\n",
       "      <td>02-03-2020</td>\n",
       "      <td>TRENDING: New Yorkers encounter empty supermarket shelves (pictured, Wegmans in Brooklyn), sold-out online grocers (FoodKick, MaxDelivery) as #coronavirus-fearing shoppers stock up https://t.co/Gr76pcrLWh https://t.co/ivMKMsqdT1</td>\n",
       "      <td>Extremely Negative</td>\n",
       "      <td>test</td>\n",
       "    </tr>\n",
       "    <tr>\n",
       "      <th>1</th>\n",
       "      <td>2</td>\n",
       "      <td>44954</td>\n",
       "      <td>Seattle, WA</td>\n",
       "      <td>02-03-2020</td>\n",
       "      <td>When I couldn't find hand sanitizer at Fred Meyer, I turned to #Amazon. But $114.97 for a 2 pack of Purell??!!Check out how  #coronavirus concerns are driving up prices. https://t.co/ygbipBflMY</td>\n",
       "      <td>Positive</td>\n",
       "      <td>test</td>\n",
       "    </tr>\n",
       "    <tr>\n",
       "      <th>2</th>\n",
       "      <td>3</td>\n",
       "      <td>44955</td>\n",
       "      <td>NaN</td>\n",
       "      <td>02-03-2020</td>\n",
       "      <td>Find out how you can protect yourself and loved ones from #coronavirus. ?</td>\n",
       "      <td>Extremely Positive</td>\n",
       "      <td>test</td>\n",
       "    </tr>\n",
       "    <tr>\n",
       "      <th>3</th>\n",
       "      <td>4</td>\n",
       "      <td>44956</td>\n",
       "      <td>Chicagoland</td>\n",
       "      <td>02-03-2020</td>\n",
       "      <td>#Panic buying hits #NewYork City as anxious shoppers stock up on food&amp;amp;medical supplies after #healthcare worker in her 30s becomes #BigApple 1st confirmed #coronavirus patient OR a #Bloomberg staged event?\\r\\r\\n\\r\\r\\nhttps://t.co/IASiReGPC4\\r\\r\\n\\r\\r\\n#QAnon #QAnon2018 #QAnon2020 \\r\\r\\n#Election2020 #CDC https://t.co/29isZOewxu</td>\n",
       "      <td>Negative</td>\n",
       "      <td>test</td>\n",
       "    </tr>\n",
       "    <tr>\n",
       "      <th>4</th>\n",
       "      <td>5</td>\n",
       "      <td>44957</td>\n",
       "      <td>Melbourne, Victoria</td>\n",
       "      <td>03-03-2020</td>\n",
       "      <td>#toiletpaper #dunnypaper #coronavirus #coronavirusaustralia #CoronaVirusUpdate #Covid_19 #9News  #Corvid19 #7NewsMelb #dunnypapergate #Costco    One week everyone buying baby milk powder the next everyone buying up toilet paper. https://t.co/ScZryVvsIh</td>\n",
       "      <td>Neutral</td>\n",
       "      <td>test</td>\n",
       "    </tr>\n",
       "  </tbody>\n",
       "</table>\n",
       "</div>"
      ],
      "text/plain": [
       "   UserName  ScreenName             Location     TweetAt  \\\n",
       "0  1         44953       NYC                  02-03-2020   \n",
       "1  2         44954       Seattle, WA          02-03-2020   \n",
       "2  3         44955       NaN                  02-03-2020   \n",
       "3  4         44956       Chicagoland          02-03-2020   \n",
       "4  5         44957       Melbourne, Victoria  03-03-2020   \n",
       "\n",
       "                                                                                                                                                                                                                                                                                                                                   OriginalTweet  \\\n",
       "0  TRENDING: New Yorkers encounter empty supermarket shelves (pictured, Wegmans in Brooklyn), sold-out online grocers (FoodKick, MaxDelivery) as #coronavirus-fearing shoppers stock up https://t.co/Gr76pcrLWh https://t.co/ivMKMsqdT1                                                                                                            \n",
       "1  When I couldn't find hand sanitizer at Fred Meyer, I turned to #Amazon. But $114.97 for a 2 pack of Purell??!!Check out how  #coronavirus concerns are driving up prices. https://t.co/ygbipBflMY                                                                                                                                               \n",
       "2  Find out how you can protect yourself and loved ones from #coronavirus. ?                                                                                                                                                                                                                                                                       \n",
       "3  #Panic buying hits #NewYork City as anxious shoppers stock up on food&amp;medical supplies after #healthcare worker in her 30s becomes #BigApple 1st confirmed #coronavirus patient OR a #Bloomberg staged event?\\r\\r\\n\\r\\r\\nhttps://t.co/IASiReGPC4\\r\\r\\n\\r\\r\\n#QAnon #QAnon2018 #QAnon2020 \\r\\r\\n#Election2020 #CDC https://t.co/29isZOewxu   \n",
       "4  #toiletpaper #dunnypaper #coronavirus #coronavirusaustralia #CoronaVirusUpdate #Covid_19 #9News  #Corvid19 #7NewsMelb #dunnypapergate #Costco    One week everyone buying baby milk powder the next everyone buying up toilet paper. https://t.co/ScZryVvsIh                                                                                    \n",
       "\n",
       "            Sentiment status  \n",
       "0  Extremely Negative  test   \n",
       "1  Positive            test   \n",
       "2  Extremely Positive  test   \n",
       "3  Negative            test   \n",
       "4  Neutral             test   "
      ]
     },
     "execution_count": 26,
     "metadata": {},
     "output_type": "execute_result"
    }
   ],
   "source": [
    "combined_df.head()"
   ]
  },
  {
   "cell_type": "code",
   "execution_count": 27,
   "id": "cardiac-trustee",
   "metadata": {},
   "outputs": [],
   "source": [
    "combined_df['Location'].fillna('Unknown', inplace = True)"
   ]
  },
  {
   "cell_type": "code",
   "execution_count": 28,
   "id": "little-allocation",
   "metadata": {},
   "outputs": [
    {
     "name": "stdout",
     "output_type": "stream",
     "text": [
      "<class 'pandas.core.frame.DataFrame'>\n",
      "RangeIndex: 44955 entries, 0 to 44954\n",
      "Data columns (total 7 columns):\n",
      " #   Column         Non-Null Count  Dtype \n",
      "---  ------         --------------  ----- \n",
      " 0   UserName       44955 non-null  int64 \n",
      " 1   ScreenName     44955 non-null  int64 \n",
      " 2   Location       44955 non-null  object\n",
      " 3   TweetAt        44955 non-null  object\n",
      " 4   OriginalTweet  44955 non-null  object\n",
      " 5   Sentiment      44955 non-null  object\n",
      " 6   status         44955 non-null  object\n",
      "dtypes: int64(2), object(5)\n",
      "memory usage: 2.4+ MB\n"
     ]
    }
   ],
   "source": [
    "combined_df.info()"
   ]
  },
  {
   "cell_type": "code",
   "execution_count": 29,
   "id": "applied-motorcycle",
   "metadata": {},
   "outputs": [],
   "source": [
    "# replace the extreme values\n",
    "combined_df.replace({'Extremely Positive': 'Positive', 'Extremely Negative': 'Negative'}, inplace = True)"
   ]
  },
  {
   "cell_type": "code",
   "execution_count": 30,
   "id": "ancient-accent",
   "metadata": {},
   "outputs": [
    {
     "data": {
      "text/plain": [
       "Index(['UserName', 'ScreenName', 'Location', 'TweetAt', 'OriginalTweet',\n",
       "       'Sentiment', 'status'],\n",
       "      dtype='object')"
      ]
     },
     "execution_count": 30,
     "metadata": {},
     "output_type": "execute_result"
    }
   ],
   "source": [
    "combined_df.columns"
   ]
  },
  {
   "cell_type": "code",
   "execution_count": 31,
   "id": "understood-angola",
   "metadata": {},
   "outputs": [],
   "source": [
    "df_new = combined_df[['Location', 'TweetAt', 'OriginalTweet', 'Sentiment', 'status']]"
   ]
  },
  {
   "cell_type": "code",
   "execution_count": 32,
   "id": "worse-paragraph",
   "metadata": {},
   "outputs": [
    {
     "data": {
      "text/html": [
       "<div>\n",
       "<style scoped>\n",
       "    .dataframe tbody tr th:only-of-type {\n",
       "        vertical-align: middle;\n",
       "    }\n",
       "\n",
       "    .dataframe tbody tr th {\n",
       "        vertical-align: top;\n",
       "    }\n",
       "\n",
       "    .dataframe thead th {\n",
       "        text-align: right;\n",
       "    }\n",
       "</style>\n",
       "<table border=\"1\" class=\"dataframe\">\n",
       "  <thead>\n",
       "    <tr style=\"text-align: right;\">\n",
       "      <th></th>\n",
       "      <th>Location</th>\n",
       "      <th>TweetAt</th>\n",
       "      <th>OriginalTweet</th>\n",
       "      <th>Sentiment</th>\n",
       "      <th>status</th>\n",
       "    </tr>\n",
       "  </thead>\n",
       "  <tbody>\n",
       "    <tr>\n",
       "      <th>0</th>\n",
       "      <td>NYC</td>\n",
       "      <td>02-03-2020</td>\n",
       "      <td>TRENDING: New Yorkers encounter empty supermarket shelves (pictured, Wegmans in Brooklyn), sold-out online grocers (FoodKick, MaxDelivery) as #coronavirus-fearing shoppers stock up https://t.co/Gr76pcrLWh https://t.co/ivMKMsqdT1</td>\n",
       "      <td>Negative</td>\n",
       "      <td>test</td>\n",
       "    </tr>\n",
       "    <tr>\n",
       "      <th>1</th>\n",
       "      <td>Seattle, WA</td>\n",
       "      <td>02-03-2020</td>\n",
       "      <td>When I couldn't find hand sanitizer at Fred Meyer, I turned to #Amazon. But $114.97 for a 2 pack of Purell??!!Check out how  #coronavirus concerns are driving up prices. https://t.co/ygbipBflMY</td>\n",
       "      <td>Positive</td>\n",
       "      <td>test</td>\n",
       "    </tr>\n",
       "    <tr>\n",
       "      <th>2</th>\n",
       "      <td>Unknown</td>\n",
       "      <td>02-03-2020</td>\n",
       "      <td>Find out how you can protect yourself and loved ones from #coronavirus. ?</td>\n",
       "      <td>Positive</td>\n",
       "      <td>test</td>\n",
       "    </tr>\n",
       "    <tr>\n",
       "      <th>3</th>\n",
       "      <td>Chicagoland</td>\n",
       "      <td>02-03-2020</td>\n",
       "      <td>#Panic buying hits #NewYork City as anxious shoppers stock up on food&amp;amp;medical supplies after #healthcare worker in her 30s becomes #BigApple 1st confirmed #coronavirus patient OR a #Bloomberg staged event?\\r\\r\\n\\r\\r\\nhttps://t.co/IASiReGPC4\\r\\r\\n\\r\\r\\n#QAnon #QAnon2018 #QAnon2020 \\r\\r\\n#Election2020 #CDC https://t.co/29isZOewxu</td>\n",
       "      <td>Negative</td>\n",
       "      <td>test</td>\n",
       "    </tr>\n",
       "    <tr>\n",
       "      <th>4</th>\n",
       "      <td>Melbourne, Victoria</td>\n",
       "      <td>03-03-2020</td>\n",
       "      <td>#toiletpaper #dunnypaper #coronavirus #coronavirusaustralia #CoronaVirusUpdate #Covid_19 #9News  #Corvid19 #7NewsMelb #dunnypapergate #Costco    One week everyone buying baby milk powder the next everyone buying up toilet paper. https://t.co/ScZryVvsIh</td>\n",
       "      <td>Neutral</td>\n",
       "      <td>test</td>\n",
       "    </tr>\n",
       "  </tbody>\n",
       "</table>\n",
       "</div>"
      ],
      "text/plain": [
       "              Location     TweetAt  \\\n",
       "0  NYC                  02-03-2020   \n",
       "1  Seattle, WA          02-03-2020   \n",
       "2  Unknown              02-03-2020   \n",
       "3  Chicagoland          02-03-2020   \n",
       "4  Melbourne, Victoria  03-03-2020   \n",
       "\n",
       "                                                                                                                                                                                                                                                                                                                                   OriginalTweet  \\\n",
       "0  TRENDING: New Yorkers encounter empty supermarket shelves (pictured, Wegmans in Brooklyn), sold-out online grocers (FoodKick, MaxDelivery) as #coronavirus-fearing shoppers stock up https://t.co/Gr76pcrLWh https://t.co/ivMKMsqdT1                                                                                                            \n",
       "1  When I couldn't find hand sanitizer at Fred Meyer, I turned to #Amazon. But $114.97 for a 2 pack of Purell??!!Check out how  #coronavirus concerns are driving up prices. https://t.co/ygbipBflMY                                                                                                                                               \n",
       "2  Find out how you can protect yourself and loved ones from #coronavirus. ?                                                                                                                                                                                                                                                                       \n",
       "3  #Panic buying hits #NewYork City as anxious shoppers stock up on food&amp;medical supplies after #healthcare worker in her 30s becomes #BigApple 1st confirmed #coronavirus patient OR a #Bloomberg staged event?\\r\\r\\n\\r\\r\\nhttps://t.co/IASiReGPC4\\r\\r\\n\\r\\r\\n#QAnon #QAnon2018 #QAnon2020 \\r\\r\\n#Election2020 #CDC https://t.co/29isZOewxu   \n",
       "4  #toiletpaper #dunnypaper #coronavirus #coronavirusaustralia #CoronaVirusUpdate #Covid_19 #9News  #Corvid19 #7NewsMelb #dunnypapergate #Costco    One week everyone buying baby milk powder the next everyone buying up toilet paper. https://t.co/ScZryVvsIh                                                                                    \n",
       "\n",
       "  Sentiment status  \n",
       "0  Negative  test   \n",
       "1  Positive  test   \n",
       "2  Positive  test   \n",
       "3  Negative  test   \n",
       "4  Neutral   test   "
      ]
     },
     "execution_count": 32,
     "metadata": {},
     "output_type": "execute_result"
    }
   ],
   "source": [
    "df_new .head()"
   ]
  },
  {
   "cell_type": "code",
   "execution_count": 33,
   "id": "outer-causing",
   "metadata": {},
   "outputs": [
    {
     "name": "stderr",
     "output_type": "stream",
     "text": [
      "C:\\Users\\lenpk\\anaconda3\\envs\\PythonAdv\\lib\\site-packages\\pandas\\core\\frame.py:4308: SettingWithCopyWarning: \n",
      "A value is trying to be set on a copy of a slice from a DataFrame\n",
      "\n",
      "See the caveats in the documentation: https://pandas.pydata.org/pandas-docs/stable/user_guide/indexing.html#returning-a-view-versus-a-copy\n",
      "  errors=errors,\n"
     ]
    }
   ],
   "source": [
    "df_new.rename(columns = {'Location': 'location', 'TweetAt': 'tweeet_date', 'OriginalTweet': 'tweet', 'Sentiment': 'sentiment', 'status': 'status'}, inplace = True)"
   ]
  },
  {
   "cell_type": "code",
   "execution_count": 34,
   "id": "abstract-customs",
   "metadata": {},
   "outputs": [
    {
     "data": {
      "text/html": [
       "<div>\n",
       "<style scoped>\n",
       "    .dataframe tbody tr th:only-of-type {\n",
       "        vertical-align: middle;\n",
       "    }\n",
       "\n",
       "    .dataframe tbody tr th {\n",
       "        vertical-align: top;\n",
       "    }\n",
       "\n",
       "    .dataframe thead th {\n",
       "        text-align: right;\n",
       "    }\n",
       "</style>\n",
       "<table border=\"1\" class=\"dataframe\">\n",
       "  <thead>\n",
       "    <tr style=\"text-align: right;\">\n",
       "      <th></th>\n",
       "      <th>location</th>\n",
       "      <th>tweeet_date</th>\n",
       "      <th>tweet</th>\n",
       "      <th>sentiment</th>\n",
       "      <th>status</th>\n",
       "    </tr>\n",
       "  </thead>\n",
       "  <tbody>\n",
       "    <tr>\n",
       "      <th>0</th>\n",
       "      <td>NYC</td>\n",
       "      <td>02-03-2020</td>\n",
       "      <td>TRENDING: New Yorkers encounter empty supermarket shelves (pictured, Wegmans in Brooklyn), sold-out online grocers (FoodKick, MaxDelivery) as #coronavirus-fearing shoppers stock up https://t.co/Gr76pcrLWh https://t.co/ivMKMsqdT1</td>\n",
       "      <td>Negative</td>\n",
       "      <td>test</td>\n",
       "    </tr>\n",
       "    <tr>\n",
       "      <th>1</th>\n",
       "      <td>Seattle, WA</td>\n",
       "      <td>02-03-2020</td>\n",
       "      <td>When I couldn't find hand sanitizer at Fred Meyer, I turned to #Amazon. But $114.97 for a 2 pack of Purell??!!Check out how  #coronavirus concerns are driving up prices. https://t.co/ygbipBflMY</td>\n",
       "      <td>Positive</td>\n",
       "      <td>test</td>\n",
       "    </tr>\n",
       "    <tr>\n",
       "      <th>2</th>\n",
       "      <td>Unknown</td>\n",
       "      <td>02-03-2020</td>\n",
       "      <td>Find out how you can protect yourself and loved ones from #coronavirus. ?</td>\n",
       "      <td>Positive</td>\n",
       "      <td>test</td>\n",
       "    </tr>\n",
       "    <tr>\n",
       "      <th>3</th>\n",
       "      <td>Chicagoland</td>\n",
       "      <td>02-03-2020</td>\n",
       "      <td>#Panic buying hits #NewYork City as anxious shoppers stock up on food&amp;amp;medical supplies after #healthcare worker in her 30s becomes #BigApple 1st confirmed #coronavirus patient OR a #Bloomberg staged event?\\r\\r\\n\\r\\r\\nhttps://t.co/IASiReGPC4\\r\\r\\n\\r\\r\\n#QAnon #QAnon2018 #QAnon2020 \\r\\r\\n#Election2020 #CDC https://t.co/29isZOewxu</td>\n",
       "      <td>Negative</td>\n",
       "      <td>test</td>\n",
       "    </tr>\n",
       "    <tr>\n",
       "      <th>4</th>\n",
       "      <td>Melbourne, Victoria</td>\n",
       "      <td>03-03-2020</td>\n",
       "      <td>#toiletpaper #dunnypaper #coronavirus #coronavirusaustralia #CoronaVirusUpdate #Covid_19 #9News  #Corvid19 #7NewsMelb #dunnypapergate #Costco    One week everyone buying baby milk powder the next everyone buying up toilet paper. https://t.co/ScZryVvsIh</td>\n",
       "      <td>Neutral</td>\n",
       "      <td>test</td>\n",
       "    </tr>\n",
       "  </tbody>\n",
       "</table>\n",
       "</div>"
      ],
      "text/plain": [
       "              location tweeet_date  \\\n",
       "0  NYC                  02-03-2020   \n",
       "1  Seattle, WA          02-03-2020   \n",
       "2  Unknown              02-03-2020   \n",
       "3  Chicagoland          02-03-2020   \n",
       "4  Melbourne, Victoria  03-03-2020   \n",
       "\n",
       "                                                                                                                                                                                                                                                                                                                                           tweet  \\\n",
       "0  TRENDING: New Yorkers encounter empty supermarket shelves (pictured, Wegmans in Brooklyn), sold-out online grocers (FoodKick, MaxDelivery) as #coronavirus-fearing shoppers stock up https://t.co/Gr76pcrLWh https://t.co/ivMKMsqdT1                                                                                                            \n",
       "1  When I couldn't find hand sanitizer at Fred Meyer, I turned to #Amazon. But $114.97 for a 2 pack of Purell??!!Check out how  #coronavirus concerns are driving up prices. https://t.co/ygbipBflMY                                                                                                                                               \n",
       "2  Find out how you can protect yourself and loved ones from #coronavirus. ?                                                                                                                                                                                                                                                                       \n",
       "3  #Panic buying hits #NewYork City as anxious shoppers stock up on food&amp;medical supplies after #healthcare worker in her 30s becomes #BigApple 1st confirmed #coronavirus patient OR a #Bloomberg staged event?\\r\\r\\n\\r\\r\\nhttps://t.co/IASiReGPC4\\r\\r\\n\\r\\r\\n#QAnon #QAnon2018 #QAnon2020 \\r\\r\\n#Election2020 #CDC https://t.co/29isZOewxu   \n",
       "4  #toiletpaper #dunnypaper #coronavirus #coronavirusaustralia #CoronaVirusUpdate #Covid_19 #9News  #Corvid19 #7NewsMelb #dunnypapergate #Costco    One week everyone buying baby milk powder the next everyone buying up toilet paper. https://t.co/ScZryVvsIh                                                                                    \n",
       "\n",
       "  sentiment status  \n",
       "0  Negative  test   \n",
       "1  Positive  test   \n",
       "2  Positive  test   \n",
       "3  Negative  test   \n",
       "4  Neutral   test   "
      ]
     },
     "execution_count": 34,
     "metadata": {},
     "output_type": "execute_result"
    }
   ],
   "source": [
    "df_new.head()"
   ]
  },
  {
   "cell_type": "code",
   "execution_count": 35,
   "id": "prerequisite-document",
   "metadata": {},
   "outputs": [],
   "source": [
    "df_final = df_new[['tweeet_date', 'location', 'tweet', 'sentiment', 'status']]"
   ]
  },
  {
   "cell_type": "code",
   "execution_count": 44,
   "id": "caring-cuisine",
   "metadata": {},
   "outputs": [],
   "source": [
    "df_final['tweeet_date'] = pd.to_datetime(df_final['tweeet_date'])"
   ]
  },
  {
   "cell_type": "code",
   "execution_count": 45,
   "id": "copyrighted-diary",
   "metadata": {},
   "outputs": [
    {
     "data": {
      "text/html": [
       "<div>\n",
       "<style scoped>\n",
       "    .dataframe tbody tr th:only-of-type {\n",
       "        vertical-align: middle;\n",
       "    }\n",
       "\n",
       "    .dataframe tbody tr th {\n",
       "        vertical-align: top;\n",
       "    }\n",
       "\n",
       "    .dataframe thead th {\n",
       "        text-align: right;\n",
       "    }\n",
       "</style>\n",
       "<table border=\"1\" class=\"dataframe\">\n",
       "  <thead>\n",
       "    <tr style=\"text-align: right;\">\n",
       "      <th></th>\n",
       "      <th>tweeet_date</th>\n",
       "      <th>location</th>\n",
       "      <th>tweet</th>\n",
       "      <th>sentiment</th>\n",
       "      <th>status</th>\n",
       "    </tr>\n",
       "  </thead>\n",
       "  <tbody>\n",
       "    <tr>\n",
       "      <th>44950</th>\n",
       "      <td>2020-04-14</td>\n",
       "      <td>Wellington City, New Zealand</td>\n",
       "      <td>Airline pilots offering to stock supermarket shelves in #NZ lockdown #COVID-19 https://t.co/cz89uA0HNp</td>\n",
       "      <td>Neutral</td>\n",
       "      <td>train</td>\n",
       "    </tr>\n",
       "    <tr>\n",
       "      <th>44951</th>\n",
       "      <td>2020-04-14</td>\n",
       "      <td>Unknown</td>\n",
       "      <td>Response to complaint not provided citing COVID-19 related delays. Yet prompt in rejecting policy before consumer TAT is over. Way to go ?</td>\n",
       "      <td>Negative</td>\n",
       "      <td>train</td>\n",
       "    </tr>\n",
       "    <tr>\n",
       "      <th>44952</th>\n",
       "      <td>2020-04-14</td>\n",
       "      <td>Unknown</td>\n",
       "      <td>You know itÂs getting tough when @KameronWilds  is rationing toilet paper #coronavirus #toiletpaper @kroger martinsville, help us out!!</td>\n",
       "      <td>Positive</td>\n",
       "      <td>train</td>\n",
       "    </tr>\n",
       "    <tr>\n",
       "      <th>44953</th>\n",
       "      <td>2020-04-14</td>\n",
       "      <td>Unknown</td>\n",
       "      <td>Is it wrong that the smell of hand sanitizer is starting to turn me on?\\r\\r\\n\\r\\r\\n#coronavirus #COVID19 #coronavirus</td>\n",
       "      <td>Neutral</td>\n",
       "      <td>train</td>\n",
       "    </tr>\n",
       "    <tr>\n",
       "      <th>44954</th>\n",
       "      <td>2020-04-14</td>\n",
       "      <td>i love you so much || he/him</td>\n",
       "      <td>@TartiiCat Well new/used Rift S are going for $700.00 on Amazon rn although the normal market price is usually $400.00 . Prices are really crazy right now for vr headsets since HL Alex was announced and it's only been worse with COVID-19. Up to you whethe</td>\n",
       "      <td>Negative</td>\n",
       "      <td>train</td>\n",
       "    </tr>\n",
       "  </tbody>\n",
       "</table>\n",
       "</div>"
      ],
      "text/plain": [
       "      tweeet_date                      location  \\\n",
       "44950 2020-04-14   Wellington City, New Zealand   \n",
       "44951 2020-04-14   Unknown                        \n",
       "44952 2020-04-14   Unknown                        \n",
       "44953 2020-04-14   Unknown                        \n",
       "44954 2020-04-14   i love you so much || he/him   \n",
       "\n",
       "                                                                                                                                                                                                                                                                 tweet  \\\n",
       "44950  Airline pilots offering to stock supermarket shelves in #NZ lockdown #COVID-19 https://t.co/cz89uA0HNp                                                                                                                                                            \n",
       "44951  Response to complaint not provided citing COVID-19 related delays. Yet prompt in rejecting policy before consumer TAT is over. Way to go ?                                                                                                                        \n",
       "44952  You know itÂs getting tough when @KameronWilds  is rationing toilet paper #coronavirus #toiletpaper @kroger martinsville, help us out!!                                                                                                                          \n",
       "44953  Is it wrong that the smell of hand sanitizer is starting to turn me on?\\r\\r\\n\\r\\r\\n#coronavirus #COVID19 #coronavirus                                                                                                                                             \n",
       "44954  @TartiiCat Well new/used Rift S are going for $700.00 on Amazon rn although the normal market price is usually $400.00 . Prices are really crazy right now for vr headsets since HL Alex was announced and it's only been worse with COVID-19. Up to you whethe   \n",
       "\n",
       "      sentiment status  \n",
       "44950  Neutral   train  \n",
       "44951  Negative  train  \n",
       "44952  Positive  train  \n",
       "44953  Neutral   train  \n",
       "44954  Negative  train  "
      ]
     },
     "execution_count": 45,
     "metadata": {},
     "output_type": "execute_result"
    }
   ],
   "source": [
    "df_final.tail()"
   ]
  },
  {
   "cell_type": "code",
   "execution_count": 2,
   "id": "bottom-atlanta",
   "metadata": {},
   "outputs": [],
   "source": [
    "# Create connection\n",
    "engine = create_engine(DATABASE_URI)\n",
    "conn = engine.connect()"
   ]
  },
  {
   "cell_type": "code",
   "execution_count": 3,
   "id": "fifth-ensemble",
   "metadata": {},
   "outputs": [
    {
     "data": {
      "text/plain": [
       "['tweets_sentiment']"
      ]
     },
     "execution_count": 3,
     "metadata": {},
     "output_type": "execute_result"
    }
   ],
   "source": [
    "# Check tables if loaded\n",
    "engine.table_names()"
   ]
  },
  {
   "cell_type": "code",
   "execution_count": 49,
   "id": "olympic-coaching",
   "metadata": {},
   "outputs": [],
   "source": [
    "# Load df_final in database\n",
    "df_final.to_sql(name = 'tweets_sentiment', con = engine, if_exists = 'append', index = False)"
   ]
  },
  {
   "cell_type": "code",
   "execution_count": 18,
   "id": "alone-parade",
   "metadata": {},
   "outputs": [],
   "source": [
    "df = pd.read_sql_query('SELECT * FROM tweets_sentiment', con = engine)"
   ]
  },
  {
   "cell_type": "code",
   "execution_count": 21,
   "id": "exotic-shuttle",
   "metadata": {},
   "outputs": [
    {
     "data": {
      "text/html": [
       "<div>\n",
       "<style scoped>\n",
       "    .dataframe tbody tr th:only-of-type {\n",
       "        vertical-align: middle;\n",
       "    }\n",
       "\n",
       "    .dataframe tbody tr th {\n",
       "        vertical-align: top;\n",
       "    }\n",
       "\n",
       "    .dataframe thead th {\n",
       "        text-align: right;\n",
       "    }\n",
       "</style>\n",
       "<table border=\"1\" class=\"dataframe\">\n",
       "  <thead>\n",
       "    <tr style=\"text-align: right;\">\n",
       "      <th></th>\n",
       "      <th>id</th>\n",
       "      <th>tweeet_date</th>\n",
       "      <th>location</th>\n",
       "      <th>tweet</th>\n",
       "      <th>sentiment</th>\n",
       "      <th>status</th>\n",
       "    </tr>\n",
       "  </thead>\n",
       "  <tbody>\n",
       "    <tr>\n",
       "      <th>51</th>\n",
       "      <td>1147</td>\n",
       "      <td>2020-11-03</td>\n",
       "      <td>Dallas, TX</td>\n",
       "      <td>I was quoted in this piece - \"Dos and don'ts of stockpiling: 5 must-have items\": https://t.co/U8ECcFeOzE by @eviefordham https://t.co/oFqrPP4r9V</td>\n",
       "      <td>Neutral</td>\n",
       "      <td>test</td>\n",
       "    </tr>\n",
       "    <tr>\n",
       "      <th>112</th>\n",
       "      <td>1071</td>\n",
       "      <td>2020-11-03</td>\n",
       "      <td>United States</td>\n",
       "      <td>@realDonaldTrump What can you do about #COVID2019? \\r\\r\\n\\r\\r\\n- donÂt go out sick\\r\\r\\n- wash hands\\r\\r\\n- call ahead, wear mask to doctor\\r\\r\\n- stock up food, medicines\\r\\r\\n- work from home\\r\\r\\n- keep social distances\\r\\r\\n- hand sanitizer after surfaces\\r\\r\\n- avoid touching</td>\n",
       "      <td>Negative</td>\n",
       "      <td>test</td>\n",
       "    </tr>\n",
       "    <tr>\n",
       "      <th>113</th>\n",
       "      <td>1072</td>\n",
       "      <td>2020-11-03</td>\n",
       "      <td>England.</td>\n",
       "      <td>As I appear to be absolutely no good at stock piling/panic buying  food goods and toilet rolls for the #coronavirus I'm moving on to something I'm good at buying ?\\r\\r\\n\\r\\r\\nTin whistles and Apple Watch bands.\\r\\r\\n\\r\\r\\nBetter than toilet rolls ? https://t.co/UdI4PYuLDh</td>\n",
       "      <td>Positive</td>\n",
       "      <td>test</td>\n",
       "    </tr>\n",
       "    <tr>\n",
       "      <th>114</th>\n",
       "      <td>1073</td>\n",
       "      <td>2020-11-03</td>\n",
       "      <td>United States</td>\n",
       "      <td>Pretty good chance that your waiter/waitress, grocery/department store clerk, or Uber/Taxi driver, doesn't have health insurance or paid sick leave. \\r\\r\\n\\r\\r\\nAlso a pretty good chance that these people come in contact with #COVID19 #coronavirus \\r\\r\\n\\r\\r\\nStill think Bernie's radical? Good luck.</td>\n",
       "      <td>Positive</td>\n",
       "      <td>test</td>\n",
       "    </tr>\n",
       "    <tr>\n",
       "      <th>115</th>\n",
       "      <td>1074</td>\n",
       "      <td>2020-11-03</td>\n",
       "      <td>Highland, MI</td>\n",
       "      <td>I donÂt understand the run on toilet paper. \\r\\r\\n\\r\\r\\nYou would think that youÂd stock up on food first. Without food, you wonÂt need the toilet paper. #coronavirus</td>\n",
       "      <td>Negative</td>\n",
       "      <td>test</td>\n",
       "    </tr>\n",
       "    <tr>\n",
       "      <th>...</th>\n",
       "      <td>...</td>\n",
       "      <td>...</td>\n",
       "      <td>...</td>\n",
       "      <td>...</td>\n",
       "      <td>...</td>\n",
       "      <td>...</td>\n",
       "    </tr>\n",
       "    <tr>\n",
       "      <th>274</th>\n",
       "      <td>1231</td>\n",
       "      <td>2020-11-03</td>\n",
       "      <td>Chicago, IL</td>\n",
       "      <td>Wondering if I should stock up on food and home goods. ? what are yÂall doing? \\r\\r\\n#coronavirus</td>\n",
       "      <td>Neutral</td>\n",
       "      <td>test</td>\n",
       "    </tr>\n",
       "    <tr>\n",
       "      <th>275</th>\n",
       "      <td>1232</td>\n",
       "      <td>2020-11-03</td>\n",
       "      <td>London</td>\n",
       "      <td>The clowns are playing games with #COVID2019 and peoples lives.\\r\\r\\n\\r\\r\\nLarge parts of the community are concerned for vunerable family &amp;amp; friends. The clowns are monitoring consumer spending.</td>\n",
       "      <td>Positive</td>\n",
       "      <td>test</td>\n",
       "    </tr>\n",
       "    <tr>\n",
       "      <th>276</th>\n",
       "      <td>1233</td>\n",
       "      <td>2020-11-03</td>\n",
       "      <td>Fashion Capital</td>\n",
       "      <td>@ElieTahari #samplesale is #postponed - expect other #sales to go #online or skip a #season as #coronavirus #pandemic grows #shopping #nyc https://t.co/bXxD4n8oI8</td>\n",
       "      <td>Neutral</td>\n",
       "      <td>test</td>\n",
       "    </tr>\n",
       "    <tr>\n",
       "      <th>277</th>\n",
       "      <td>1234</td>\n",
       "      <td>2020-11-03</td>\n",
       "      <td>Unknown</td>\n",
       "      <td>#Jamaica, sorry to burst your bubble but #Lysol cannot manage this strain of #coronavirus. The one on the Lysol tin is an older version of #coronavirus. #COVID19 was built to defeat #Lysol. Stop wasting money on #Lysol &amp;amp; buy soap &amp;amp; alcohol &amp;amp; stock up on food &amp;amp; medication.</td>\n",
       "      <td>Negative</td>\n",
       "      <td>test</td>\n",
       "    </tr>\n",
       "    <tr>\n",
       "      <th>278</th>\n",
       "      <td>1235</td>\n",
       "      <td>2020-11-03</td>\n",
       "      <td>Unknown</td>\n",
       "      <td>Oregon Cheese Festival officially postponed due to #coronavirus\\r\\r\\nKeep your fingers crossed for microbusinesses like ours. \\r\\r\\nWanna support us by shopping online?\\r\\r\\nWe'll put a trial sized package and a sticker in with every order received through this weekend.\\r\\r\\nhttps://t.co/r5jB2VVfh3</td>\n",
       "      <td>Positive</td>\n",
       "      <td>test</td>\n",
       "    </tr>\n",
       "  </tbody>\n",
       "</table>\n",
       "<p>165 rows × 6 columns</p>\n",
       "</div>"
      ],
      "text/plain": [
       "       id tweeet_date         location  \\\n",
       "51   1147  2020-11-03  Dallas, TX        \n",
       "112  1071  2020-11-03  United States     \n",
       "113  1072  2020-11-03   England.         \n",
       "114  1073  2020-11-03  United States     \n",
       "115  1074  2020-11-03  Highland, MI      \n",
       "..    ...         ...           ...      \n",
       "274  1231  2020-11-03  Chicago, IL       \n",
       "275  1232  2020-11-03  London            \n",
       "276  1233  2020-11-03  Fashion Capital   \n",
       "277  1234  2020-11-03  Unknown           \n",
       "278  1235  2020-11-03  Unknown           \n",
       "\n",
       "                                                                                                                                                                                                                                                                                                            tweet  \\\n",
       "51   I was quoted in this piece - \"Dos and don'ts of stockpiling: 5 must-have items\": https://t.co/U8ECcFeOzE by @eviefordham https://t.co/oFqrPP4r9V                                                                                                                                                               \n",
       "112  @realDonaldTrump What can you do about #COVID2019? \\r\\r\\n\\r\\r\\n- donÂt go out sick\\r\\r\\n- wash hands\\r\\r\\n- call ahead, wear mask to doctor\\r\\r\\n- stock up food, medicines\\r\\r\\n- work from home\\r\\r\\n- keep social distances\\r\\r\\n- hand sanitizer after surfaces\\r\\r\\n- avoid touching                     \n",
       "113  As I appear to be absolutely no good at stock piling/panic buying  food goods and toilet rolls for the #coronavirus I'm moving on to something I'm good at buying ?\\r\\r\\n\\r\\r\\nTin whistles and Apple Watch bands.\\r\\r\\n\\r\\r\\nBetter than toilet rolls ? https://t.co/UdI4PYuLDh                               \n",
       "114  Pretty good chance that your waiter/waitress, grocery/department store clerk, or Uber/Taxi driver, doesn't have health insurance or paid sick leave. \\r\\r\\n\\r\\r\\nAlso a pretty good chance that these people come in contact with #COVID19 #coronavirus \\r\\r\\n\\r\\r\\nStill think Bernie's radical? Good luck.   \n",
       "115  I donÂt understand the run on toilet paper. \\r\\r\\n\\r\\r\\nYou would think that youÂd stock up on food first. Without food, you wonÂt need the toilet paper. #coronavirus                                                                                                                                      \n",
       "..                                                                                                                                                                         ...                                                                                                                                      \n",
       "274  Wondering if I should stock up on food and home goods. ? what are yÂall doing? \\r\\r\\n#coronavirus                                                                                                                                                                                                             \n",
       "275  The clowns are playing games with #COVID2019 and peoples lives.\\r\\r\\n\\r\\r\\nLarge parts of the community are concerned for vunerable family &amp; friends. The clowns are monitoring consumer spending.                                                                                                         \n",
       "276  @ElieTahari #samplesale is #postponed - expect other #sales to go #online or skip a #season as #coronavirus #pandemic grows #shopping #nyc https://t.co/bXxD4n8oI8                                                                                                                                             \n",
       "277  #Jamaica, sorry to burst your bubble but #Lysol cannot manage this strain of #coronavirus. The one on the Lysol tin is an older version of #coronavirus. #COVID19 was built to defeat #Lysol. Stop wasting money on #Lysol &amp; buy soap &amp; alcohol &amp; stock up on food &amp; medication.               \n",
       "278  Oregon Cheese Festival officially postponed due to #coronavirus\\r\\r\\nKeep your fingers crossed for microbusinesses like ours. \\r\\r\\nWanna support us by shopping online?\\r\\r\\nWe'll put a trial sized package and a sticker in with every order received through this weekend.\\r\\r\\nhttps://t.co/r5jB2VVfh3    \n",
       "\n",
       "    sentiment status  \n",
       "51   Neutral   test   \n",
       "112  Negative  test   \n",
       "113  Positive  test   \n",
       "114  Positive  test   \n",
       "115  Negative  test   \n",
       "..        ...   ...   \n",
       "274  Neutral   test   \n",
       "275  Positive  test   \n",
       "276  Neutral   test   \n",
       "277  Negative  test   \n",
       "278  Positive  test   \n",
       "\n",
       "[165 rows x 6 columns]"
      ]
     },
     "execution_count": 21,
     "metadata": {},
     "output_type": "execute_result"
    }
   ],
   "source": [
    "test_dt = df.loc[df['tweeet_date'] == datetime.date(2020, 11, 3)]\n",
    "test_dt "
   ]
  },
  {
   "cell_type": "code",
   "execution_count": 35,
   "id": "italian-headquarters",
   "metadata": {},
   "outputs": [
    {
     "data": {
      "text/html": [
       "<div>\n",
       "<style scoped>\n",
       "    .dataframe tbody tr th:only-of-type {\n",
       "        vertical-align: middle;\n",
       "    }\n",
       "\n",
       "    .dataframe tbody tr th {\n",
       "        vertical-align: top;\n",
       "    }\n",
       "\n",
       "    .dataframe thead th {\n",
       "        text-align: right;\n",
       "    }\n",
       "</style>\n",
       "<table border=\"1\" class=\"dataframe\">\n",
       "  <thead>\n",
       "    <tr style=\"text-align: right;\">\n",
       "      <th></th>\n",
       "      <th>tweeet_date</th>\n",
       "      <th>sentiment</th>\n",
       "    </tr>\n",
       "  </thead>\n",
       "  <tbody>\n",
       "    <tr>\n",
       "      <th>0</th>\n",
       "      <td>2020-01-04</td>\n",
       "      <td>259</td>\n",
       "    </tr>\n",
       "    <tr>\n",
       "      <th>1</th>\n",
       "      <td>2020-02-03</td>\n",
       "      <td>2</td>\n",
       "    </tr>\n",
       "    <tr>\n",
       "      <th>2</th>\n",
       "      <td>2020-02-04</td>\n",
       "      <td>392</td>\n",
       "    </tr>\n",
       "    <tr>\n",
       "      <th>3</th>\n",
       "      <td>2020-03-03</td>\n",
       "      <td>1</td>\n",
       "    </tr>\n",
       "    <tr>\n",
       "      <th>4</th>\n",
       "      <td>2020-03-04</td>\n",
       "      <td>345</td>\n",
       "    </tr>\n",
       "  </tbody>\n",
       "</table>\n",
       "</div>"
      ],
      "text/plain": [
       "  tweeet_date  sentiment\n",
       "0  2020-01-04  259      \n",
       "1  2020-02-03  2        \n",
       "2  2020-02-04  392      \n",
       "3  2020-03-03  1        \n",
       "4  2020-03-04  345      "
      ]
     },
     "execution_count": 35,
     "metadata": {},
     "output_type": "execute_result"
    }
   ],
   "source": [
    "df_sent = pd.read_sql_query(\"\"\"SELECT tweeet_date, sentiment FROM tweets_sentiment;\"\"\", conn)\n",
    "dfMain = df_sent.loc[df_sent['sentiment'] == 'Positive']\n",
    "dfLabel = dfMain.groupby('tweeet_date').count().reset_index()\n",
    "dfLabel.head()"
   ]
  },
  {
   "cell_type": "code",
   "execution_count": 37,
   "id": "determined-prisoner",
   "metadata": {},
   "outputs": [
    {
     "data": {
      "text/plain": [
       "Index(['tweeet_date', 'sentiment'], dtype='object')"
      ]
     },
     "execution_count": 37,
     "metadata": {},
     "output_type": "execute_result"
    }
   ],
   "source": [
    "dfLabel.columns"
   ]
  },
  {
   "cell_type": "code",
   "execution_count": 16,
   "id": "documented-costa",
   "metadata": {},
   "outputs": [
    {
     "data": {
      "text/plain": [
       "array([datetime.date(2020, 2, 3), datetime.date(2020, 3, 3),\n",
       "       datetime.date(2020, 4, 3), datetime.date(2020, 5, 3),\n",
       "       datetime.date(2020, 6, 3), datetime.date(2020, 7, 3),\n",
       "       datetime.date(2020, 3, 13), datetime.date(2020, 8, 3),\n",
       "       datetime.date(2020, 9, 3), datetime.date(2020, 11, 3),\n",
       "       datetime.date(2020, 10, 3), datetime.date(2020, 3, 22),\n",
       "       datetime.date(2020, 12, 3), datetime.date(2020, 3, 24),\n",
       "       datetime.date(2020, 3, 31), datetime.date(2020, 2, 4),\n",
       "       datetime.date(2020, 3, 29), datetime.date(2020, 3, 15),\n",
       "       datetime.date(2020, 3, 17), datetime.date(2020, 4, 16),\n",
       "       datetime.date(2020, 4, 17), datetime.date(2020, 3, 18),\n",
       "       datetime.date(2020, 3, 19), datetime.date(2020, 3, 14),\n",
       "       datetime.date(2020, 4, 18), datetime.date(2020, 3, 20),\n",
       "       datetime.date(2020, 4, 19), datetime.date(2020, 4, 20),\n",
       "       datetime.date(2020, 3, 23), datetime.date(2020, 3, 16),\n",
       "       datetime.date(2020, 3, 25), datetime.date(2020, 3, 27),\n",
       "       datetime.date(2020, 8, 4), datetime.date(2020, 9, 4),\n",
       "       datetime.date(2020, 3, 21), datetime.date(2020, 3, 26),\n",
       "       datetime.date(2020, 1, 4), datetime.date(2020, 4, 4),\n",
       "       datetime.date(2020, 5, 4), datetime.date(2020, 3, 28),\n",
       "       datetime.date(2020, 6, 4), datetime.date(2020, 3, 30),\n",
       "       datetime.date(2020, 3, 4), datetime.date(2020, 7, 4),\n",
       "       datetime.date(2020, 11, 4), datetime.date(2020, 12, 4),\n",
       "       datetime.date(2020, 4, 13), datetime.date(2020, 10, 4),\n",
       "       datetime.date(2020, 4, 14), datetime.date(2020, 4, 21),\n",
       "       datetime.date(2020, 4, 22), datetime.date(2020, 4, 24),\n",
       "       datetime.date(2020, 4, 26), datetime.date(2020, 4, 27),\n",
       "       datetime.date(2020, 4, 28), datetime.date(2020, 4, 30),\n",
       "       datetime.date(2020, 4, 23), datetime.date(2020, 4, 25)],\n",
       "      dtype=object)"
      ]
     },
     "execution_count": 16,
     "metadata": {},
     "output_type": "execute_result"
    }
   ],
   "source": [
    "df_dates['tweeet_date'].unique()"
   ]
  },
  {
   "cell_type": "code",
   "execution_count": 45,
   "id": "perfect-genius",
   "metadata": {},
   "outputs": [],
   "source": [
    "df_sent = pd.read_sql_query(\"\"\"SELECT tweeet_date, tweet, sentiment FROM tweets_sentiment;\"\"\", conn)\n",
    "    \n",
    "df_sent['dates'] = pd.to_datetime(df_sent['tweeet_date'], errors='coerce')\n",
    "df_sent['month'] = df_sent['dates'].dt.strftime('%b')\n",
    "dfMain = df_sent.loc[df_sent['month'] == 'May']\n",
    "dfLabel = dfMain.groupby('sentiment')['tweet'].count().reset_index()"
   ]
  },
  {
   "cell_type": "code",
   "execution_count": 46,
   "id": "operational-immune",
   "metadata": {},
   "outputs": [
    {
     "data": {
      "text/html": [
       "<div>\n",
       "<style scoped>\n",
       "    .dataframe tbody tr th:only-of-type {\n",
       "        vertical-align: middle;\n",
       "    }\n",
       "\n",
       "    .dataframe tbody tr th {\n",
       "        vertical-align: top;\n",
       "    }\n",
       "\n",
       "    .dataframe thead th {\n",
       "        text-align: right;\n",
       "    }\n",
       "</style>\n",
       "<table border=\"1\" class=\"dataframe\">\n",
       "  <thead>\n",
       "    <tr style=\"text-align: right;\">\n",
       "      <th></th>\n",
       "      <th>sentiment</th>\n",
       "      <th>tweet</th>\n",
       "    </tr>\n",
       "  </thead>\n",
       "  <tbody>\n",
       "    <tr>\n",
       "      <th>0</th>\n",
       "      <td>Negative</td>\n",
       "      <td>383</td>\n",
       "    </tr>\n",
       "    <tr>\n",
       "      <th>1</th>\n",
       "      <td>Neutral</td>\n",
       "      <td>236</td>\n",
       "    </tr>\n",
       "    <tr>\n",
       "      <th>2</th>\n",
       "      <td>Positive</td>\n",
       "      <td>518</td>\n",
       "    </tr>\n",
       "  </tbody>\n",
       "</table>\n",
       "</div>"
      ],
      "text/plain": [
       "  sentiment  tweet\n",
       "0  Negative  383  \n",
       "1  Neutral   236  \n",
       "2  Positive  518  "
      ]
     },
     "execution_count": 46,
     "metadata": {},
     "output_type": "execute_result"
    }
   ],
   "source": [
    "dfLabel"
   ]
  },
  {
   "cell_type": "code",
   "execution_count": 47,
   "id": "blond-niagara",
   "metadata": {},
   "outputs": [],
   "source": [
    "df_new = pd.read_sql_query(\"\"\"SELECT * FROM tweets_sentiment;\"\"\", conn)"
   ]
  },
  {
   "cell_type": "code",
   "execution_count": 49,
   "id": "clinical-penguin",
   "metadata": {},
   "outputs": [
    {
     "data": {
      "text/html": [
       "<div>\n",
       "<style scoped>\n",
       "    .dataframe tbody tr th:only-of-type {\n",
       "        vertical-align: middle;\n",
       "    }\n",
       "\n",
       "    .dataframe tbody tr th {\n",
       "        vertical-align: top;\n",
       "    }\n",
       "\n",
       "    .dataframe thead th {\n",
       "        text-align: right;\n",
       "    }\n",
       "</style>\n",
       "<table border=\"1\" class=\"dataframe\">\n",
       "  <thead>\n",
       "    <tr style=\"text-align: right;\">\n",
       "      <th></th>\n",
       "      <th>id</th>\n",
       "      <th>tweeet_date</th>\n",
       "      <th>location</th>\n",
       "      <th>tweet</th>\n",
       "      <th>sentiment</th>\n",
       "      <th>status</th>\n",
       "    </tr>\n",
       "  </thead>\n",
       "  <tbody>\n",
       "    <tr>\n",
       "      <th>214553</th>\n",
       "      <td>215514</td>\n",
       "      <td>2020-04-30</td>\n",
       "      <td>Unknown</td>\n",
       "      <td>Who do you want to be during #covid19 ? How are you showing up for yourself, your family, your patients? #womenshealth #obgyn #mindfulness #parenting https://t.co/uPt8ftzOKi</td>\n",
       "      <td>Positive</td>\n",
       "      <td>predicted</td>\n",
       "    </tr>\n",
       "    <tr>\n",
       "      <th>214554</th>\n",
       "      <td>215515</td>\n",
       "      <td>2020-04-30</td>\n",
       "      <td>Unknown</td>\n",
       "      <td>Epic cancels 2020 Fortnite World Cup https://t.co/dmtupRNqF0 #fortniteworldcup #coronavirus #videogames #epicgames #fortnite #covid19 #games</td>\n",
       "      <td>Positive</td>\n",
       "      <td>predicted</td>\n",
       "    </tr>\n",
       "    <tr>\n",
       "      <th>214555</th>\n",
       "      <td>215516</td>\n",
       "      <td>2020-04-30</td>\n",
       "      <td>Unknown</td>\n",
       "      <td>@APompliano @zerohedge Considering the most cases of #coronavirus are in #NewYork, #Massachusetts &amp;amp; #NewJersey in America, and in #Canada #Quebec &amp;amp; #Ontario, it would make perfect sense given the distance between these places &amp;amp; #Maryland Fort Detrick. https://t.co/B5rkrioZNM https://t.co/PS4ZXoqT33</td>\n",
       "      <td>Positive</td>\n",
       "      <td>predicted</td>\n",
       "    </tr>\n",
       "    <tr>\n",
       "      <th>214556</th>\n",
       "      <td>215517</td>\n",
       "      <td>2020-04-30</td>\n",
       "      <td>Unknown</td>\n",
       "      <td>Just imagine... #covid_19 #stayhomestaysafe https://t.co/4t4A5lq4cf</td>\n",
       "      <td>Neutral</td>\n",
       "      <td>predicted</td>\n",
       "    </tr>\n",
       "    <tr>\n",
       "      <th>214557</th>\n",
       "      <td>215518</td>\n",
       "      <td>2020-04-30</td>\n",
       "      <td>Unknown</td>\n",
       "      <td>Startling context. AIDS deaths v #COVID19 https://t.co/2xazyKTxex</td>\n",
       "      <td>Neutral</td>\n",
       "      <td>predicted</td>\n",
       "    </tr>\n",
       "  </tbody>\n",
       "</table>\n",
       "</div>"
      ],
      "text/plain": [
       "            id tweeet_date location  \\\n",
       "214553  215514  2020-04-30  Unknown   \n",
       "214554  215515  2020-04-30  Unknown   \n",
       "214555  215516  2020-04-30  Unknown   \n",
       "214556  215517  2020-04-30  Unknown   \n",
       "214557  215518  2020-04-30  Unknown   \n",
       "\n",
       "                                                                                                                                                                                                                                                                                                                          tweet  \\\n",
       "214553  Who do you want to be during #covid19 ? How are you showing up for yourself, your family, your patients? #womenshealth #obgyn #mindfulness #parenting https://t.co/uPt8ftzOKi                                                                                                                                             \n",
       "214554  Epic cancels 2020 Fortnite World Cup https://t.co/dmtupRNqF0 #fortniteworldcup #coronavirus #videogames #epicgames #fortnite #covid19 #games                                                                                                                                                                              \n",
       "214555  @APompliano @zerohedge Considering the most cases of #coronavirus are in #NewYork, #Massachusetts &amp; #NewJersey in America, and in #Canada #Quebec &amp; #Ontario, it would make perfect sense given the distance between these places &amp; #Maryland Fort Detrick. https://t.co/B5rkrioZNM https://t.co/PS4ZXoqT33   \n",
       "214556  Just imagine... #covid_19 #stayhomestaysafe https://t.co/4t4A5lq4cf                                                                                                                                                                                                                                                       \n",
       "214557  Startling context. AIDS deaths v #COVID19 https://t.co/2xazyKTxex                                                                                                                                                                                                                                                         \n",
       "\n",
       "       sentiment     status  \n",
       "214553  Positive  predicted  \n",
       "214554  Positive  predicted  \n",
       "214555  Positive  predicted  \n",
       "214556  Neutral   predicted  \n",
       "214557  Neutral   predicted  "
      ]
     },
     "execution_count": 49,
     "metadata": {},
     "output_type": "execute_result"
    }
   ],
   "source": [
    "df_new.tail()"
   ]
  },
  {
   "cell_type": "code",
   "execution_count": 51,
   "id": "acceptable-cornell",
   "metadata": {},
   "outputs": [],
   "source": [
    "conn.close()"
   ]
  }
 ],
 "metadata": {
  "kernelspec": {
   "display_name": "Python [conda env:pythonadv] *",
   "language": "python",
   "name": "conda-env-pythonadv-py"
  },
  "language_info": {
   "codemirror_mode": {
    "name": "ipython",
    "version": 3
   },
   "file_extension": ".py",
   "mimetype": "text/x-python",
   "name": "python",
   "nbconvert_exporter": "python",
   "pygments_lexer": "ipython3",
   "version": "3.6.12"
  }
 },
 "nbformat": 4,
 "nbformat_minor": 5
}

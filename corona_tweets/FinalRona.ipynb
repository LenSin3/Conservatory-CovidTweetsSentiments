{
 "cells": [
  {
   "cell_type": "markdown",
   "id": "entire-automation",
   "metadata": {},
   "source": [
    "# **Sentiment Analysis on Corona Virus Tweets**"
   ]
  },
  {
   "cell_type": "code",
   "execution_count": 27,
   "id": "sticky-berkeley",
   "metadata": {},
   "outputs": [
    {
     "name": "stderr",
     "output_type": "stream",
     "text": [
      "C:\\Users\\lenpk\\anaconda3\\envs\\PythonAdv\\lib\\site-packages\\ipykernel_launcher.py:11: FutureWarning: Passing a negative integer is deprecated in version 1.0 and will not be supported in future version. Instead, use None to not limit the column width.\n",
      "  # This is added back by InteractiveShellApp.init_path()\n"
     ]
    }
   ],
   "source": [
    "# import modules\n",
    "import pandas as pd\n",
    "import re\n",
    "import numpy as np\n",
    "import matplotlib.pyplot as plt\n",
    "import seaborn as sns\n",
    "import pickle\n",
    "from pickle import dump\n",
    "%matplotlib inline\n",
    "\n",
    "pd.set_option('display.max_colwidth', -1)"
   ]
  },
  {
   "cell_type": "code",
   "execution_count": 2,
   "id": "egyptian-specialist",
   "metadata": {},
   "outputs": [],
   "source": [
    "# train dataset\n",
    "train = pd.read_csv('Corona_NLP_train.csv', encoding = \"ISO-8859-1\")\n",
    "test= pd.read_csv('Corona_NLP_test.csv', encoding = \"ISO-8859-1\")"
   ]
  },
  {
   "cell_type": "code",
   "execution_count": 3,
   "id": "dimensional-judges",
   "metadata": {},
   "outputs": [],
   "source": [
    "# Combine datasets\n",
    "train['train'] = 1\n",
    "test['test'] = 0"
   ]
  },
  {
   "cell_type": "code",
   "execution_count": 4,
   "id": "innovative-sunglasses",
   "metadata": {},
   "outputs": [],
   "source": [
    "combined = pd.concat([train, test]).reset_index(drop = True)"
   ]
  },
  {
   "cell_type": "code",
   "execution_count": 6,
   "id": "completed-purple",
   "metadata": {},
   "outputs": [
    {
     "data": {
      "text/html": [
       "<div>\n",
       "<style scoped>\n",
       "    .dataframe tbody tr th:only-of-type {\n",
       "        vertical-align: middle;\n",
       "    }\n",
       "\n",
       "    .dataframe tbody tr th {\n",
       "        vertical-align: top;\n",
       "    }\n",
       "\n",
       "    .dataframe thead th {\n",
       "        text-align: right;\n",
       "    }\n",
       "</style>\n",
       "<table border=\"1\" class=\"dataframe\">\n",
       "  <thead>\n",
       "    <tr style=\"text-align: right;\">\n",
       "      <th></th>\n",
       "      <th>UserName</th>\n",
       "      <th>ScreenName</th>\n",
       "      <th>Location</th>\n",
       "      <th>TweetAt</th>\n",
       "      <th>OriginalTweet</th>\n",
       "      <th>Sentiment</th>\n",
       "      <th>train</th>\n",
       "      <th>test</th>\n",
       "    </tr>\n",
       "  </thead>\n",
       "  <tbody>\n",
       "    <tr>\n",
       "      <th>0</th>\n",
       "      <td>3799</td>\n",
       "      <td>48751</td>\n",
       "      <td>London</td>\n",
       "      <td>16-03-2020</td>\n",
       "      <td>@MeNyrbie @Phil_Gahan @Chrisitv https://t.co/iFz9FAn2Pa and https://t.co/xX6ghGFzCC and https://t.co/I2NlzdxNo8</td>\n",
       "      <td>Neutral</td>\n",
       "      <td>1.0</td>\n",
       "      <td>NaN</td>\n",
       "    </tr>\n",
       "    <tr>\n",
       "      <th>1</th>\n",
       "      <td>3800</td>\n",
       "      <td>48752</td>\n",
       "      <td>UK</td>\n",
       "      <td>16-03-2020</td>\n",
       "      <td>advice Talk to your neighbours family to exchange phone numbers create contact list with phone numbers of neighbours schools employer chemist GP set up online shopping accounts if poss adequate supplies of regular meds but not over order</td>\n",
       "      <td>Positive</td>\n",
       "      <td>1.0</td>\n",
       "      <td>NaN</td>\n",
       "    </tr>\n",
       "    <tr>\n",
       "      <th>2</th>\n",
       "      <td>3801</td>\n",
       "      <td>48753</td>\n",
       "      <td>Vagabonds</td>\n",
       "      <td>16-03-2020</td>\n",
       "      <td>Coronavirus Australia: Woolworths to give elderly, disabled dedicated shopping hours amid COVID-19 outbreak https://t.co/bInCA9Vp8P</td>\n",
       "      <td>Positive</td>\n",
       "      <td>1.0</td>\n",
       "      <td>NaN</td>\n",
       "    </tr>\n",
       "    <tr>\n",
       "      <th>3</th>\n",
       "      <td>3802</td>\n",
       "      <td>48754</td>\n",
       "      <td>NaN</td>\n",
       "      <td>16-03-2020</td>\n",
       "      <td>My food stock is not the only one which is empty...\\r\\r\\n\\r\\r\\nPLEASE, don't panic, THERE WILL BE ENOUGH FOOD FOR EVERYONE if you do not take more than you need. \\r\\r\\nStay calm, stay safe.\\r\\r\\n\\r\\r\\n#COVID19france #COVID_19 #COVID19 #coronavirus #confinement #Confinementotal #ConfinementGeneral https://t.co/zrlG0Z520j</td>\n",
       "      <td>Positive</td>\n",
       "      <td>1.0</td>\n",
       "      <td>NaN</td>\n",
       "    </tr>\n",
       "    <tr>\n",
       "      <th>4</th>\n",
       "      <td>3803</td>\n",
       "      <td>48755</td>\n",
       "      <td>NaN</td>\n",
       "      <td>16-03-2020</td>\n",
       "      <td>Me, ready to go at supermarket during the #COVID19 outbreak.\\r\\r\\n\\r\\r\\nNot because I'm paranoid, but because my food stock is litteraly empty. The #coronavirus is a serious thing, but please, don't panic. It causes shortage...\\r\\r\\n\\r\\r\\n#CoronavirusFrance #restezchezvous #StayAtHome #confinement https://t.co/usmuaLq72n</td>\n",
       "      <td>Extremely Negative</td>\n",
       "      <td>1.0</td>\n",
       "      <td>NaN</td>\n",
       "    </tr>\n",
       "  </tbody>\n",
       "</table>\n",
       "</div>"
      ],
      "text/plain": [
       "   UserName  ScreenName   Location     TweetAt  \\\n",
       "0  3799      48751       London     16-03-2020   \n",
       "1  3800      48752       UK         16-03-2020   \n",
       "2  3801      48753       Vagabonds  16-03-2020   \n",
       "3  3802      48754       NaN        16-03-2020   \n",
       "4  3803      48755       NaN        16-03-2020   \n",
       "\n",
       "                                                                                                                                                                                                                                                                                                                        OriginalTweet  \\\n",
       "0  @MeNyrbie @Phil_Gahan @Chrisitv https://t.co/iFz9FAn2Pa and https://t.co/xX6ghGFzCC and https://t.co/I2NlzdxNo8                                                                                                                                                                                                                      \n",
       "1  advice Talk to your neighbours family to exchange phone numbers create contact list with phone numbers of neighbours schools employer chemist GP set up online shopping accounts if poss adequate supplies of regular meds but not over order                                                                                        \n",
       "2  Coronavirus Australia: Woolworths to give elderly, disabled dedicated shopping hours amid COVID-19 outbreak https://t.co/bInCA9Vp8P                                                                                                                                                                                                  \n",
       "3  My food stock is not the only one which is empty...\\r\\r\\n\\r\\r\\nPLEASE, don't panic, THERE WILL BE ENOUGH FOOD FOR EVERYONE if you do not take more than you need. \\r\\r\\nStay calm, stay safe.\\r\\r\\n\\r\\r\\n#COVID19france #COVID_19 #COVID19 #coronavirus #confinement #Confinementotal #ConfinementGeneral https://t.co/zrlG0Z520j    \n",
       "4  Me, ready to go at supermarket during the #COVID19 outbreak.\\r\\r\\n\\r\\r\\nNot because I'm paranoid, but because my food stock is litteraly empty. The #coronavirus is a serious thing, but please, don't panic. It causes shortage...\\r\\r\\n\\r\\r\\n#CoronavirusFrance #restezchezvous #StayAtHome #confinement https://t.co/usmuaLq72n   \n",
       "\n",
       "            Sentiment  train  test  \n",
       "0  Neutral             1.0   NaN    \n",
       "1  Positive            1.0   NaN    \n",
       "2  Positive            1.0   NaN    \n",
       "3  Positive            1.0   NaN    \n",
       "4  Extremely Negative  1.0   NaN    "
      ]
     },
     "execution_count": 6,
     "metadata": {},
     "output_type": "execute_result"
    }
   ],
   "source": [
    "combined.head()"
   ]
  },
  {
   "cell_type": "code",
   "execution_count": 5,
   "id": "confidential-campus",
   "metadata": {},
   "outputs": [
    {
     "name": "stdout",
     "output_type": "stream",
     "text": [
      "<class 'pandas.core.frame.DataFrame'>\n",
      "RangeIndex: 44955 entries, 0 to 44954\n",
      "Data columns (total 8 columns):\n",
      " #   Column         Non-Null Count  Dtype  \n",
      "---  ------         --------------  -----  \n",
      " 0   UserName       44955 non-null  int64  \n",
      " 1   ScreenName     44955 non-null  int64  \n",
      " 2   Location       35531 non-null  object \n",
      " 3   TweetAt        44955 non-null  object \n",
      " 4   OriginalTweet  44955 non-null  object \n",
      " 5   Sentiment      44955 non-null  object \n",
      " 6   train          41157 non-null  float64\n",
      " 7   test           3798 non-null   float64\n",
      "dtypes: float64(2), int64(2), object(4)\n",
      "memory usage: 2.7+ MB\n"
     ]
    }
   ],
   "source": [
    "# inspect combined\n",
    "combined.info()"
   ]
  },
  {
   "cell_type": "code",
   "execution_count": 7,
   "id": "retained-gathering",
   "metadata": {},
   "outputs": [],
   "source": [
    "# replace nans in location\n",
    "# Fill nan values with 'unknown'\n",
    "combined['Location'].fillna('Unknown', inplace = True)"
   ]
  },
  {
   "cell_type": "code",
   "execution_count": 16,
   "id": "ordered-inside",
   "metadata": {},
   "outputs": [
    {
     "name": "stderr",
     "output_type": "stream",
     "text": [
      "C:\\Users\\lenpk\\anaconda3\\envs\\PythonAdv\\lib\\site-packages\\seaborn\\_decorators.py:43: FutureWarning: Pass the following variable as a keyword arg: x. From version 0.12, the only valid positional argument will be `data`, and passing other arguments without an explicit keyword will result in an error or misinterpretation.\n",
      "  FutureWarning\n"
     ]
    },
    {
     "data": {
      "image/png": "[encoded data removed]",
      "text/plain": [
       "<Figure size 842.4x595.44 with 1 Axes>"
      ]
     },
     "metadata": {},
     "output_type": "display_data"
    }
   ],
   "source": [
    "# Plot sentiment data\n",
    "sns.set_style('ticks')\n",
    "fig, ax = plt.subplots()\n",
    "# the size of A4 paper\n",
    "fig.set_size_inches(11.7, 8.27)\n",
    "sns.countplot(combined['Sentiment'], order=combined['Sentiment'].value_counts(ascending=False).index, ax=ax)\n",
    "plt.savefig('originalSentiments.png')\n",
    "plt.show()"
   ]
  },
  {
   "cell_type": "code",
   "execution_count": 10,
   "id": "worst-jackson",
   "metadata": {},
   "outputs": [
    {
     "data": {
      "text/plain": [
       "Positive              0.275142\n",
       "Negative              0.243755\n",
       "Neutral               0.185341\n",
       "Extremely Positive    0.160672\n",
       "Extremely Negative    0.135091\n",
       "Name: Sentiment, dtype: float64"
      ]
     },
     "execution_count": 10,
     "metadata": {},
     "output_type": "execute_result"
    }
   ],
   "source": [
    "# check contribution of each category\n",
    "sentiment_order=combined['Sentiment'].value_counts(normalize = True)\n",
    "sentiment_order"
   ]
  },
  {
   "cell_type": "code",
   "execution_count": 11,
   "id": "opening-vocabulary",
   "metadata": {},
   "outputs": [],
   "source": [
    "# Positive and Negative make up half of the Sentiment values about 27% and 24% respectively.\n",
    "# Extreme values both make up about 30% of the Sentiment while 18% make up Neutral Sentiments.\n",
    "# This project will focus on binary text classification.\n",
    "# Convert Extreme Sentiments to their respective lower values of Positive and Negative\n",
    "# Neutral Values will be dropped"
   ]
  },
  {
   "cell_type": "code",
   "execution_count": 12,
   "id": "intense-rebel",
   "metadata": {},
   "outputs": [],
   "source": [
    "# replace the extreme values\n",
    "combined.replace({'Extremely Positive': 'Positive', 'Extremely Negative': 'Negative'}, inplace = True)"
   ]
  },
  {
   "cell_type": "code",
   "execution_count": 13,
   "id": "starting-response",
   "metadata": {},
   "outputs": [],
   "source": [
    "# Extract data with only positive and negative sentiments\n",
    "ml_data_filtered =combined.loc[(combined['Sentiment'] == 'Positive') | (combined['Sentiment'] == 'Negative')].reset_index(drop = True)"
   ]
  },
  {
   "cell_type": "code",
   "execution_count": 14,
   "id": "logical-lebanon",
   "metadata": {},
   "outputs": [
    {
     "data": {
      "text/html": [
       "<div>\n",
       "<style scoped>\n",
       "    .dataframe tbody tr th:only-of-type {\n",
       "        vertical-align: middle;\n",
       "    }\n",
       "\n",
       "    .dataframe tbody tr th {\n",
       "        vertical-align: top;\n",
       "    }\n",
       "\n",
       "    .dataframe thead th {\n",
       "        text-align: right;\n",
       "    }\n",
       "</style>\n",
       "<table border=\"1\" class=\"dataframe\">\n",
       "  <thead>\n",
       "    <tr style=\"text-align: right;\">\n",
       "      <th></th>\n",
       "      <th>UserName</th>\n",
       "      <th>ScreenName</th>\n",
       "      <th>Location</th>\n",
       "      <th>TweetAt</th>\n",
       "      <th>text</th>\n",
       "      <th>class</th>\n",
       "      <th>train</th>\n",
       "      <th>test</th>\n",
       "    </tr>\n",
       "  </thead>\n",
       "  <tbody>\n",
       "    <tr>\n",
       "      <th>0</th>\n",
       "      <td>3800</td>\n",
       "      <td>48752</td>\n",
       "      <td>UK</td>\n",
       "      <td>16-03-2020</td>\n",
       "      <td>advice Talk to your neighbours family to exchange phone numbers create contact list with phone numbers of neighbours schools employer chemist GP set up online shopping accounts if poss adequate supplies of regular meds but not over order</td>\n",
       "      <td>Positive</td>\n",
       "      <td>1.0</td>\n",
       "      <td>NaN</td>\n",
       "    </tr>\n",
       "    <tr>\n",
       "      <th>1</th>\n",
       "      <td>3801</td>\n",
       "      <td>48753</td>\n",
       "      <td>Vagabonds</td>\n",
       "      <td>16-03-2020</td>\n",
       "      <td>Coronavirus Australia: Woolworths to give elderly, disabled dedicated shopping hours amid COVID-19 outbreak https://t.co/bInCA9Vp8P</td>\n",
       "      <td>Positive</td>\n",
       "      <td>1.0</td>\n",
       "      <td>NaN</td>\n",
       "    </tr>\n",
       "    <tr>\n",
       "      <th>2</th>\n",
       "      <td>3802</td>\n",
       "      <td>48754</td>\n",
       "      <td>Unknown</td>\n",
       "      <td>16-03-2020</td>\n",
       "      <td>My food stock is not the only one which is empty...\\r\\r\\n\\r\\r\\nPLEASE, don't panic, THERE WILL BE ENOUGH FOOD FOR EVERYONE if you do not take more than you need. \\r\\r\\nStay calm, stay safe.\\r\\r\\n\\r\\r\\n#COVID19france #COVID_19 #COVID19 #coronavirus #confinement #Confinementotal #ConfinementGeneral https://t.co/zrlG0Z520j</td>\n",
       "      <td>Positive</td>\n",
       "      <td>1.0</td>\n",
       "      <td>NaN</td>\n",
       "    </tr>\n",
       "    <tr>\n",
       "      <th>3</th>\n",
       "      <td>3803</td>\n",
       "      <td>48755</td>\n",
       "      <td>Unknown</td>\n",
       "      <td>16-03-2020</td>\n",
       "      <td>Me, ready to go at supermarket during the #COVID19 outbreak.\\r\\r\\n\\r\\r\\nNot because I'm paranoid, but because my food stock is litteraly empty. The #coronavirus is a serious thing, but please, don't panic. It causes shortage...\\r\\r\\n\\r\\r\\n#CoronavirusFrance #restezchezvous #StayAtHome #confinement https://t.co/usmuaLq72n</td>\n",
       "      <td>Negative</td>\n",
       "      <td>1.0</td>\n",
       "      <td>NaN</td>\n",
       "    </tr>\n",
       "    <tr>\n",
       "      <th>4</th>\n",
       "      <td>3804</td>\n",
       "      <td>48756</td>\n",
       "      <td>ÃT: 36.319708,-82.363649</td>\n",
       "      <td>16-03-2020</td>\n",
       "      <td>As news of the regionÂs first confirmed COVID-19 case came out of Sullivan County last week, people flocked to area stores to purchase cleaning supplies, hand sanitizer, food, toilet paper and other goods, @Tim_Dodson reports https://t.co/cfXch7a2lU</td>\n",
       "      <td>Positive</td>\n",
       "      <td>1.0</td>\n",
       "      <td>NaN</td>\n",
       "    </tr>\n",
       "  </tbody>\n",
       "</table>\n",
       "</div>"
      ],
      "text/plain": [
       "   UserName  ScreenName                   Location     TweetAt  \\\n",
       "0  3800      48752       UK                         16-03-2020   \n",
       "1  3801      48753       Vagabonds                  16-03-2020   \n",
       "2  3802      48754       Unknown                    16-03-2020   \n",
       "3  3803      48755       Unknown                    16-03-2020   \n",
       "4  3804      48756       ÃT: 36.319708,-82.363649  16-03-2020   \n",
       "\n",
       "                                                                                                                                                                                                                                                                                                                                 text  \\\n",
       "0  advice Talk to your neighbours family to exchange phone numbers create contact list with phone numbers of neighbours schools employer chemist GP set up online shopping accounts if poss adequate supplies of regular meds but not over order                                                                                        \n",
       "1  Coronavirus Australia: Woolworths to give elderly, disabled dedicated shopping hours amid COVID-19 outbreak https://t.co/bInCA9Vp8P                                                                                                                                                                                                  \n",
       "2  My food stock is not the only one which is empty...\\r\\r\\n\\r\\r\\nPLEASE, don't panic, THERE WILL BE ENOUGH FOOD FOR EVERYONE if you do not take more than you need. \\r\\r\\nStay calm, stay safe.\\r\\r\\n\\r\\r\\n#COVID19france #COVID_19 #COVID19 #coronavirus #confinement #Confinementotal #ConfinementGeneral https://t.co/zrlG0Z520j    \n",
       "3  Me, ready to go at supermarket during the #COVID19 outbreak.\\r\\r\\n\\r\\r\\nNot because I'm paranoid, but because my food stock is litteraly empty. The #coronavirus is a serious thing, but please, don't panic. It causes shortage...\\r\\r\\n\\r\\r\\n#CoronavirusFrance #restezchezvous #StayAtHome #confinement https://t.co/usmuaLq72n   \n",
       "4  As news of the regionÂs first confirmed COVID-19 case came out of Sullivan County last week, people flocked to area stores to purchase cleaning supplies, hand sanitizer, food, toilet paper and other goods, @Tim_Dodson reports https://t.co/cfXch7a2lU                                                                           \n",
       "\n",
       "      class  train  test  \n",
       "0  Positive  1.0   NaN    \n",
       "1  Positive  1.0   NaN    \n",
       "2  Positive  1.0   NaN    \n",
       "3  Negative  1.0   NaN    \n",
       "4  Positive  1.0   NaN    "
      ]
     },
     "execution_count": 14,
     "metadata": {},
     "output_type": "execute_result"
    }
   ],
   "source": [
    "# rename columns to class and text\n",
    "df = ml_data_filtered.rename(columns = {'OriginalTweet': 'text', 'Sentiment': 'class'})\n",
    "df.head()"
   ]
  },
  {
   "cell_type": "code",
   "execution_count": 17,
   "id": "plastic-shuttle",
   "metadata": {},
   "outputs": [
    {
     "name": "stderr",
     "output_type": "stream",
     "text": [
      "C:\\Users\\lenpk\\anaconda3\\envs\\PythonAdv\\lib\\site-packages\\seaborn\\_decorators.py:43: FutureWarning: Pass the following variable as a keyword arg: x. From version 0.12, the only valid positional argument will be `data`, and passing other arguments without an explicit keyword will result in an error or misinterpretation.\n",
      "  FutureWarning\n"
     ]
    },
    {
     "data": {
      "image/png": "[encoded data removed]",
      "text/plain": [
       "<Figure size 842.4x595.44 with 1 Axes>"
      ]
     },
     "metadata": {},
     "output_type": "display_data"
    }
   ],
   "source": [
    "# Plot new sentiment data\n",
    "sns.set_style('ticks')\n",
    "fig, ax = plt.subplots()\n",
    "# the size of A4 paper\n",
    "fig.set_size_inches(11.7, 8.27)\n",
    "sns.countplot(df['class'], order=df['class'].value_counts(ascending=False).index, ax=ax)\n",
    "plt.savefig('binarySentiments.png')\n",
    "plt.show()"
   ]
  },
  {
   "cell_type": "code",
   "execution_count": 18,
   "id": "approved-share",
   "metadata": {},
   "outputs": [],
   "source": [
    "# import sklearn libraries for machine learning models"
   ]
  },
  {
   "cell_type": "code",
   "execution_count": 19,
   "id": "removed-today",
   "metadata": {},
   "outputs": [],
   "source": [
    "from sklearn.model_selection import train_test_split\n",
    "from sklearn.feature_extraction.text import CountVectorizer\n",
    "from sklearn.feature_extraction.text import TfidfTransformer\n",
    "from sklearn.naive_bayes import MultinomialNB\n",
    "\n",
    "from sklearn.linear_model import LogisticRegression\n",
    "from sklearn.ensemble import RandomForestClassifier\n",
    "from sklearn.svm import LinearSVC, SVC\n",
    "from sklearn.model_selection import cross_val_score\n",
    "from sklearn.model_selection import GridSearchCV \n",
    "from sklearn.metrics import classification_report, confusion_matrix "
   ]
  },
  {
   "cell_type": "code",
   "execution_count": 21,
   "id": "driving-replacement",
   "metadata": {},
   "outputs": [
    {
     "name": "stdout",
     "output_type": "stream",
     "text": [
      "There are 2 labels in the dataset\n"
     ]
    }
   ],
   "source": [
    "# get list of labels for plotting confucion matrix\n",
    "labels = df['class'].unique()\n",
    "print(f'There are {len(labels)} labels in the dataset')"
   ]
  },
  {
   "cell_type": "code",
   "execution_count": 22,
   "id": "comprehensive-coverage",
   "metadata": {},
   "outputs": [],
   "source": [
    "# Text Preprocessing\n",
    "# This project employs a two step text preprocessing:\n",
    "# 1. CountVectorizer - This method transforms the text into a count (vector) of tokens.\n",
    "# 2. TfidTransformer - This method transforms vector into a matrix by logging the tfd"
   ]
  },
  {
   "cell_type": "code",
   "execution_count": 23,
   "id": "entertaining-tokyo",
   "metadata": {},
   "outputs": [],
   "source": [
    "# Count Vectorizer\n",
    "cnt_vec = CountVectorizer(max_features=10000)\n",
    "cnt_vec.fit(df['text'])\n",
    "text_cnt_vec = cnt_vec.transform(df['text'])"
   ]
  },
  {
   "cell_type": "code",
   "execution_count": 24,
   "id": "built-radiation",
   "metadata": {},
   "outputs": [],
   "source": [
    "# TFID Transformer\n",
    "tfidf_transformer = TfidfTransformer()\n",
    "text_tfidf = tfidf_transformer.fit_transform(text_cnt_vec)"
   ]
  },
  {
   "cell_type": "code",
   "execution_count": 28,
   "id": "stylish-friendship",
   "metadata": {},
   "outputs": [],
   "source": [
    "# Save preprocessing-transformation\n",
    "dump(text_tfidf, open('text_tfidf.pkl', 'wb'))"
   ]
  },
  {
   "cell_type": "code",
   "execution_count": 26,
   "id": "divine-trinidad",
   "metadata": {},
   "outputs": [
    {
     "data": {
      "text/plain": [
       "((33444, 10000), (3179, 10000), (33444,), (3179,))"
      ]
     },
     "execution_count": 26,
     "metadata": {},
     "output_type": "execute_result"
    }
   ],
   "source": [
    "# Separate data into respective training and test sets\n",
    "X_train = text_tfidf[df['train'] == 1]\n",
    "X_test = text_tfidf[df['test'] == 0]\n",
    "\n",
    "y_train = df['class'][df['train'] == 1]\n",
    "y_test = df['class'][df['test'] == 0]\n",
    "\n",
    "X_train.shape, X_test.shape, y_train.shape, y_test.shape"
   ]
  },
  {
   "cell_type": "code",
   "execution_count": null,
   "id": "handled-updating",
   "metadata": {},
   "outputs": [],
   "source": []
  }
 ],
 "metadata": {
  "kernelspec": {
   "display_name": "Python [conda env:pythonadv] *",
   "language": "python",
   "name": "conda-env-pythonadv-py"
  },
  "language_info": {
   "codemirror_mode": {
    "name": "ipython",
    "version": 3
   },
   "file_extension": ".py",
   "mimetype": "text/x-python",
   "name": "python",
   "nbconvert_exporter": "python",
   "pygments_lexer": "ipython3",
   "version": "3.6.12"
  }
 },
 "nbformat": 4,
 "nbformat_minor": 5
}

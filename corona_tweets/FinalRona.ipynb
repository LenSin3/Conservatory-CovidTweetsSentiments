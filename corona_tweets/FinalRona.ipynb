{
 "cells": [
  {
   "cell_type": "markdown",
   "id": "classical-mercury",
   "metadata": {},
   "source": [
    "# **Sentiment Analysis on Corona Virus Tweets**"
   ]
  },
  {
   "cell_type": "code",
   "execution_count": 1,
   "id": "blocked-antenna",
   "metadata": {},
   "outputs": [
    {
     "name": "stderr",
     "output_type": "stream",
     "text": [
      "C:\\Users\\lenpk\\anaconda3\\envs\\PythonAdv\\lib\\site-packages\\ipykernel_launcher.py:11: FutureWarning: Passing a negative integer is deprecated in version 1.0 and will not be supported in future version. Instead, use None to not limit the column width.\n",
      "  # This is added back by InteractiveShellApp.init_path()\n"
     ]
    }
   ],
   "source": [
    "# import modules\n",
    "import pandas as pd\n",
    "import re\n",
    "import numpy as np\n",
    "import matplotlib.pyplot as plt\n",
    "import seaborn as sns\n",
    "import pickle\n",
    "from pickle import dump\n",
    "%matplotlib inline\n",
    "\n",
    "pd.set_option('display.max_colwidth', -1)"
   ]
  },
  {
   "cell_type": "code",
   "execution_count": 2,
   "id": "suspended-newton",
   "metadata": {},
   "outputs": [],
   "source": [
    "# train dataset\n",
    "train = pd.read_csv('Corona_NLP_train.csv', encoding = \"ISO-8859-1\")\n",
    "test= pd.read_csv('Corona_NLP_test.csv', encoding = \"ISO-8859-1\")"
   ]
  },
  {
   "cell_type": "code",
   "execution_count": 3,
   "id": "existing-grade",
   "metadata": {},
   "outputs": [],
   "source": [
    "# Combine datasets\n",
    "train['train'] = 1\n",
    "test['test'] = 0"
   ]
  },
  {
   "cell_type": "code",
   "execution_count": 4,
   "id": "clear-badge",
   "metadata": {},
   "outputs": [],
   "source": [
    "combined = pd.concat([train, test]).reset_index(drop = True)"
   ]
  },
  {
   "cell_type": "code",
   "execution_count": 5,
   "id": "junior-mapping",
   "metadata": {},
   "outputs": [
    {
     "data": {
      "text/html": [
       "<div>\n",
       "<style scoped>\n",
       "    .dataframe tbody tr th:only-of-type {\n",
       "        vertical-align: middle;\n",
       "    }\n",
       "\n",
       "    .dataframe tbody tr th {\n",
       "        vertical-align: top;\n",
       "    }\n",
       "\n",
       "    .dataframe thead th {\n",
       "        text-align: right;\n",
       "    }\n",
       "</style>\n",
       "<table border=\"1\" class=\"dataframe\">\n",
       "  <thead>\n",
       "    <tr style=\"text-align: right;\">\n",
       "      <th></th>\n",
       "      <th>UserName</th>\n",
       "      <th>ScreenName</th>\n",
       "      <th>Location</th>\n",
       "      <th>TweetAt</th>\n",
       "      <th>OriginalTweet</th>\n",
       "      <th>Sentiment</th>\n",
       "      <th>train</th>\n",
       "      <th>test</th>\n",
       "    </tr>\n",
       "  </thead>\n",
       "  <tbody>\n",
       "    <tr>\n",
       "      <th>44950</th>\n",
       "      <td>3794</td>\n",
       "      <td>48746</td>\n",
       "      <td>Israel ??</td>\n",
       "      <td>16-03-2020</td>\n",
       "      <td>Meanwhile In A Supermarket in Israel -- People dance and sing together to stay positive. ? #CoronaVirus https://t.co/VLLqGI3R16</td>\n",
       "      <td>Positive</td>\n",
       "      <td>NaN</td>\n",
       "      <td>0.0</td>\n",
       "    </tr>\n",
       "    <tr>\n",
       "      <th>44951</th>\n",
       "      <td>3795</td>\n",
       "      <td>48747</td>\n",
       "      <td>Farmington, NM</td>\n",
       "      <td>16-03-2020</td>\n",
       "      <td>Did you panic buy a lot of non-perishable items? ECHO needs food donations. It is also looking for volunteers to pack boxes. Volunteers will be screened to be sure they don't have COVID-19. https://t.co/TST4Vjhbu4</td>\n",
       "      <td>Negative</td>\n",
       "      <td>NaN</td>\n",
       "      <td>0.0</td>\n",
       "    </tr>\n",
       "    <tr>\n",
       "      <th>44952</th>\n",
       "      <td>3796</td>\n",
       "      <td>48748</td>\n",
       "      <td>Haverford, PA</td>\n",
       "      <td>16-03-2020</td>\n",
       "      <td>Asst Prof of Economics @cconces was on @NBCPhiladelphia talking about her recent research on coronavirus' impact on the economy. Watch it here (starting at :33): https://t.co/8tfYNoro5l</td>\n",
       "      <td>Neutral</td>\n",
       "      <td>NaN</td>\n",
       "      <td>0.0</td>\n",
       "    </tr>\n",
       "    <tr>\n",
       "      <th>44953</th>\n",
       "      <td>3797</td>\n",
       "      <td>48749</td>\n",
       "      <td>NaN</td>\n",
       "      <td>16-03-2020</td>\n",
       "      <td>Gov need to do somethings instead of biar je rakyat assume 'lockdown' ke or even worst. Harini semua supermarket crowded like hell. Lagi mudah virus tu tersebar ?? #COVID2019</td>\n",
       "      <td>Extremely Negative</td>\n",
       "      <td>NaN</td>\n",
       "      <td>0.0</td>\n",
       "    </tr>\n",
       "    <tr>\n",
       "      <th>44954</th>\n",
       "      <td>3798</td>\n",
       "      <td>48750</td>\n",
       "      <td>Arlington, Virginia</td>\n",
       "      <td>16-03-2020</td>\n",
       "      <td>I and @ForestandPaper members are committed to the safety of our employees and our end-users. We are monitoring COVID-19. Rest assured that tissue manufacturers are continuing to produce and ship products.  https://t.co/qF6hclCAEq https://t.co/xyvbNsFeXA</td>\n",
       "      <td>Extremely Positive</td>\n",
       "      <td>NaN</td>\n",
       "      <td>0.0</td>\n",
       "    </tr>\n",
       "  </tbody>\n",
       "</table>\n",
       "</div>"
      ],
      "text/plain": [
       "       UserName  ScreenName             Location     TweetAt  \\\n",
       "44950  3794      48746       Israel ??            16-03-2020   \n",
       "44951  3795      48747       Farmington, NM       16-03-2020   \n",
       "44952  3796      48748       Haverford, PA        16-03-2020   \n",
       "44953  3797      48749       NaN                  16-03-2020   \n",
       "44954  3798      48750       Arlington, Virginia  16-03-2020   \n",
       "\n",
       "                                                                                                                                                                                                                                                        OriginalTweet  \\\n",
       "44950  Meanwhile In A Supermarket in Israel -- People dance and sing together to stay positive. ? #CoronaVirus https://t.co/VLLqGI3R16                                                                                                                                  \n",
       "44951  Did you panic buy a lot of non-perishable items? ECHO needs food donations. It is also looking for volunteers to pack boxes. Volunteers will be screened to be sure they don't have COVID-19. https://t.co/TST4Vjhbu4                                            \n",
       "44952  Asst Prof of Economics @cconces was on @NBCPhiladelphia talking about her recent research on coronavirus' impact on the economy. Watch it here (starting at :33): https://t.co/8tfYNoro5l                                                                        \n",
       "44953  Gov need to do somethings instead of biar je rakyat assume 'lockdown' ke or even worst. Harini semua supermarket crowded like hell. Lagi mudah virus tu tersebar ?? #COVID2019                                                                                   \n",
       "44954  I and @ForestandPaper members are committed to the safety of our employees and our end-users. We are monitoring COVID-19. Rest assured that tissue manufacturers are continuing to produce and ship products.  https://t.co/qF6hclCAEq https://t.co/xyvbNsFeXA   \n",
       "\n",
       "                Sentiment  train  test  \n",
       "44950  Positive           NaN     0.0   \n",
       "44951  Negative           NaN     0.0   \n",
       "44952  Neutral            NaN     0.0   \n",
       "44953  Extremely Negative NaN     0.0   \n",
       "44954  Extremely Positive NaN     0.0   "
      ]
     },
     "execution_count": 5,
     "metadata": {},
     "output_type": "execute_result"
    }
   ],
   "source": [
    "combined.tail()"
   ]
  },
  {
   "cell_type": "code",
   "execution_count": 6,
   "id": "sexual-constitutional",
   "metadata": {},
   "outputs": [
    {
     "name": "stdout",
     "output_type": "stream",
     "text": [
      "<class 'pandas.core.frame.DataFrame'>\n",
      "RangeIndex: 44955 entries, 0 to 44954\n",
      "Data columns (total 8 columns):\n",
      " #   Column         Non-Null Count  Dtype  \n",
      "---  ------         --------------  -----  \n",
      " 0   UserName       44955 non-null  int64  \n",
      " 1   ScreenName     44955 non-null  int64  \n",
      " 2   Location       35531 non-null  object \n",
      " 3   TweetAt        44955 non-null  object \n",
      " 4   OriginalTweet  44955 non-null  object \n",
      " 5   Sentiment      44955 non-null  object \n",
      " 6   train          41157 non-null  float64\n",
      " 7   test           3798 non-null   float64\n",
      "dtypes: float64(2), int64(2), object(4)\n",
      "memory usage: 2.7+ MB\n"
     ]
    }
   ],
   "source": [
    "# inspect combined\n",
    "combined.info()"
   ]
  },
  {
   "cell_type": "code",
   "execution_count": 7,
   "id": "usual-ballot",
   "metadata": {},
   "outputs": [],
   "source": [
    "# replace nans in location\n",
    "# Fill nan values with 'unknown'\n",
    "combined['Location'].fillna('Unknown', inplace = True)"
   ]
  },
  {
   "cell_type": "code",
   "execution_count": 16,
   "id": "accredited-diagnosis",
   "metadata": {},
   "outputs": [
    {
     "name": "stderr",
     "output_type": "stream",
     "text": [
      "C:\\Users\\lenpk\\anaconda3\\envs\\PythonAdv\\lib\\site-packages\\seaborn\\_decorators.py:43: FutureWarning: Pass the following variable as a keyword arg: x. From version 0.12, the only valid positional argument will be `data`, and passing other arguments without an explicit keyword will result in an error or misinterpretation.\n",
      "  FutureWarning\n"
     ]
    },
    {
     "data": {
      "image/png": "[encoded data removed]",
      "text/plain": [
       "<Figure size 842.4x595.44 with 1 Axes>"
      ]
     },
     "metadata": {},
     "output_type": "display_data"
    }
   ],
   "source": [
    "# Plot sentiment data\n",
    "sns.set_style('ticks')\n",
    "fig, ax = plt.subplots()\n",
    "# the size of A4 paper\n",
    "fig.set_size_inches(11.7, 8.27)\n",
    "sns.countplot(combined['Sentiment'], order=combined['Sentiment'].value_counts(ascending=False).index, ax=ax)\n",
    "plt.savefig('originalSentiments.png')\n",
    "plt.show()"
   ]
  },
  {
   "cell_type": "code",
   "execution_count": 10,
   "id": "concrete-stick",
   "metadata": {},
   "outputs": [
    {
     "data": {
      "text/plain": [
       "Positive              0.275142\n",
       "Negative              0.243755\n",
       "Neutral               0.185341\n",
       "Extremely Positive    0.160672\n",
       "Extremely Negative    0.135091\n",
       "Name: Sentiment, dtype: float64"
      ]
     },
     "execution_count": 10,
     "metadata": {},
     "output_type": "execute_result"
    }
   ],
   "source": [
    "# check contribution of each category\n",
    "sentiment_order=combined['Sentiment'].value_counts(normalize = True)\n",
    "sentiment_order"
   ]
  },
  {
   "cell_type": "code",
   "execution_count": 11,
   "id": "pressing-colonial",
   "metadata": {},
   "outputs": [],
   "source": [
    "# Positive and Negative make up half of the Sentiment values about 27% and 24% respectively.\n",
    "# Extreme values both make up about 30% of the Sentiment while 18% make up Neutral Sentiments.\n",
    "# This project will focus on binary text classification.\n",
    "# Convert Extreme Sentiments to their respective lower values of Positive and Negative\n",
    "# Neutral Values will be dropped"
   ]
  },
  {
   "cell_type": "code",
   "execution_count": 8,
   "id": "presidential-berlin",
   "metadata": {},
   "outputs": [],
   "source": [
    "# replace the extreme values\n",
    "combined.replace({'Extremely Positive': 'Positive', 'Extremely Negative': 'Negative'}, inplace = True)"
   ]
  },
  {
   "cell_type": "code",
   "execution_count": 13,
   "id": "alleged-italian",
   "metadata": {},
   "outputs": [],
   "source": [
    "# Extract data with only positive and negative sentiments\n",
    "# ml_data_filtered =combined.loc[(combined['Sentiment'] == 'Positive') | (combined['Sentiment'] == 'Negative')].reset_index(drop = True)"
   ]
  },
  {
   "cell_type": "code",
   "execution_count": 9,
   "id": "angry-lover",
   "metadata": {},
   "outputs": [
    {
     "data": {
      "text/html": [
       "<div>\n",
       "<style scoped>\n",
       "    .dataframe tbody tr th:only-of-type {\n",
       "        vertical-align: middle;\n",
       "    }\n",
       "\n",
       "    .dataframe tbody tr th {\n",
       "        vertical-align: top;\n",
       "    }\n",
       "\n",
       "    .dataframe thead th {\n",
       "        text-align: right;\n",
       "    }\n",
       "</style>\n",
       "<table border=\"1\" class=\"dataframe\">\n",
       "  <thead>\n",
       "    <tr style=\"text-align: right;\">\n",
       "      <th></th>\n",
       "      <th>UserName</th>\n",
       "      <th>ScreenName</th>\n",
       "      <th>Location</th>\n",
       "      <th>TweetAt</th>\n",
       "      <th>text</th>\n",
       "      <th>class</th>\n",
       "      <th>train</th>\n",
       "      <th>test</th>\n",
       "    </tr>\n",
       "  </thead>\n",
       "  <tbody>\n",
       "    <tr>\n",
       "      <th>44950</th>\n",
       "      <td>3794</td>\n",
       "      <td>48746</td>\n",
       "      <td>Israel ??</td>\n",
       "      <td>16-03-2020</td>\n",
       "      <td>Meanwhile In A Supermarket in Israel -- People dance and sing together to stay positive. ? #CoronaVirus https://t.co/VLLqGI3R16</td>\n",
       "      <td>Positive</td>\n",
       "      <td>NaN</td>\n",
       "      <td>0.0</td>\n",
       "    </tr>\n",
       "    <tr>\n",
       "      <th>44951</th>\n",
       "      <td>3795</td>\n",
       "      <td>48747</td>\n",
       "      <td>Farmington, NM</td>\n",
       "      <td>16-03-2020</td>\n",
       "      <td>Did you panic buy a lot of non-perishable items? ECHO needs food donations. It is also looking for volunteers to pack boxes. Volunteers will be screened to be sure they don't have COVID-19. https://t.co/TST4Vjhbu4</td>\n",
       "      <td>Negative</td>\n",
       "      <td>NaN</td>\n",
       "      <td>0.0</td>\n",
       "    </tr>\n",
       "    <tr>\n",
       "      <th>44952</th>\n",
       "      <td>3796</td>\n",
       "      <td>48748</td>\n",
       "      <td>Haverford, PA</td>\n",
       "      <td>16-03-2020</td>\n",
       "      <td>Asst Prof of Economics @cconces was on @NBCPhiladelphia talking about her recent research on coronavirus' impact on the economy. Watch it here (starting at :33): https://t.co/8tfYNoro5l</td>\n",
       "      <td>Neutral</td>\n",
       "      <td>NaN</td>\n",
       "      <td>0.0</td>\n",
       "    </tr>\n",
       "    <tr>\n",
       "      <th>44953</th>\n",
       "      <td>3797</td>\n",
       "      <td>48749</td>\n",
       "      <td>Unknown</td>\n",
       "      <td>16-03-2020</td>\n",
       "      <td>Gov need to do somethings instead of biar je rakyat assume 'lockdown' ke or even worst. Harini semua supermarket crowded like hell. Lagi mudah virus tu tersebar ?? #COVID2019</td>\n",
       "      <td>Negative</td>\n",
       "      <td>NaN</td>\n",
       "      <td>0.0</td>\n",
       "    </tr>\n",
       "    <tr>\n",
       "      <th>44954</th>\n",
       "      <td>3798</td>\n",
       "      <td>48750</td>\n",
       "      <td>Arlington, Virginia</td>\n",
       "      <td>16-03-2020</td>\n",
       "      <td>I and @ForestandPaper members are committed to the safety of our employees and our end-users. We are monitoring COVID-19. Rest assured that tissue manufacturers are continuing to produce and ship products.  https://t.co/qF6hclCAEq https://t.co/xyvbNsFeXA</td>\n",
       "      <td>Positive</td>\n",
       "      <td>NaN</td>\n",
       "      <td>0.0</td>\n",
       "    </tr>\n",
       "  </tbody>\n",
       "</table>\n",
       "</div>"
      ],
      "text/plain": [
       "       UserName  ScreenName             Location     TweetAt  \\\n",
       "44950  3794      48746       Israel ??            16-03-2020   \n",
       "44951  3795      48747       Farmington, NM       16-03-2020   \n",
       "44952  3796      48748       Haverford, PA        16-03-2020   \n",
       "44953  3797      48749       Unknown              16-03-2020   \n",
       "44954  3798      48750       Arlington, Virginia  16-03-2020   \n",
       "\n",
       "                                                                                                                                                                                                                                                                 text  \\\n",
       "44950  Meanwhile In A Supermarket in Israel -- People dance and sing together to stay positive. ? #CoronaVirus https://t.co/VLLqGI3R16                                                                                                                                  \n",
       "44951  Did you panic buy a lot of non-perishable items? ECHO needs food donations. It is also looking for volunteers to pack boxes. Volunteers will be screened to be sure they don't have COVID-19. https://t.co/TST4Vjhbu4                                            \n",
       "44952  Asst Prof of Economics @cconces was on @NBCPhiladelphia talking about her recent research on coronavirus' impact on the economy. Watch it here (starting at :33): https://t.co/8tfYNoro5l                                                                        \n",
       "44953  Gov need to do somethings instead of biar je rakyat assume 'lockdown' ke or even worst. Harini semua supermarket crowded like hell. Lagi mudah virus tu tersebar ?? #COVID2019                                                                                   \n",
       "44954  I and @ForestandPaper members are committed to the safety of our employees and our end-users. We are monitoring COVID-19. Rest assured that tissue manufacturers are continuing to produce and ship products.  https://t.co/qF6hclCAEq https://t.co/xyvbNsFeXA   \n",
       "\n",
       "          class  train  test  \n",
       "44950  Positive NaN     0.0   \n",
       "44951  Negative NaN     0.0   \n",
       "44952  Neutral  NaN     0.0   \n",
       "44953  Negative NaN     0.0   \n",
       "44954  Positive NaN     0.0   "
      ]
     },
     "execution_count": 9,
     "metadata": {},
     "output_type": "execute_result"
    }
   ],
   "source": [
    "# rename columns to class and text\n",
    "df = combined.rename(columns = {'OriginalTweet': 'text', 'Sentiment': 'class'})\n",
    "df.tail()"
   ]
  },
  {
   "cell_type": "code",
   "execution_count": 10,
   "id": "convinced-nicaragua",
   "metadata": {},
   "outputs": [
    {
     "name": "stderr",
     "output_type": "stream",
     "text": [
      "C:\\Users\\lenpk\\anaconda3\\envs\\PythonAdv\\lib\\site-packages\\seaborn\\_decorators.py:43: FutureWarning: Pass the following variable as a keyword arg: x. From version 0.12, the only valid positional argument will be `data`, and passing other arguments without an explicit keyword will result in an error or misinterpretation.\n",
      "  FutureWarning\n"
     ]
    },
    {
     "data": {
      "image/png": "[encoded data removed]",
      "text/plain": [
       "<Figure size 842.4x595.44 with 1 Axes>"
      ]
     },
     "metadata": {},
     "output_type": "display_data"
    }
   ],
   "source": [
    "# Plot new sentiment data\n",
    "sns.set_style('ticks')\n",
    "fig, ax = plt.subplots()\n",
    "# the size of A4 paper\n",
    "fig.set_size_inches(11.7, 8.27)\n",
    "sns.countplot(df['class'], order=df['class'].value_counts(ascending=False).index, ax=ax)\n",
    "plt.savefig('binarySentiments.png')\n",
    "plt.show()"
   ]
  },
  {
   "cell_type": "code",
   "execution_count": 18,
   "id": "suitable-youth",
   "metadata": {},
   "outputs": [],
   "source": [
    "# import sklearn libraries for machine learning models"
   ]
  },
  {
   "cell_type": "code",
   "execution_count": 11,
   "id": "fluid-plasma",
   "metadata": {},
   "outputs": [],
   "source": [
    "from sklearn.model_selection import train_test_split\n",
    "from sklearn.preprocessing import LabelEncoder\n",
    "from sklearn.feature_extraction.text import CountVectorizer\n",
    "from sklearn.feature_extraction.text import TfidfTransformer\n",
    "from sklearn.naive_bayes import MultinomialNB\n",
    "\n",
    "from sklearn.linear_model import LogisticRegression\n",
    "from sklearn.ensemble import RandomForestClassifier\n",
    "from sklearn.svm import LinearSVC, SVC\n",
    "from sklearn.model_selection import cross_val_score\n",
    "from sklearn.model_selection import GridSearchCV \n",
    "from sklearn.metrics import classification_report, confusion_matrix "
   ]
  },
  {
   "cell_type": "code",
   "execution_count": 12,
   "id": "occupied-authorization",
   "metadata": {},
   "outputs": [],
   "source": [
    "le = LabelEncoder()\n",
    "y_encoded = le.fit_transform(df['class'])"
   ]
  },
  {
   "cell_type": "code",
   "execution_count": 13,
   "id": "documentary-thumb",
   "metadata": {},
   "outputs": [],
   "source": [
    "df['class_id'] = [x for x in y_encoded]"
   ]
  },
  {
   "cell_type": "code",
   "execution_count": 14,
   "id": "molecular-crime",
   "metadata": {},
   "outputs": [
    {
     "data": {
      "text/html": [
       "<div>\n",
       "<style scoped>\n",
       "    .dataframe tbody tr th:only-of-type {\n",
       "        vertical-align: middle;\n",
       "    }\n",
       "\n",
       "    .dataframe tbody tr th {\n",
       "        vertical-align: top;\n",
       "    }\n",
       "\n",
       "    .dataframe thead th {\n",
       "        text-align: right;\n",
       "    }\n",
       "</style>\n",
       "<table border=\"1\" class=\"dataframe\">\n",
       "  <thead>\n",
       "    <tr style=\"text-align: right;\">\n",
       "      <th></th>\n",
       "      <th>UserName</th>\n",
       "      <th>ScreenName</th>\n",
       "      <th>Location</th>\n",
       "      <th>TweetAt</th>\n",
       "      <th>text</th>\n",
       "      <th>class</th>\n",
       "      <th>train</th>\n",
       "      <th>test</th>\n",
       "      <th>class_id</th>\n",
       "    </tr>\n",
       "  </thead>\n",
       "  <tbody>\n",
       "    <tr>\n",
       "      <th>0</th>\n",
       "      <td>3799</td>\n",
       "      <td>48751</td>\n",
       "      <td>London</td>\n",
       "      <td>16-03-2020</td>\n",
       "      <td>@MeNyrbie @Phil_Gahan @Chrisitv https://t.co/iFz9FAn2Pa and https://t.co/xX6ghGFzCC and https://t.co/I2NlzdxNo8</td>\n",
       "      <td>Neutral</td>\n",
       "      <td>1.0</td>\n",
       "      <td>NaN</td>\n",
       "      <td>1</td>\n",
       "    </tr>\n",
       "    <tr>\n",
       "      <th>1</th>\n",
       "      <td>3800</td>\n",
       "      <td>48752</td>\n",
       "      <td>UK</td>\n",
       "      <td>16-03-2020</td>\n",
       "      <td>advice Talk to your neighbours family to exchange phone numbers create contact list with phone numbers of neighbours schools employer chemist GP set up online shopping accounts if poss adequate supplies of regular meds but not over order</td>\n",
       "      <td>Positive</td>\n",
       "      <td>1.0</td>\n",
       "      <td>NaN</td>\n",
       "      <td>2</td>\n",
       "    </tr>\n",
       "    <tr>\n",
       "      <th>2</th>\n",
       "      <td>3801</td>\n",
       "      <td>48753</td>\n",
       "      <td>Vagabonds</td>\n",
       "      <td>16-03-2020</td>\n",
       "      <td>Coronavirus Australia: Woolworths to give elderly, disabled dedicated shopping hours amid COVID-19 outbreak https://t.co/bInCA9Vp8P</td>\n",
       "      <td>Positive</td>\n",
       "      <td>1.0</td>\n",
       "      <td>NaN</td>\n",
       "      <td>2</td>\n",
       "    </tr>\n",
       "    <tr>\n",
       "      <th>3</th>\n",
       "      <td>3802</td>\n",
       "      <td>48754</td>\n",
       "      <td>Unknown</td>\n",
       "      <td>16-03-2020</td>\n",
       "      <td>My food stock is not the only one which is empty...\\r\\r\\n\\r\\r\\nPLEASE, don't panic, THERE WILL BE ENOUGH FOOD FOR EVERYONE if you do not take more than you need. \\r\\r\\nStay calm, stay safe.\\r\\r\\n\\r\\r\\n#COVID19france #COVID_19 #COVID19 #coronavirus #confinement #Confinementotal #ConfinementGeneral https://t.co/zrlG0Z520j</td>\n",
       "      <td>Positive</td>\n",
       "      <td>1.0</td>\n",
       "      <td>NaN</td>\n",
       "      <td>2</td>\n",
       "    </tr>\n",
       "    <tr>\n",
       "      <th>4</th>\n",
       "      <td>3803</td>\n",
       "      <td>48755</td>\n",
       "      <td>Unknown</td>\n",
       "      <td>16-03-2020</td>\n",
       "      <td>Me, ready to go at supermarket during the #COVID19 outbreak.\\r\\r\\n\\r\\r\\nNot because I'm paranoid, but because my food stock is litteraly empty. The #coronavirus is a serious thing, but please, don't panic. It causes shortage...\\r\\r\\n\\r\\r\\n#CoronavirusFrance #restezchezvous #StayAtHome #confinement https://t.co/usmuaLq72n</td>\n",
       "      <td>Negative</td>\n",
       "      <td>1.0</td>\n",
       "      <td>NaN</td>\n",
       "      <td>0</td>\n",
       "    </tr>\n",
       "  </tbody>\n",
       "</table>\n",
       "</div>"
      ],
      "text/plain": [
       "   UserName  ScreenName   Location     TweetAt  \\\n",
       "0  3799      48751       London     16-03-2020   \n",
       "1  3800      48752       UK         16-03-2020   \n",
       "2  3801      48753       Vagabonds  16-03-2020   \n",
       "3  3802      48754       Unknown    16-03-2020   \n",
       "4  3803      48755       Unknown    16-03-2020   \n",
       "\n",
       "                                                                                                                                                                                                                                                                                                                                 text  \\\n",
       "0  @MeNyrbie @Phil_Gahan @Chrisitv https://t.co/iFz9FAn2Pa and https://t.co/xX6ghGFzCC and https://t.co/I2NlzdxNo8                                                                                                                                                                                                                      \n",
       "1  advice Talk to your neighbours family to exchange phone numbers create contact list with phone numbers of neighbours schools employer chemist GP set up online shopping accounts if poss adequate supplies of regular meds but not over order                                                                                        \n",
       "2  Coronavirus Australia: Woolworths to give elderly, disabled dedicated shopping hours amid COVID-19 outbreak https://t.co/bInCA9Vp8P                                                                                                                                                                                                  \n",
       "3  My food stock is not the only one which is empty...\\r\\r\\n\\r\\r\\nPLEASE, don't panic, THERE WILL BE ENOUGH FOOD FOR EVERYONE if you do not take more than you need. \\r\\r\\nStay calm, stay safe.\\r\\r\\n\\r\\r\\n#COVID19france #COVID_19 #COVID19 #coronavirus #confinement #Confinementotal #ConfinementGeneral https://t.co/zrlG0Z520j    \n",
       "4  Me, ready to go at supermarket during the #COVID19 outbreak.\\r\\r\\n\\r\\r\\nNot because I'm paranoid, but because my food stock is litteraly empty. The #coronavirus is a serious thing, but please, don't panic. It causes shortage...\\r\\r\\n\\r\\r\\n#CoronavirusFrance #restezchezvous #StayAtHome #confinement https://t.co/usmuaLq72n   \n",
       "\n",
       "      class  train  test  class_id  \n",
       "0  Neutral   1.0   NaN    1         \n",
       "1  Positive  1.0   NaN    2         \n",
       "2  Positive  1.0   NaN    2         \n",
       "3  Positive  1.0   NaN    2         \n",
       "4  Negative  1.0   NaN    0         "
      ]
     },
     "execution_count": 14,
     "metadata": {},
     "output_type": "execute_result"
    }
   ],
   "source": [
    "df.head()"
   ]
  },
  {
   "cell_type": "code",
   "execution_count": 27,
   "id": "operating-swimming",
   "metadata": {},
   "outputs": [
    {
     "name": "stdout",
     "output_type": "stream",
     "text": [
      "There are 3 labels in the dataset\n"
     ]
    }
   ],
   "source": [
    "# get list of labels for plotting confucion matrix\n",
    "labels = df['class'].unique()\n",
    "print(f'There are {len(labels)} labels in the dataset')"
   ]
  },
  {
   "cell_type": "code",
   "execution_count": 22,
   "id": "cultural-hartford",
   "metadata": {},
   "outputs": [],
   "source": [
    "# Text Preprocessing\n",
    "# This project employs a two step text preprocessing:\n",
    "# 1. CountVectorizer - This method transforms the text into a count (vector) of tokens.\n",
    "# 2. TfidTransformer - This method transforms vector into a matrix by logging the tfd"
   ]
  },
  {
   "cell_type": "code",
   "execution_count": 15,
   "id": "honey-brief",
   "metadata": {},
   "outputs": [],
   "source": [
    "# Count Vectorizer\n",
    "cnt_vec = CountVectorizer(max_features=10000)\n",
    "cnt_vec.fit(df['text'])\n",
    "text_cnt_vec = cnt_vec.transform(df['text'])"
   ]
  },
  {
   "cell_type": "code",
   "execution_count": 16,
   "id": "congressional-sellers",
   "metadata": {},
   "outputs": [],
   "source": [
    "# TFID Transformer\n",
    "tfidf_transformer = TfidfTransformer()\n",
    "text_tfidf = tfidf_transformer.fit_transform(text_cnt_vec)"
   ]
  },
  {
   "cell_type": "code",
   "execution_count": 28,
   "id": "nuclear-floating",
   "metadata": {},
   "outputs": [],
   "source": [
    "# Save preprocessing-transformation\n",
    "dump(text_tfidf, open('text_tfidf.pkl', 'wb'))"
   ]
  },
  {
   "cell_type": "code",
   "execution_count": 17,
   "id": "introductory-professional",
   "metadata": {},
   "outputs": [
    {
     "data": {
      "text/plain": [
       "((41157, 10000), (3798, 10000), (41157,), (3798,))"
      ]
     },
     "execution_count": 17,
     "metadata": {},
     "output_type": "execute_result"
    }
   ],
   "source": [
    "# Separate data into respective training and test sets\n",
    "X_train = text_tfidf[df['train'] == 1]\n",
    "X_test = text_tfidf[df['test'] == 0]\n",
    "\n",
    "y_train = df['class_id'][df['train'] == 1]\n",
    "y_test = df['class_id'][df['test'] == 0]\n",
    "\n",
    "X_train.shape, X_test.shape, y_train.shape, y_test.shape"
   ]
  },
  {
   "cell_type": "code",
   "execution_count": 18,
   "id": "meaning-essence",
   "metadata": {},
   "outputs": [
    {
     "data": {
      "text/plain": [
       "LogisticRegression(max_iter=1000)"
      ]
     },
     "execution_count": 18,
     "metadata": {},
     "output_type": "execute_result"
    }
   ],
   "source": [
    "# Logistic Regression\n",
    "clf_lr = LogisticRegression(max_iter = 1000)\n",
    "clf_lr.fit(X_train, y_train)"
   ]
  },
  {
   "cell_type": "code",
   "execution_count": 20,
   "id": "fifth-cheese",
   "metadata": {},
   "outputs": [
    {
     "name": "stdout",
     "output_type": "stream",
     "text": [
      "Accuracy: 0.8056872037914692\n"
     ]
    }
   ],
   "source": [
    "# cheeck the score\n",
    "clf_lr_score = clf_lr.score(X_test, y_test)\n",
    "print(\"Accuracy:\", clf_lr_score)"
   ]
  },
  {
   "cell_type": "code",
   "execution_count": null,
   "id": "angry-forth",
   "metadata": {},
   "outputs": [],
   "source": [
    "# An accuracy of ~85% is a good start. \n",
    "# Hyper parameter tuning will be applied to see if there is an improvement on the score"
   ]
  },
  {
   "cell_type": "code",
   "execution_count": 21,
   "id": "characteristic-miami",
   "metadata": {},
   "outputs": [],
   "source": [
    "# prediction\n",
    "clf_lr_predict = clf_lr.predict(X_test)"
   ]
  },
  {
   "cell_type": "code",
   "execution_count": 22,
   "id": "golden-senate",
   "metadata": {},
   "outputs": [],
   "source": [
    "# Logistic Regression Gridsearch\n",
    "grid_clf_lr = LogisticRegression(max_iter = 1000)\n",
    "grid_values = {'penalty': ['l2'], 'C': [0.001,0.01,0.1,1,10]}\n",
    "grid_lr = GridSearchCV(grid_clf_lr, param_grid=grid_values)"
   ]
  },
  {
   "cell_type": "code",
   "execution_count": 23,
   "id": "public-rainbow",
   "metadata": {},
   "outputs": [
    {
     "data": {
      "text/plain": [
       "GridSearchCV(estimator=LogisticRegression(max_iter=1000),\n",
       "             param_grid={'C': [0.001, 0.01, 0.1, 1, 10], 'penalty': ['l2']})"
      ]
     },
     "execution_count": 23,
     "metadata": {},
     "output_type": "execute_result"
    }
   ],
   "source": [
    "grid_lr.fit(X_train, y_train)"
   ]
  },
  {
   "cell_type": "code",
   "execution_count": 24,
   "id": "eligible-yemen",
   "metadata": {},
   "outputs": [
    {
     "name": "stdout",
     "output_type": "stream",
     "text": [
      "{'C': 10, 'penalty': 'l2'}\n",
      "LogisticRegression(C=10, max_iter=1000)\n"
     ]
    }
   ],
   "source": [
    "# print best parameter after tuning \n",
    "print(grid_lr.best_params_) \n",
    "\n",
    "# print how our model looks after hyper-parameter tuning \n",
    "print(grid_lr.best_estimator_) "
   ]
  },
  {
   "cell_type": "code",
   "execution_count": 25,
   "id": "insured-checkout",
   "metadata": {},
   "outputs": [
    {
     "name": "stdout",
     "output_type": "stream",
     "text": [
      "              precision    recall  f1-score   support\n",
      "\n",
      "           0       0.84      0.83      0.83      1633\n",
      "           1       0.75      0.70      0.72       619\n",
      "           2       0.83      0.86      0.84      1546\n",
      "\n",
      "    accuracy                           0.82      3798\n",
      "   macro avg       0.80      0.80      0.80      3798\n",
      "weighted avg       0.82      0.82      0.82      3798\n",
      "\n"
     ]
    }
   ],
   "source": [
    "# check performance\n",
    "grid_lr_predictions = grid_lr.predict(X_test) \n",
    "\n",
    "# print classification report \n",
    "print(classification_report(y_test, grid_lr_predictions)) "
   ]
  },
  {
   "cell_type": "code",
   "execution_count": 42,
   "id": "planned-andrew",
   "metadata": {},
   "outputs": [],
   "source": [
    "# model accuracy improved from 85% to 88%"
   ]
  },
  {
   "cell_type": "code",
   "execution_count": 28,
   "id": "proper-coverage",
   "metadata": {},
   "outputs": [
    {
     "data": {
      "image/png": "[encoded data removed]",
      "text/plain": [
       "<Figure size 432x288 with 2 Axes>"
      ]
     },
     "metadata": {},
     "output_type": "display_data"
    },
    {
     "data": {
      "text/plain": [
       "<Figure size 720x504 with 0 Axes>"
      ]
     },
     "metadata": {},
     "output_type": "display_data"
    }
   ],
   "source": [
    "# Plot confusion matrix\n",
    "\n",
    "#import the relevant packages\n",
    "from sklearn import metrics\n",
    "\n",
    "#get the confusion matrix\n",
    "confusion_matrix = metrics.confusion_matrix(y_test,  \n",
    "                                            grid_lr_predictions)\n",
    "#turn this into a dataframe\n",
    "matrix_df = pd.DataFrame(confusion_matrix)\n",
    "#plot the result\n",
    "ax = plt.axes()\n",
    "sns.set(font_scale=1.3)\n",
    "plt.figure(figsize=(10,7))\n",
    "sns.heatmap(matrix_df, annot=True, fmt=\"g\", ax=ax, cmap=\"magma\")\n",
    "#set axis titles\n",
    "ax.set_title('Confusion Matrix - LogisticRegression GSCV')\n",
    "ax.set_xlabel(\"Predicted label\", fontsize =15)\n",
    "ax.set_xticklabels(['']+labels, rotation = 90)\n",
    "ax.set_ylabel(\"True Label\", fontsize=15)\n",
    "ax.set_yticklabels(list(labels), rotation = 0)\n",
    "plt.savefig('cfm-lrGSCV.png')\n",
    "plt.show()"
   ]
  },
  {
   "cell_type": "code",
   "execution_count": 45,
   "id": "verbal-genius",
   "metadata": {},
   "outputs": [],
   "source": [
    "# Save model\n",
    "dump(grid_lr, open('grid_lr.pkl', 'wb'))"
   ]
  },
  {
   "cell_type": "code",
   "execution_count": 46,
   "id": "dental-marine",
   "metadata": {},
   "outputs": [],
   "source": [
    "##############################################"
   ]
  },
  {
   "cell_type": "code",
   "execution_count": 47,
   "id": "inclusive-inquiry",
   "metadata": {},
   "outputs": [],
   "source": [
    "# LinearSVC"
   ]
  },
  {
   "cell_type": "code",
   "execution_count": 29,
   "id": "cooked-witch",
   "metadata": {},
   "outputs": [
    {
     "data": {
      "text/plain": [
       "LinearSVC()"
      ]
     },
     "execution_count": 29,
     "metadata": {},
     "output_type": "execute_result"
    }
   ],
   "source": [
    "# Instantiate the model\n",
    "clf_lvc = LinearSVC()\n",
    "clf_lvc.fit(X_train, y_train)"
   ]
  },
  {
   "cell_type": "code",
   "execution_count": 30,
   "id": "appointed-phenomenon",
   "metadata": {},
   "outputs": [
    {
     "name": "stdout",
     "output_type": "stream",
     "text": [
      "Accurace: 0.8317535545023697\n"
     ]
    }
   ],
   "source": [
    "score_lvc = clf_lvc.score(X_test, y_test)\n",
    "print(f'Accurace:', score_lvc)"
   ]
  },
  {
   "cell_type": "code",
   "execution_count": 31,
   "id": "packed-substance",
   "metadata": {},
   "outputs": [],
   "source": [
    "# Predict\n",
    "clf_lvc_predict = clf_lvc.predict(X_test)"
   ]
  },
  {
   "cell_type": "code",
   "execution_count": 32,
   "id": "excellent-numbers",
   "metadata": {},
   "outputs": [
    {
     "name": "stdout",
     "output_type": "stream",
     "text": [
      "Fitting 5 folds for each of 5 candidates, totalling 25 fits\n",
      "[CV] C=0.1 ...........................................................\n"
     ]
    },
    {
     "name": "stderr",
     "output_type": "stream",
     "text": [
      "[Parallel(n_jobs=1)]: Using backend SequentialBackend with 1 concurrent workers.\n"
     ]
    },
    {
     "name": "stdout",
     "output_type": "stream",
     "text": [
      "[CV] ............................... C=0.1, score=0.781, total=   0.5s\n",
      "[CV] C=0.1 ...........................................................\n"
     ]
    },
    {
     "name": "stderr",
     "output_type": "stream",
     "text": [
      "[Parallel(n_jobs=1)]: Done   1 out of   1 | elapsed:    0.4s remaining:    0.0s\n"
     ]
    },
    {
     "name": "stdout",
     "output_type": "stream",
     "text": [
      "[CV] ............................... C=0.1, score=0.783, total=   0.5s\n",
      "[CV] C=0.1 ...........................................................\n"
     ]
    },
    {
     "name": "stderr",
     "output_type": "stream",
     "text": [
      "[Parallel(n_jobs=1)]: Done   2 out of   2 | elapsed:    0.8s remaining:    0.0s\n"
     ]
    },
    {
     "name": "stdout",
     "output_type": "stream",
     "text": [
      "[CV] ............................... C=0.1, score=0.781, total=   0.5s\n",
      "[CV] C=0.1 ...........................................................\n",
      "[CV] ............................... C=0.1, score=0.783, total=   0.5s\n",
      "[CV] C=0.1 ...........................................................\n",
      "[CV] ............................... C=0.1, score=0.789, total=   0.5s\n",
      "[CV] C=1 .............................................................\n",
      "[CV] ................................. C=1, score=0.812, total=   1.2s\n",
      "[CV] C=1 .............................................................\n",
      "[CV] ................................. C=1, score=0.815, total=   1.1s\n",
      "[CV] C=1 .............................................................\n",
      "[CV] ................................. C=1, score=0.808, total=   1.1s\n",
      "[CV] C=1 .............................................................\n",
      "[CV] ................................. C=1, score=0.814, total=   1.1s\n",
      "[CV] C=1 .............................................................\n",
      "[CV] ................................. C=1, score=0.815, total=   1.2s\n",
      "[CV] C=10 ............................................................\n",
      "[CV] ................................ C=10, score=0.782, total=   8.1s\n",
      "[CV] C=10 ............................................................\n",
      "[CV] ................................ C=10, score=0.792, total=   6.1s\n",
      "[CV] C=10 ............................................................\n",
      "[CV] ................................ C=10, score=0.777, total=   6.1s\n",
      "[CV] C=10 ............................................................\n",
      "[CV] ................................ C=10, score=0.777, total=   6.1s\n",
      "[CV] C=10 ............................................................\n",
      "[CV] ................................ C=10, score=0.787, total=   7.0s\n",
      "[CV] C=100 ...........................................................\n"
     ]
    },
    {
     "name": "stderr",
     "output_type": "stream",
     "text": [
      "C:\\Users\\lenpk\\anaconda3\\envs\\PythonAdv\\lib\\site-packages\\sklearn\\svm\\_base.py:977: ConvergenceWarning: Liblinear failed to converge, increase the number of iterations.\n",
      "  \"the number of iterations.\", ConvergenceWarning)\n"
     ]
    },
    {
     "name": "stdout",
     "output_type": "stream",
     "text": [
      "[CV] ............................... C=100, score=0.737, total=  11.6s\n",
      "[CV] C=100 ...........................................................\n",
      "[CV] ............................... C=100, score=0.753, total=  12.4s\n",
      "[CV] C=100 ...........................................................\n",
      "[CV] ............................... C=100, score=0.726, total=  12.4s\n",
      "[CV] C=100 ...........................................................\n",
      "[CV] ............................... C=100, score=0.733, total=  13.2s\n",
      "[CV] C=100 ...........................................................\n",
      "[CV] ............................... C=100, score=0.735, total=  11.7s\n",
      "[CV] C=1000 ..........................................................\n",
      "[CV] .............................. C=1000, score=0.720, total=  12.6s\n",
      "[CV] C=1000 ..........................................................\n",
      "[CV] .............................. C=1000, score=0.736, total=  12.4s\n",
      "[CV] C=1000 ..........................................................\n",
      "[CV] .............................. C=1000, score=0.705, total=  14.1s\n",
      "[CV] C=1000 ..........................................................\n",
      "[CV] .............................. C=1000, score=0.711, total=  13.3s\n",
      "[CV] C=1000 ..........................................................\n",
      "[CV] .............................. C=1000, score=0.714, total=  13.5s\n"
     ]
    },
    {
     "name": "stderr",
     "output_type": "stream",
     "text": [
      "[Parallel(n_jobs=1)]: Done  25 out of  25 | elapsed:  2.8min finished\n"
     ]
    },
    {
     "data": {
      "text/plain": [
       "GridSearchCV(estimator=LinearSVC(), param_grid={'C': [0.1, 1, 10, 100, 1000]},\n",
       "             verbose=3)"
      ]
     },
     "execution_count": 32,
     "metadata": {},
     "output_type": "execute_result"
    }
   ],
   "source": [
    "# Grid search for linearSVC\n",
    "# defining parameter range \n",
    "param_grid = {'C': [0.1, 1, 10, 100, 1000]}  \n",
    "  \n",
    "grid_lvc = GridSearchCV(LinearSVC(), param_grid, refit = True, verbose = 3) \n",
    "  \n",
    "# fitting the model for grid search \n",
    "grid_lvc.fit(X_train, y_train)"
   ]
  },
  {
   "cell_type": "code",
   "execution_count": 33,
   "id": "editorial-technical",
   "metadata": {},
   "outputs": [
    {
     "name": "stdout",
     "output_type": "stream",
     "text": [
      "{'C': 1}\n",
      "LinearSVC(C=1)\n"
     ]
    }
   ],
   "source": [
    "# print best parameter after tuning \n",
    "print(grid_lvc.best_params_) \n",
    "\n",
    "# print how our model looks after hyper-parameter tuning \n",
    "print(grid_lvc.best_estimator_) \n"
   ]
  },
  {
   "cell_type": "code",
   "execution_count": 34,
   "id": "narrative-flooring",
   "metadata": {},
   "outputs": [
    {
     "name": "stdout",
     "output_type": "stream",
     "text": [
      "              precision    recall  f1-score   support\n",
      "\n",
      "           0       0.84      0.84      0.84      1633\n",
      "           1       0.78      0.71      0.74       619\n",
      "           2       0.84      0.87      0.85      1546\n",
      "\n",
      "    accuracy                           0.83      3798\n",
      "   macro avg       0.82      0.81      0.81      3798\n",
      "weighted avg       0.83      0.83      0.83      3798\n",
      "\n"
     ]
    }
   ],
   "source": [
    "# check performance\n",
    "grid_lvc_predictions = grid_lvc.predict(X_test) \n",
    "\n",
    "# print classification report \n",
    "print(classification_report(y_test, grid_lvc_predictions)) "
   ]
  },
  {
   "cell_type": "code",
   "execution_count": 35,
   "id": "molecular-saturn",
   "metadata": {},
   "outputs": [
    {
     "data": {
      "image/png": "[encoded data removed]",
      "text/plain": [
       "<Figure size 432x288 with 2 Axes>"
      ]
     },
     "metadata": {},
     "output_type": "display_data"
    },
    {
     "data": {
      "text/plain": [
       "<Figure size 720x504 with 0 Axes>"
      ]
     },
     "metadata": {},
     "output_type": "display_data"
    }
   ],
   "source": [
    "#get the confusion matrix\n",
    "confusion_matrix = metrics.confusion_matrix(y_test,  \n",
    "                                            grid_lvc_predictions)\n",
    "#turn this into a dataframe\n",
    "matrix_df = pd.DataFrame(confusion_matrix)\n",
    "#plot the result\n",
    "ax = plt.axes()\n",
    "sns.set(font_scale=1.3)\n",
    "plt.figure(figsize=(10,7))\n",
    "sns.heatmap(matrix_df, annot=True, fmt=\"g\", ax=ax, cmap=\"magma\")\n",
    "#set axis titles\n",
    "ax.set_title('Confusion Matrix - LinearSVC GSCV')\n",
    "ax.set_xlabel(\"Predicted label\", fontsize =15)\n",
    "ax.set_xticklabels(['']+labels, rotation = 90)\n",
    "ax.set_ylabel(\"True Label\", fontsize=15)\n",
    "ax.set_yticklabels(list(labels), rotation = 0)\n",
    "plt.savefig('cfm-lvcGSCV.png')\n",
    "plt.show()"
   ]
  },
  {
   "cell_type": "code",
   "execution_count": 56,
   "id": "previous-parade",
   "metadata": {},
   "outputs": [],
   "source": [
    "# little improvement from original model\n",
    "# Save the model\n",
    "\n",
    "dump(grid_lvc, open('grid_lsvc.pkl', 'wb'))"
   ]
  },
  {
   "cell_type": "code",
   "execution_count": 57,
   "id": "graduate-engine",
   "metadata": {},
   "outputs": [],
   "source": [
    "####################################################################"
   ]
  },
  {
   "cell_type": "code",
   "execution_count": 36,
   "id": "right-flush",
   "metadata": {},
   "outputs": [
    {
     "data": {
      "text/plain": [
       "RandomForestClassifier()"
      ]
     },
     "execution_count": 36,
     "metadata": {},
     "output_type": "execute_result"
    }
   ],
   "source": [
    "# RandomForestClassifier\n",
    "rf = RandomForestClassifier()\n",
    "rf.fit(X_train, y_train)"
   ]
  },
  {
   "cell_type": "code",
   "execution_count": 37,
   "id": "indie-palace",
   "metadata": {},
   "outputs": [
    {
     "name": "stdout",
     "output_type": "stream",
     "text": [
      "Accuracy: 0.6750921537651395\n"
     ]
    }
   ],
   "source": [
    "rf_score = rf.score(X_test, y_test)\n",
    "print(\"Accuracy:\", rf_score)"
   ]
  },
  {
   "cell_type": "code",
   "execution_count": 73,
   "id": "hairy-chocolate",
   "metadata": {},
   "outputs": [
    {
     "data": {
      "text/plain": [
       "\"\\nparam_grid = {\\n             'bootstrap': [True, False],\\n             'max_depth': [10, 20],\\n             'max_features': ['auto', 'sqrt'],\\n             'min_samples_leaf': [1, 2],\\n             'min_samples_split': [2, 5],\\n             'n_estimators': [100, 200]}  \\n  \\ngrid_rfc = GridSearchCV(RandomForestClassifier(), param_grid, refit = True, verbose = 3) \\n  \\n# fitting the model for grid search \\ngrid_rfc.fit(X_train, y_train)\\n\""
      ]
     },
     "execution_count": 73,
     "metadata": {},
     "output_type": "execute_result"
    }
   ],
   "source": [
    "# Grid Search for Random Forest Classifier\n",
    "# defining parameter range \n",
    "\n",
    "\"\"\"\n",
    "param_grid = {\n",
    "             'bootstrap': [True, False],\n",
    "             'max_depth': [10, 20],\n",
    "             'max_features': ['auto', 'sqrt'],\n",
    "             'min_samples_leaf': [1, 2],\n",
    "             'min_samples_split': [2, 5],\n",
    "             'n_estimators': [100, 200]}  \n",
    "  \n",
    "grid_rfc = GridSearchCV(RandomForestClassifier(), param_grid, refit = True, verbose = 3) \n",
    "  \n",
    "# fitting the model for grid search \n",
    "grid_rfc.fit(X_train, y_train)\n",
    "\"\"\"\n"
   ]
  },
  {
   "cell_type": "code",
   "execution_count": 71,
   "id": "continental-cabinet",
   "metadata": {},
   "outputs": [
    {
     "name": "stdout",
     "output_type": "stream",
     "text": [
      "{'bootstrap': False, 'max_depth': 20, 'max_features': 'auto', 'min_samples_leaf': 1, 'min_samples_split': 2, 'n_estimators': 200}\n",
      "RandomForestClassifier(bootstrap=False, max_depth=20, n_estimators=200)\n"
     ]
    }
   ],
   "source": [
    "\"\"\"\n",
    "# print best parameter after tuning \n",
    "print(grid_rfc.best_params_) \n",
    "\n",
    "# print how our model looks after hyper-parameter tuning \n",
    "print(grid_rfc.best_estimator_) \n",
    "\"\"\"\n"
   ]
  },
  {
   "cell_type": "code",
   "execution_count": 74,
   "id": "lightweight-lecture",
   "metadata": {},
   "outputs": [
    {
     "data": {
      "text/plain": [
       "'\\n# check performance\\ngrid_rfc_predictions = grid_rfc.predict(X_test) \\n\\n# print classification report \\nprint(classification_report(y_test, grid_rfc_predictions)) \\n'"
      ]
     },
     "execution_count": 74,
     "metadata": {},
     "output_type": "execute_result"
    }
   ],
   "source": [
    "\"\"\"\n",
    "# check performance\n",
    "grid_rfc_predictions = grid_rfc.predict(X_test) \n",
    "\n",
    "# print classification report \n",
    "print(classification_report(y_test, grid_rfc_predictions)) \n",
    "\"\"\"\n"
   ]
  },
  {
   "cell_type": "code",
   "execution_count": 75,
   "id": "solid-internet",
   "metadata": {},
   "outputs": [],
   "source": [
    "############################################"
   ]
  },
  {
   "cell_type": "code",
   "execution_count": 38,
   "id": "competitive-replica",
   "metadata": {},
   "outputs": [
    {
     "data": {
      "text/plain": [
       "MultinomialNB()"
      ]
     },
     "execution_count": 38,
     "metadata": {},
     "output_type": "execute_result"
    }
   ],
   "source": [
    "# Naive Bayes\n",
    "clf_nb = MultinomialNB()\n",
    "clf_nb.fit(X_train, y_train)"
   ]
  },
  {
   "cell_type": "code",
   "execution_count": 39,
   "id": "optional-dynamics",
   "metadata": {},
   "outputs": [
    {
     "name": "stdout",
     "output_type": "stream",
     "text": [
      "Accuracy: 0.6727224855186941\n"
     ]
    }
   ],
   "source": [
    "clf_score = clf_nb.score(X_test, y_test)\n",
    "print(\"Accuracy:\", clf_score)"
   ]
  },
  {
   "cell_type": "code",
   "execution_count": null,
   "id": "certain-trail",
   "metadata": {},
   "outputs": [],
   "source": [
    "# Withn these four models, Logistic Regression model will be the ideal model for deployment in the web."
   ]
  }
 ],
 "metadata": {
  "kernelspec": {
   "display_name": "Python [conda env:pythonadv] *",
   "language": "python",
   "name": "conda-env-pythonadv-py"
  },
  "language_info": {
   "codemirror_mode": {
    "name": "ipython",
    "version": 3
   },
   "file_extension": ".py",
   "mimetype": "text/x-python",
   "name": "python",
   "nbconvert_exporter": "python",
   "pygments_lexer": "ipython3",
   "version": "3.6.12"
  }
 },
 "nbformat": 4,
 "nbformat_minor": 5
}

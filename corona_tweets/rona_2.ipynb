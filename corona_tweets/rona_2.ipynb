{
 "cells": [
  {
   "cell_type": "code",
   "execution_count": 1,
   "id": "dietary-brand",
   "metadata": {},
   "outputs": [
    {
     "name": "stderr",
     "output_type": "stream",
     "text": [
      "C:\\Users\\lenpk\\anaconda3\\envs\\PythonAdv\\lib\\site-packages\\ipykernel_launcher.py:12: FutureWarning: Passing a negative integer is deprecated in version 1.0 and will not be supported in future version. Instead, use None to not limit the column width.\n",
      "  if sys.path[0] == '':\n"
     ]
    }
   ],
   "source": [
    "import pandas as pd\n",
    "import gzip\n",
    "import json\n",
    "\n",
    "\n",
    "import re\n",
    "import numpy as np\n",
    "import matplotlib.pyplot as plt\n",
    "import seaborn as sns\n",
    "%matplotlib inline\n",
    "\n",
    "pd.set_option('display.max_colwidth', -1)"
   ]
  },
  {
   "cell_type": "code",
   "execution_count": 2,
   "id": "automotive-sustainability",
   "metadata": {},
   "outputs": [],
   "source": [
    "# train dataset\n",
    "train = pd.read_csv('Corona_NLP_train.csv', encoding = \"ISO-8859-1\")\n",
    "test= pd.read_csv('Corona_NLP_test.csv', encoding = \"ISO-8859-1\")"
   ]
  },
  {
   "cell_type": "code",
   "execution_count": 3,
   "id": "anonymous-journal",
   "metadata": {},
   "outputs": [],
   "source": [
    "# Combine datasets\n",
    "train['train'] = 1\n",
    "test['test'] = 0"
   ]
  },
  {
   "cell_type": "code",
   "execution_count": 4,
   "id": "isolated-motion",
   "metadata": {},
   "outputs": [],
   "source": [
    "combined = pd.concat([train, test]).reset_index(drop = True)"
   ]
  },
  {
   "cell_type": "code",
   "execution_count": 5,
   "id": "numerical-necessity",
   "metadata": {},
   "outputs": [],
   "source": [
    "# Fill nan values with 'unknown'\n",
    "combined['Location'].fillna('Unknown', inplace = True)"
   ]
  },
  {
   "cell_type": "code",
   "execution_count": 6,
   "id": "toxic-japan",
   "metadata": {
    "scrolled": true
   },
   "outputs": [
    {
     "name": "stderr",
     "output_type": "stream",
     "text": [
      "C:\\Users\\lenpk\\anaconda3\\envs\\PythonAdv\\lib\\site-packages\\seaborn\\_decorators.py:43: FutureWarning: Pass the following variable as a keyword arg: x. From version 0.12, the only valid positional argument will be `data`, and passing other arguments without an explicit keyword will result in an error or misinterpretation.\n",
      "  FutureWarning\n"
     ]
    },
    {
     "data": {
      "image/png": "[encoded data removed]",
      "text/plain": [
       "<Figure size 842.4x595.44 with 1 Axes>"
      ]
     },
     "metadata": {},
     "output_type": "display_data"
    }
   ],
   "source": [
    "# Plot sentiment data\n",
    "sns.set_style('ticks')\n",
    "fig, ax = plt.subplots()\n",
    "# the size of A4 paper\n",
    "fig.set_size_inches(11.7, 8.27)\n",
    "sns.countplot(combined['Sentiment'], order=combined['Sentiment'].value_counts(ascending=False).index, ax=ax)\n",
    "plt.show()"
   ]
  },
  {
   "cell_type": "code",
   "execution_count": 7,
   "id": "affiliated-satellite",
   "metadata": {},
   "outputs": [],
   "source": [
    "combined.replace({'Extremely Positive': 'Positive', 'Extremely Negative': 'Negative'}, inplace = True)"
   ]
  },
  {
   "cell_type": "code",
   "execution_count": null,
   "id": "absent-going",
   "metadata": {},
   "outputs": [],
   "source": []
  },
  {
   "cell_type": "code",
   "execution_count": 9,
   "id": "constitutional-metropolitan",
   "metadata": {},
   "outputs": [],
   "source": [
    "ml_data_filtered =combined.loc[(combined['Sentiment'] == 'Positive') | (combined['Sentiment'] == 'Negative')].reset_index(drop = True)"
   ]
  },
  {
   "cell_type": "code",
   "execution_count": null,
   "id": "disturbed-binary",
   "metadata": {},
   "outputs": [],
   "source": []
  },
  {
   "cell_type": "code",
   "execution_count": 10,
   "id": "subtle-friend",
   "metadata": {},
   "outputs": [
    {
     "data": {
      "text/html": [
       "<div>\n",
       "<style scoped>\n",
       "    .dataframe tbody tr th:only-of-type {\n",
       "        vertical-align: middle;\n",
       "    }\n",
       "\n",
       "    .dataframe tbody tr th {\n",
       "        vertical-align: top;\n",
       "    }\n",
       "\n",
       "    .dataframe thead th {\n",
       "        text-align: right;\n",
       "    }\n",
       "</style>\n",
       "<table border=\"1\" class=\"dataframe\">\n",
       "  <thead>\n",
       "    <tr style=\"text-align: right;\">\n",
       "      <th></th>\n",
       "      <th>UserName</th>\n",
       "      <th>ScreenName</th>\n",
       "      <th>Location</th>\n",
       "      <th>TweetAt</th>\n",
       "      <th>text</th>\n",
       "      <th>class</th>\n",
       "      <th>train</th>\n",
       "      <th>test</th>\n",
       "    </tr>\n",
       "  </thead>\n",
       "  <tbody>\n",
       "    <tr>\n",
       "      <th>0</th>\n",
       "      <td>3800</td>\n",
       "      <td>48752</td>\n",
       "      <td>UK</td>\n",
       "      <td>16-03-2020</td>\n",
       "      <td>advice Talk to your neighbours family to exchange phone numbers create contact list with phone numbers of neighbours schools employer chemist GP set up online shopping accounts if poss adequate supplies of regular meds but not over order</td>\n",
       "      <td>Positive</td>\n",
       "      <td>1.0</td>\n",
       "      <td>NaN</td>\n",
       "    </tr>\n",
       "    <tr>\n",
       "      <th>1</th>\n",
       "      <td>3801</td>\n",
       "      <td>48753</td>\n",
       "      <td>Vagabonds</td>\n",
       "      <td>16-03-2020</td>\n",
       "      <td>Coronavirus Australia: Woolworths to give elderly, disabled dedicated shopping hours amid COVID-19 outbreak https://t.co/bInCA9Vp8P</td>\n",
       "      <td>Positive</td>\n",
       "      <td>1.0</td>\n",
       "      <td>NaN</td>\n",
       "    </tr>\n",
       "    <tr>\n",
       "      <th>2</th>\n",
       "      <td>3802</td>\n",
       "      <td>48754</td>\n",
       "      <td>Unknown</td>\n",
       "      <td>16-03-2020</td>\n",
       "      <td>My food stock is not the only one which is empty...\\r\\r\\n\\r\\r\\nPLEASE, don't panic, THERE WILL BE ENOUGH FOOD FOR EVERYONE if you do not take more than you need. \\r\\r\\nStay calm, stay safe.\\r\\r\\n\\r\\r\\n#COVID19france #COVID_19 #COVID19 #coronavirus #confinement #Confinementotal #ConfinementGeneral https://t.co/zrlG0Z520j</td>\n",
       "      <td>Positive</td>\n",
       "      <td>1.0</td>\n",
       "      <td>NaN</td>\n",
       "    </tr>\n",
       "    <tr>\n",
       "      <th>3</th>\n",
       "      <td>3803</td>\n",
       "      <td>48755</td>\n",
       "      <td>Unknown</td>\n",
       "      <td>16-03-2020</td>\n",
       "      <td>Me, ready to go at supermarket during the #COVID19 outbreak.\\r\\r\\n\\r\\r\\nNot because I'm paranoid, but because my food stock is litteraly empty. The #coronavirus is a serious thing, but please, don't panic. It causes shortage...\\r\\r\\n\\r\\r\\n#CoronavirusFrance #restezchezvous #StayAtHome #confinement https://t.co/usmuaLq72n</td>\n",
       "      <td>Negative</td>\n",
       "      <td>1.0</td>\n",
       "      <td>NaN</td>\n",
       "    </tr>\n",
       "    <tr>\n",
       "      <th>4</th>\n",
       "      <td>3804</td>\n",
       "      <td>48756</td>\n",
       "      <td>ÃT: 36.319708,-82.363649</td>\n",
       "      <td>16-03-2020</td>\n",
       "      <td>As news of the regionÂs first confirmed COVID-19 case came out of Sullivan County last week, people flocked to area stores to purchase cleaning supplies, hand sanitizer, food, toilet paper and other goods, @Tim_Dodson reports https://t.co/cfXch7a2lU</td>\n",
       "      <td>Positive</td>\n",
       "      <td>1.0</td>\n",
       "      <td>NaN</td>\n",
       "    </tr>\n",
       "  </tbody>\n",
       "</table>\n",
       "</div>"
      ],
      "text/plain": [
       "   UserName  ScreenName                   Location     TweetAt  \\\n",
       "0  3800      48752       UK                         16-03-2020   \n",
       "1  3801      48753       Vagabonds                  16-03-2020   \n",
       "2  3802      48754       Unknown                    16-03-2020   \n",
       "3  3803      48755       Unknown                    16-03-2020   \n",
       "4  3804      48756       ÃT: 36.319708,-82.363649  16-03-2020   \n",
       "\n",
       "                                                                                                                                                                                                                                                                                                                                 text  \\\n",
       "0  advice Talk to your neighbours family to exchange phone numbers create contact list with phone numbers of neighbours schools employer chemist GP set up online shopping accounts if poss adequate supplies of regular meds but not over order                                                                                        \n",
       "1  Coronavirus Australia: Woolworths to give elderly, disabled dedicated shopping hours amid COVID-19 outbreak https://t.co/bInCA9Vp8P                                                                                                                                                                                                  \n",
       "2  My food stock is not the only one which is empty...\\r\\r\\n\\r\\r\\nPLEASE, don't panic, THERE WILL BE ENOUGH FOOD FOR EVERYONE if you do not take more than you need. \\r\\r\\nStay calm, stay safe.\\r\\r\\n\\r\\r\\n#COVID19france #COVID_19 #COVID19 #coronavirus #confinement #Confinementotal #ConfinementGeneral https://t.co/zrlG0Z520j    \n",
       "3  Me, ready to go at supermarket during the #COVID19 outbreak.\\r\\r\\n\\r\\r\\nNot because I'm paranoid, but because my food stock is litteraly empty. The #coronavirus is a serious thing, but please, don't panic. It causes shortage...\\r\\r\\n\\r\\r\\n#CoronavirusFrance #restezchezvous #StayAtHome #confinement https://t.co/usmuaLq72n   \n",
       "4  As news of the regionÂs first confirmed COVID-19 case came out of Sullivan County last week, people flocked to area stores to purchase cleaning supplies, hand sanitizer, food, toilet paper and other goods, @Tim_Dodson reports https://t.co/cfXch7a2lU                                                                           \n",
       "\n",
       "      class  train  test  \n",
       "0  Positive  1.0   NaN    \n",
       "1  Positive  1.0   NaN    \n",
       "2  Positive  1.0   NaN    \n",
       "3  Negative  1.0   NaN    \n",
       "4  Positive  1.0   NaN    "
      ]
     },
     "execution_count": 10,
     "metadata": {},
     "output_type": "execute_result"
    }
   ],
   "source": [
    "# rename columns to class and text\n",
    "df = ml_data_filtered.rename(columns = {'OriginalTweet': 'text', 'Sentiment': 'class'})\n",
    "df.head()"
   ]
  },
  {
   "cell_type": "code",
   "execution_count": 11,
   "id": "domestic-bermuda",
   "metadata": {},
   "outputs": [
    {
     "data": {
      "text/html": [
       "<div>\n",
       "<style scoped>\n",
       "    .dataframe tbody tr th:only-of-type {\n",
       "        vertical-align: middle;\n",
       "    }\n",
       "\n",
       "    .dataframe tbody tr th {\n",
       "        vertical-align: top;\n",
       "    }\n",
       "\n",
       "    .dataframe thead th {\n",
       "        text-align: right;\n",
       "    }\n",
       "</style>\n",
       "<table border=\"1\" class=\"dataframe\">\n",
       "  <thead>\n",
       "    <tr style=\"text-align: right;\">\n",
       "      <th></th>\n",
       "      <th>UserName</th>\n",
       "      <th>ScreenName</th>\n",
       "      <th>Location</th>\n",
       "      <th>TweetAt</th>\n",
       "      <th>text</th>\n",
       "      <th>class</th>\n",
       "      <th>train</th>\n",
       "      <th>test</th>\n",
       "      <th>class_id</th>\n",
       "    </tr>\n",
       "  </thead>\n",
       "  <tbody>\n",
       "    <tr>\n",
       "      <th>36618</th>\n",
       "      <td>3793</td>\n",
       "      <td>48745</td>\n",
       "      <td>Washington D.C.</td>\n",
       "      <td>16-03-2020</td>\n",
       "      <td>@RicePolitics @MDCounties Craig, will you call on the General Assembly to enact a legal stay against debt collection activities now that thousands of Marylanders are without a paycheck? \\r\\r\\n\\r\\r\\nhttps://t.co/6JKuOOjXvN</td>\n",
       "      <td>Negative</td>\n",
       "      <td>NaN</td>\n",
       "      <td>0.0</td>\n",
       "      <td>1</td>\n",
       "    </tr>\n",
       "    <tr>\n",
       "      <th>36619</th>\n",
       "      <td>3794</td>\n",
       "      <td>48746</td>\n",
       "      <td>Israel ??</td>\n",
       "      <td>16-03-2020</td>\n",
       "      <td>Meanwhile In A Supermarket in Israel -- People dance and sing together to stay positive. ? #CoronaVirus https://t.co/VLLqGI3R16</td>\n",
       "      <td>Positive</td>\n",
       "      <td>NaN</td>\n",
       "      <td>0.0</td>\n",
       "      <td>0</td>\n",
       "    </tr>\n",
       "    <tr>\n",
       "      <th>36620</th>\n",
       "      <td>3795</td>\n",
       "      <td>48747</td>\n",
       "      <td>Farmington, NM</td>\n",
       "      <td>16-03-2020</td>\n",
       "      <td>Did you panic buy a lot of non-perishable items? ECHO needs food donations. It is also looking for volunteers to pack boxes. Volunteers will be screened to be sure they don't have COVID-19. https://t.co/TST4Vjhbu4</td>\n",
       "      <td>Negative</td>\n",
       "      <td>NaN</td>\n",
       "      <td>0.0</td>\n",
       "      <td>1</td>\n",
       "    </tr>\n",
       "    <tr>\n",
       "      <th>36621</th>\n",
       "      <td>3797</td>\n",
       "      <td>48749</td>\n",
       "      <td>Unknown</td>\n",
       "      <td>16-03-2020</td>\n",
       "      <td>Gov need to do somethings instead of biar je rakyat assume 'lockdown' ke or even worst. Harini semua supermarket crowded like hell. Lagi mudah virus tu tersebar ?? #COVID2019</td>\n",
       "      <td>Negative</td>\n",
       "      <td>NaN</td>\n",
       "      <td>0.0</td>\n",
       "      <td>1</td>\n",
       "    </tr>\n",
       "    <tr>\n",
       "      <th>36622</th>\n",
       "      <td>3798</td>\n",
       "      <td>48750</td>\n",
       "      <td>Arlington, Virginia</td>\n",
       "      <td>16-03-2020</td>\n",
       "      <td>I and @ForestandPaper members are committed to the safety of our employees and our end-users. We are monitoring COVID-19. Rest assured that tissue manufacturers are continuing to produce and ship products.  https://t.co/qF6hclCAEq https://t.co/xyvbNsFeXA</td>\n",
       "      <td>Positive</td>\n",
       "      <td>NaN</td>\n",
       "      <td>0.0</td>\n",
       "      <td>0</td>\n",
       "    </tr>\n",
       "  </tbody>\n",
       "</table>\n",
       "</div>"
      ],
      "text/plain": [
       "       UserName  ScreenName             Location     TweetAt  \\\n",
       "36618  3793      48745       Washington D.C.      16-03-2020   \n",
       "36619  3794      48746       Israel ??            16-03-2020   \n",
       "36620  3795      48747       Farmington, NM       16-03-2020   \n",
       "36621  3797      48749       Unknown              16-03-2020   \n",
       "36622  3798      48750       Arlington, Virginia  16-03-2020   \n",
       "\n",
       "                                                                                                                                                                                                                                                                 text  \\\n",
       "36618  @RicePolitics @MDCounties Craig, will you call on the General Assembly to enact a legal stay against debt collection activities now that thousands of Marylanders are without a paycheck? \\r\\r\\n\\r\\r\\nhttps://t.co/6JKuOOjXvN                                    \n",
       "36619  Meanwhile In A Supermarket in Israel -- People dance and sing together to stay positive. ? #CoronaVirus https://t.co/VLLqGI3R16                                                                                                                                  \n",
       "36620  Did you panic buy a lot of non-perishable items? ECHO needs food donations. It is also looking for volunteers to pack boxes. Volunteers will be screened to be sure they don't have COVID-19. https://t.co/TST4Vjhbu4                                            \n",
       "36621  Gov need to do somethings instead of biar je rakyat assume 'lockdown' ke or even worst. Harini semua supermarket crowded like hell. Lagi mudah virus tu tersebar ?? #COVID2019                                                                                   \n",
       "36622  I and @ForestandPaper members are committed to the safety of our employees and our end-users. We are monitoring COVID-19. Rest assured that tissue manufacturers are continuing to produce and ship products.  https://t.co/qF6hclCAEq https://t.co/xyvbNsFeXA   \n",
       "\n",
       "          class  train  test  class_id  \n",
       "36618  Negative NaN     0.0   1         \n",
       "36619  Positive NaN     0.0   0         \n",
       "36620  Negative NaN     0.0   1         \n",
       "36621  Negative NaN     0.0   1         \n",
       "36622  Positive NaN     0.0   0         "
      ]
     },
     "execution_count": 11,
     "metadata": {},
     "output_type": "execute_result"
    }
   ],
   "source": [
    "from io import StringIO\n",
    "\n",
    "df['class_id'] = df['class'].factorize()[0]\n",
    "class_id_df = df[['class', 'class_id']].drop_duplicates().sort_values('class_id')\n",
    "class_to_id = dict(class_id_df.values)\n",
    "id_to_class = dict(class_id_df[['class_id', 'class']].values)\n",
    "df.tail()"
   ]
  },
  {
   "cell_type": "code",
   "execution_count": 12,
   "id": "desperate-tamil",
   "metadata": {},
   "outputs": [],
   "source": [
    "from sklearn.model_selection import train_test_split\n",
    "from sklearn.feature_extraction.text import CountVectorizer\n",
    "from sklearn.feature_extraction.text import TfidfTransformer\n",
    "from sklearn.naive_bayes import MultinomialNB\n",
    "\n",
    "from sklearn.linear_model import LogisticRegression\n",
    "from sklearn.ensemble import RandomForestClassifier\n",
    "from sklearn.svm import LinearSVC, SVC\n",
    "from sklearn.model_selection import cross_val_score"
   ]
  },
  {
   "cell_type": "code",
   "execution_count": 32,
   "id": "concrete-trademark",
   "metadata": {},
   "outputs": [],
   "source": [
    "labels = df['class'].unique()"
   ]
  },
  {
   "cell_type": "code",
   "execution_count": 13,
   "id": "peripheral-superior",
   "metadata": {},
   "outputs": [],
   "source": [
    "# Count Vectorizer\n",
    "cnt_vec = CountVectorizer()\n",
    "cnt_vec.fit(df['text'])\n",
    "text_cnt_vec = cnt_vec.transform(df['text'])\n"
   ]
  },
  {
   "cell_type": "code",
   "execution_count": 14,
   "id": "annoying-contractor",
   "metadata": {},
   "outputs": [],
   "source": [
    "tfidf_transformer = TfidfTransformer()\n",
    "text_tfidf = tfidf_transformer.fit_transform(text_cnt_vec)"
   ]
  },
  {
   "cell_type": "code",
   "execution_count": 15,
   "id": "resident-woman",
   "metadata": {},
   "outputs": [
    {
     "data": {
      "text/plain": [
       "((33444, 71738), (3179, 71738), (33444,), (3179,))"
      ]
     },
     "execution_count": 15,
     "metadata": {},
     "output_type": "execute_result"
    }
   ],
   "source": [
    "X_train = text_tfidf[df['train'] == 1]\n",
    "X_test = text_tfidf[df['test'] == 0]\n",
    "\n",
    "y_train = df['class_id'][df['train'] == 1]\n",
    "y_test = df['class_id'][df['test'] == 0]\n",
    "\n",
    "X_train.shape, X_test.shape, y_train.shape, y_test.shape"
   ]
  },
  {
   "cell_type": "code",
   "execution_count": 41,
   "id": "animal-monte",
   "metadata": {},
   "outputs": [],
   "source": [
    "clf = LogisticRegression(max_iter = 1000)"
   ]
  },
  {
   "cell_type": "code",
   "execution_count": 42,
   "id": "toxic-tulsa",
   "metadata": {},
   "outputs": [
    {
     "data": {
      "text/plain": [
       "LogisticRegression(max_iter=1000)"
      ]
     },
     "execution_count": 42,
     "metadata": {},
     "output_type": "execute_result"
    }
   ],
   "source": [
    "clf.fit(X_train, y_train)"
   ]
  },
  {
   "cell_type": "code",
   "execution_count": 43,
   "id": "twelve-concord",
   "metadata": {},
   "outputs": [],
   "source": [
    "score = clf.score(X_test, y_test)"
   ]
  },
  {
   "cell_type": "code",
   "execution_count": 44,
   "id": "immediate-premium",
   "metadata": {},
   "outputs": [
    {
     "name": "stdout",
     "output_type": "stream",
     "text": [
      "Accuracy: 0.8398867568417742\n"
     ]
    }
   ],
   "source": [
    "print(\"Accuracy:\", score)"
   ]
  },
  {
   "cell_type": "code",
   "execution_count": 20,
   "id": "emerging-campbell",
   "metadata": {},
   "outputs": [],
   "source": [
    "clf_lvc = LinearSVC()"
   ]
  },
  {
   "cell_type": "code",
   "execution_count": 21,
   "id": "basic-settle",
   "metadata": {},
   "outputs": [
    {
     "data": {
      "text/plain": [
       "LinearSVC()"
      ]
     },
     "execution_count": 21,
     "metadata": {},
     "output_type": "execute_result"
    }
   ],
   "source": [
    "clf_lvc.fit(X_train, y_train)"
   ]
  },
  {
   "cell_type": "code",
   "execution_count": 22,
   "id": "comfortable-blend",
   "metadata": {},
   "outputs": [],
   "source": [
    "score_lvc = clf_lvc.score(X_test, y_test)"
   ]
  },
  {
   "cell_type": "code",
   "execution_count": 30,
   "id": "indoor-consent",
   "metadata": {},
   "outputs": [
    {
     "data": {
      "text/plain": [
       "array([1, 0, 0, ..., 0, 1, 0], dtype=int64)"
      ]
     },
     "execution_count": 30,
     "metadata": {},
     "output_type": "execute_result"
    }
   ],
   "source": [
    "lvc_pred = clf_lvc.predict(X_test)\n",
    "lvc_pred"
   ]
  },
  {
   "cell_type": "code",
   "execution_count": 23,
   "id": "laughing-newspaper",
   "metadata": {},
   "outputs": [
    {
     "name": "stdout",
     "output_type": "stream",
     "text": [
      "Accuracy: 0.8716577540106952\n"
     ]
    }
   ],
   "source": [
    "print(\"Accuracy:\", score_lvc)"
   ]
  },
  {
   "cell_type": "code",
   "execution_count": 24,
   "id": "veterinary-forty",
   "metadata": {},
   "outputs": [
    {
     "data": {
      "text/plain": [
       "RandomForestClassifier()"
      ]
     },
     "execution_count": 24,
     "metadata": {},
     "output_type": "execute_result"
    }
   ],
   "source": [
    "rf = RandomForestClassifier()\n",
    "rf.fit(X_train, y_train)"
   ]
  },
  {
   "cell_type": "code",
   "execution_count": 25,
   "id": "unavailable-greensboro",
   "metadata": {},
   "outputs": [
    {
     "name": "stdout",
     "output_type": "stream",
     "text": [
      "Accuracy: 0.758414595784838\n"
     ]
    }
   ],
   "source": [
    "rf_score = rf.score(X_test, y_test)\n",
    "print(\"Accuracy:\", rf_score)"
   ]
  },
  {
   "cell_type": "code",
   "execution_count": 26,
   "id": "soviet-freeze",
   "metadata": {},
   "outputs": [],
   "source": [
    "clf_nb = MultinomialNB()"
   ]
  },
  {
   "cell_type": "code",
   "execution_count": 27,
   "id": "solid-potato",
   "metadata": {},
   "outputs": [
    {
     "data": {
      "text/plain": [
       "MultinomialNB()"
      ]
     },
     "execution_count": 27,
     "metadata": {},
     "output_type": "execute_result"
    }
   ],
   "source": [
    "clf_nb.fit(X_train, y_train)"
   ]
  },
  {
   "cell_type": "code",
   "execution_count": 28,
   "id": "intensive-account",
   "metadata": {},
   "outputs": [
    {
     "name": "stdout",
     "output_type": "stream",
     "text": [
      "Accuracy: 0.7433155080213903\n"
     ]
    }
   ],
   "source": [
    "clf_score = clf_nb.score(X_test, y_test)\n",
    "print(\"Accuracy:\", clf_score)"
   ]
  },
  {
   "cell_type": "code",
   "execution_count": 128,
   "id": "clear-sleeping",
   "metadata": {},
   "outputs": [
    {
     "name": "stdout",
     "output_type": "stream",
     "text": [
      "Fitting 5 folds for each of 5 candidates, totalling 25 fits\n",
      "[CV] C=0.1 ...........................................................\n",
      "[CV] ............................... C=0.1, score=0.848, total=   0.2s\n",
      "[CV] C=0.1 ...........................................................\n"
     ]
    },
    {
     "name": "stderr",
     "output_type": "stream",
     "text": [
      "[Parallel(n_jobs=1)]: Using backend SequentialBackend with 1 concurrent workers.\n",
      "[Parallel(n_jobs=1)]: Done   1 out of   1 | elapsed:    0.1s remaining:    0.0s\n"
     ]
    },
    {
     "name": "stdout",
     "output_type": "stream",
     "text": [
      "[CV] ............................... C=0.1, score=0.852, total=   0.2s\n",
      "[CV] C=0.1 ...........................................................\n",
      "[CV] ............................... C=0.1, score=0.847, total=   0.2s\n",
      "[CV] C=0.1 ...........................................................\n"
     ]
    },
    {
     "name": "stderr",
     "output_type": "stream",
     "text": [
      "[Parallel(n_jobs=1)]: Done   2 out of   2 | elapsed:    0.2s remaining:    0.0s\n"
     ]
    },
    {
     "name": "stdout",
     "output_type": "stream",
     "text": [
      "[CV] ............................... C=0.1, score=0.855, total=   0.2s\n",
      "[CV] C=0.1 ...........................................................\n",
      "[CV] ............................... C=0.1, score=0.850, total=   0.2s\n",
      "[CV] C=1 .............................................................\n",
      "[CV] ................................. C=1, score=0.870, total=   0.4s\n",
      "[CV] C=1 .............................................................\n",
      "[CV] ................................. C=1, score=0.877, total=   0.4s\n",
      "[CV] C=1 .............................................................\n",
      "[CV] ................................. C=1, score=0.874, total=   0.4s\n",
      "[CV] C=1 .............................................................\n",
      "[CV] ................................. C=1, score=0.877, total=   0.4s\n",
      "[CV] C=1 .............................................................\n",
      "[CV] ................................. C=1, score=0.882, total=   0.4s\n",
      "[CV] C=10 ............................................................\n",
      "[CV] ................................ C=10, score=0.858, total=   1.8s\n",
      "[CV] C=10 ............................................................\n",
      "[CV] ................................ C=10, score=0.861, total=   2.0s\n",
      "[CV] C=10 ............................................................\n",
      "[CV] ................................ C=10, score=0.864, total=   2.1s\n",
      "[CV] C=10 ............................................................\n",
      "[CV] ................................ C=10, score=0.864, total=   2.0s\n",
      "[CV] C=10 ............................................................\n",
      "[CV] ................................ C=10, score=0.868, total=   2.0s\n",
      "[CV] C=100 ...........................................................\n"
     ]
    },
    {
     "name": "stderr",
     "output_type": "stream",
     "text": [
      "C:\\Users\\lenpk\\anaconda3\\envs\\PythonAdv\\lib\\site-packages\\sklearn\\svm\\_base.py:977: ConvergenceWarning: Liblinear failed to converge, increase the number of iterations.\n",
      "  \"the number of iterations.\", ConvergenceWarning)\n"
     ]
    },
    {
     "name": "stdout",
     "output_type": "stream",
     "text": [
      "[CV] ............................... C=100, score=0.842, total=   4.7s\n",
      "[CV] C=100 ...........................................................\n",
      "[CV] ............................... C=100, score=0.852, total=   4.8s\n",
      "[CV] C=100 ...........................................................\n",
      "[CV] ............................... C=100, score=0.848, total=   5.1s\n",
      "[CV] C=100 ...........................................................\n",
      "[CV] ............................... C=100, score=0.849, total=   6.1s\n",
      "[CV] C=100 ...........................................................\n",
      "[CV] ............................... C=100, score=0.855, total=   6.9s\n",
      "[CV] C=1000 ..........................................................\n",
      "[CV] .............................. C=1000, score=0.840, total=   6.2s\n",
      "[CV] C=1000 ..........................................................\n",
      "[CV] .............................. C=1000, score=0.850, total=   6.5s\n",
      "[CV] C=1000 ..........................................................\n",
      "[CV] .............................. C=1000, score=0.843, total=   6.3s\n",
      "[CV] C=1000 ..........................................................\n",
      "[CV] .............................. C=1000, score=0.845, total=   6.4s\n",
      "[CV] C=1000 ..........................................................\n",
      "[CV] .............................. C=1000, score=0.849, total=   6.4s\n"
     ]
    },
    {
     "name": "stderr",
     "output_type": "stream",
     "text": [
      "[Parallel(n_jobs=1)]: Done  25 out of  25 | elapsed:  1.2min finished\n"
     ]
    },
    {
     "data": {
      "text/plain": [
       "GridSearchCV(estimator=LinearSVC(), param_grid={'C': [0.1, 1, 10, 100, 1000]},\n",
       "             verbose=3)"
      ]
     },
     "execution_count": 128,
     "metadata": {},
     "output_type": "execute_result"
    }
   ],
   "source": [
    "from sklearn.model_selection import GridSearchCV \n",
    "  \n",
    "# defining parameter range \n",
    "param_grid = {'C': [0.1, 1, 10, 100, 1000]}  \n",
    "  \n",
    "grid = GridSearchCV(LinearSVC(), param_grid, refit = True, verbose = 3) \n",
    "  \n",
    "# fitting the model for grid search \n",
    "grid.fit(X_train, y_train) "
   ]
  },
  {
   "cell_type": "code",
   "execution_count": 127,
   "id": "absent-driver",
   "metadata": {},
   "outputs": [
    {
     "name": "stdout",
     "output_type": "stream",
     "text": [
      "dict_keys(['C', 'class_weight', 'dual', 'fit_intercept', 'intercept_scaling', 'loss', 'max_iter', 'multi_class', 'penalty', 'random_state', 'tol', 'verbose'])\n"
     ]
    }
   ],
   "source": [
    "print(clf_lvc.get_params().keys())"
   ]
  },
  {
   "cell_type": "code",
   "execution_count": 129,
   "id": "mental-plumbing",
   "metadata": {},
   "outputs": [
    {
     "name": "stdout",
     "output_type": "stream",
     "text": [
      "{'C': 1}\n",
      "LinearSVC(C=1)\n"
     ]
    }
   ],
   "source": [
    "# print best parameter after tuning \n",
    "print(grid.best_params_) \n",
    "\n",
    "# print how our model looks after hyper-parameter tuning \n",
    "print(grid.best_estimator_) \n"
   ]
  },
  {
   "cell_type": "code",
   "execution_count": 131,
   "id": "computational-booth",
   "metadata": {},
   "outputs": [
    {
     "name": "stdout",
     "output_type": "stream",
     "text": [
      "              precision    recall  f1-score   support\n",
      "\n",
      "           0       0.85      0.89      0.87      1546\n",
      "           1       0.89      0.86      0.87      1633\n",
      "\n",
      "    accuracy                           0.87      3179\n",
      "   macro avg       0.87      0.87      0.87      3179\n",
      "weighted avg       0.87      0.87      0.87      3179\n",
      "\n"
     ]
    }
   ],
   "source": [
    "from sklearn.metrics import classification_report, confusion_matrix \n",
    "grid_predictions = grid.predict(X_test) \n",
    "\n",
    "# print classification report \n",
    "print(classification_report(y_test, grid_predictions)) \n"
   ]
  },
  {
   "cell_type": "code",
   "execution_count": 33,
   "id": "engaged-adaptation",
   "metadata": {},
   "outputs": [
    {
     "data": {
      "image/png": "[encoded data removed]",
      "text/plain": [
       "<Figure size 432x288 with 2 Axes>"
      ]
     },
     "metadata": {},
     "output_type": "display_data"
    },
    {
     "data": {
      "text/plain": [
       "<Figure size 720x504 with 0 Axes>"
      ]
     },
     "metadata": {},
     "output_type": "display_data"
    }
   ],
   "source": [
    "#import the relevant packages\n",
    "from sklearn import metrics\n",
    "import seaborn as sns\n",
    "import matplotlib.pyplot as plt\n",
    "#get the confusion matrix\n",
    "confusion_matrix = metrics.confusion_matrix(y_test,  \n",
    "                                            lvc_pred)\n",
    "#turn this into a dataframe\n",
    "matrix_df = pd.DataFrame(confusion_matrix)\n",
    "#plot the result\n",
    "ax = plt.axes()\n",
    "sns.set(font_scale=1.3)\n",
    "plt.figure(figsize=(10,7))\n",
    "sns.heatmap(matrix_df, annot=True, fmt=\"g\", ax=ax, cmap=\"magma\")\n",
    "#set axis titles\n",
    "ax.set_title('Confusion Matrix - LinearSVC')\n",
    "ax.set_xlabel(\"Predicted label\", fontsize =15)\n",
    "ax.set_xticklabels(['']+labels, rotation = 90)\n",
    "ax.set_ylabel(\"True Label\", fontsize=15)\n",
    "ax.set_yticklabels(list(labels), rotation = 0)\n",
    "plt.show()"
   ]
  },
  {
   "cell_type": "code",
   "execution_count": 52,
   "id": "least-visit",
   "metadata": {},
   "outputs": [],
   "source": [
    "from sklearn.model_selection import GridSearchCV \n",
    "from sklearn.metrics import classification_report, confusion_matrix "
   ]
  },
  {
   "cell_type": "code",
   "execution_count": 48,
   "id": "federal-champion",
   "metadata": {},
   "outputs": [],
   "source": [
    "# Logistic Regression Gridsearch\n",
    "grid_values = {'penalty': ['l2'], 'C': [0.001,0.01,0.1,1,10,100,1000]}\n",
    "grid_lr = GridSearchCV(clf, param_grid=grid_values)"
   ]
  },
  {
   "cell_type": "code",
   "execution_count": 49,
   "id": "criminal-johnson",
   "metadata": {},
   "outputs": [
    {
     "data": {
      "text/plain": [
       "GridSearchCV(estimator=LogisticRegression(max_iter=1000),\n",
       "             param_grid={'C': [0.001, 0.01, 0.1, 1, 10, 100, 1000],\n",
       "                         'penalty': ['l2']})"
      ]
     },
     "execution_count": 49,
     "metadata": {},
     "output_type": "execute_result"
    }
   ],
   "source": [
    "grid_lr.fit(X_train, y_train)"
   ]
  },
  {
   "cell_type": "code",
   "execution_count": 50,
   "id": "suspected-outdoors",
   "metadata": {},
   "outputs": [
    {
     "name": "stdout",
     "output_type": "stream",
     "text": [
      "{'C': 10, 'penalty': 'l2'}\n",
      "LogisticRegression(C=10, max_iter=1000)\n"
     ]
    }
   ],
   "source": [
    "# print best parameter after tuning \n",
    "print(grid_lr.best_params_) \n",
    "\n",
    "# print how our model looks after hyper-parameter tuning \n",
    "print(grid_lr.best_estimator_) "
   ]
  },
  {
   "cell_type": "code",
   "execution_count": 53,
   "id": "exclusive-kelly",
   "metadata": {},
   "outputs": [
    {
     "name": "stdout",
     "output_type": "stream",
     "text": [
      "              precision    recall  f1-score   support\n",
      "\n",
      "           0       0.85      0.88      0.87      1546\n",
      "           1       0.89      0.85      0.87      1633\n",
      "\n",
      "    accuracy                           0.87      3179\n",
      "   macro avg       0.87      0.87      0.87      3179\n",
      "weighted avg       0.87      0.87      0.87      3179\n",
      "\n"
     ]
    }
   ],
   "source": [
    "grid_lr_predictions = grid_lr.predict(X_test) \n",
    "\n",
    "# print classification report \n",
    "print(classification_report(y_test, grid_lr_predictions)) "
   ]
  },
  {
   "cell_type": "code",
   "execution_count": null,
   "id": "romantic-criminal",
   "metadata": {},
   "outputs": [],
   "source": [
    "# Grid search for linearSVC\n",
    "# defining parameter range \n",
    "param_grid = {'C': [0.1, 1, 10, 100, 1000]}  \n",
    "  \n",
    "grid_lvc = GridSearchCV(LinearSVC(), param_grid, refit = True, verbose = 3) \n",
    "  \n",
    "# fitting the model for grid search \n",
    "grid.fit(X_train, y_train) "
   ]
  },
  {
   "cell_type": "code",
   "execution_count": 102,
   "id": "premier-guard",
   "metadata": {},
   "outputs": [],
   "source": []
  },
  {
   "cell_type": "code",
   "execution_count": null,
   "id": "dramatic-baking",
   "metadata": {},
   "outputs": [],
   "source": []
  },
  {
   "cell_type": "code",
   "execution_count": 103,
   "id": "drawn-harvest",
   "metadata": {},
   "outputs": [],
   "source": []
  },
  {
   "cell_type": "code",
   "execution_count": 104,
   "id": "burning-outreach",
   "metadata": {},
   "outputs": [],
   "source": []
  },
  {
   "cell_type": "code",
   "execution_count": 105,
   "id": "southern-offense",
   "metadata": {},
   "outputs": [],
   "source": []
  },
  {
   "cell_type": "code",
   "execution_count": null,
   "id": "vital-catering",
   "metadata": {},
   "outputs": [],
   "source": []
  },
  {
   "cell_type": "code",
   "execution_count": null,
   "id": "chubby-summer",
   "metadata": {},
   "outputs": [],
   "source": []
  },
  {
   "cell_type": "code",
   "execution_count": null,
   "id": "mathematical-grounds",
   "metadata": {},
   "outputs": [],
   "source": []
  },
  {
   "cell_type": "code",
   "execution_count": null,
   "id": "incomplete-trustee",
   "metadata": {},
   "outputs": [],
   "source": []
  },
  {
   "cell_type": "code",
   "execution_count": null,
   "id": "collectible-acoustic",
   "metadata": {},
   "outputs": [],
   "source": []
  },
  {
   "cell_type": "code",
   "execution_count": null,
   "id": "virgin-genius",
   "metadata": {},
   "outputs": [],
   "source": []
  },
  {
   "cell_type": "code",
   "execution_count": null,
   "id": "fitted-tennis",
   "metadata": {},
   "outputs": [],
   "source": []
  }
 ],
 "metadata": {
  "kernelspec": {
   "display_name": "Python [conda env:pythonadv] *",
   "language": "python",
   "name": "conda-env-pythonadv-py"
  },
  "language_info": {
   "codemirror_mode": {
    "name": "ipython",
    "version": 3
   },
   "file_extension": ".py",
   "mimetype": "text/x-python",
   "name": "python",
   "nbconvert_exporter": "python",
   "pygments_lexer": "ipython3",
   "version": "3.6.12"
  }
 },
 "nbformat": 4,
 "nbformat_minor": 5
}

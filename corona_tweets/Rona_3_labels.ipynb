{
 "cells": [
  {
   "cell_type": "code",
   "execution_count": 4,
   "id": "double-teacher",
   "metadata": {},
   "outputs": [
    {
     "name": "stderr",
     "output_type": "stream",
     "text": [
      "C:\\Users\\lenpk\\anaconda3\\envs\\PythonAdv\\lib\\site-packages\\ipykernel_launcher.py:11: FutureWarning: Passing a negative integer is deprecated in version 1.0 and will not be supported in future version. Instead, use None to not limit the column width.\n",
      "  # This is added back by InteractiveShellApp.init_path()\n"
     ]
    }
   ],
   "source": [
    "# import modules\n",
    "import pandas as pd\n",
    "import re\n",
    "import numpy as np\n",
    "import matplotlib.pyplot as plt\n",
    "import seaborn as sns\n",
    "import pickle\n",
    "from pickle import dump\n",
    "%matplotlib inline\n",
    "\n",
    "pd.set_option('display.max_colwidth', -1)"
   ]
  },
  {
   "cell_type": "code",
   "execution_count": 5,
   "id": "vanilla-yacht",
   "metadata": {},
   "outputs": [],
   "source": [
    "# train dataset\n",
    "train = pd.read_csv('Corona_NLP_train.csv', encoding = \"ISO-8859-1\")\n",
    "test= pd.read_csv('Corona_NLP_test.csv', encoding = \"ISO-8859-1\")"
   ]
  },
  {
   "cell_type": "code",
   "execution_count": 6,
   "id": "induced-arnold",
   "metadata": {},
   "outputs": [],
   "source": [
    "# Combine datasets\n",
    "train['train'] = 1\n",
    "test['test'] = 0"
   ]
  },
  {
   "cell_type": "code",
   "execution_count": 7,
   "id": "brief-marketplace",
   "metadata": {},
   "outputs": [],
   "source": [
    "combined = pd.concat([train, test]).reset_index(drop = True)"
   ]
  },
  {
   "cell_type": "code",
   "execution_count": 8,
   "id": "attended-journey",
   "metadata": {},
   "outputs": [],
   "source": [
    "combined['Location'].fillna('Unknown', inplace = True)"
   ]
  },
  {
   "cell_type": "code",
   "execution_count": 9,
   "id": "dietary-injury",
   "metadata": {},
   "outputs": [
    {
     "name": "stderr",
     "output_type": "stream",
     "text": [
      "C:\\Users\\lenpk\\anaconda3\\envs\\PythonAdv\\lib\\site-packages\\seaborn\\_decorators.py:43: FutureWarning: Pass the following variable as a keyword arg: x. From version 0.12, the only valid positional argument will be `data`, and passing other arguments without an explicit keyword will result in an error or misinterpretation.\n",
      "  FutureWarning\n"
     ]
    },
    {
     "data": {
      "image/png": "[encoded data removed]",
      "text/plain": [
       "<Figure size 842.4x595.44 with 1 Axes>"
      ]
     },
     "metadata": {},
     "output_type": "display_data"
    }
   ],
   "source": [
    "# Plot sentiment data\n",
    "sns.set_style('ticks')\n",
    "fig, ax = plt.subplots()\n",
    "# the size of A4 paper\n",
    "fig.set_size_inches(11.7, 8.27)\n",
    "sns.countplot(combined['Sentiment'], order=combined['Sentiment'].value_counts(ascending=False).index, ax=ax)\n",
    "plt.savefig('originalSentiments.png')\n",
    "plt.show()"
   ]
  },
  {
   "cell_type": "code",
   "execution_count": 10,
   "id": "generic-headquarters",
   "metadata": {},
   "outputs": [
    {
     "data": {
      "text/plain": [
       "Positive              0.275142\n",
       "Negative              0.243755\n",
       "Neutral               0.185341\n",
       "Extremely Positive    0.160672\n",
       "Extremely Negative    0.135091\n",
       "Name: Sentiment, dtype: float64"
      ]
     },
     "execution_count": 10,
     "metadata": {},
     "output_type": "execute_result"
    }
   ],
   "source": [
    "# check contribution of each category\n",
    "sentiment_order=combined['Sentiment'].value_counts(normalize = True)\n",
    "sentiment_order"
   ]
  },
  {
   "cell_type": "code",
   "execution_count": 11,
   "id": "revised-ordinary",
   "metadata": {},
   "outputs": [],
   "source": [
    "# replace the extreme values\n",
    "combined.replace({'Extremely Positive': 'Positive', 'Extremely Negative': 'Negative'}, inplace = True)"
   ]
  },
  {
   "cell_type": "code",
   "execution_count": 12,
   "id": "guided-segment",
   "metadata": {},
   "outputs": [
    {
     "data": {
      "text/html": [
       "<div>\n",
       "<style scoped>\n",
       "    .dataframe tbody tr th:only-of-type {\n",
       "        vertical-align: middle;\n",
       "    }\n",
       "\n",
       "    .dataframe tbody tr th {\n",
       "        vertical-align: top;\n",
       "    }\n",
       "\n",
       "    .dataframe thead th {\n",
       "        text-align: right;\n",
       "    }\n",
       "</style>\n",
       "<table border=\"1\" class=\"dataframe\">\n",
       "  <thead>\n",
       "    <tr style=\"text-align: right;\">\n",
       "      <th></th>\n",
       "      <th>UserName</th>\n",
       "      <th>ScreenName</th>\n",
       "      <th>Location</th>\n",
       "      <th>TweetAt</th>\n",
       "      <th>text</th>\n",
       "      <th>class</th>\n",
       "      <th>train</th>\n",
       "      <th>test</th>\n",
       "    </tr>\n",
       "  </thead>\n",
       "  <tbody>\n",
       "    <tr>\n",
       "      <th>0</th>\n",
       "      <td>3799</td>\n",
       "      <td>48751</td>\n",
       "      <td>London</td>\n",
       "      <td>16-03-2020</td>\n",
       "      <td>@MeNyrbie @Phil_Gahan @Chrisitv https://t.co/iFz9FAn2Pa and https://t.co/xX6ghGFzCC and https://t.co/I2NlzdxNo8</td>\n",
       "      <td>Neutral</td>\n",
       "      <td>1.0</td>\n",
       "      <td>NaN</td>\n",
       "    </tr>\n",
       "    <tr>\n",
       "      <th>1</th>\n",
       "      <td>3800</td>\n",
       "      <td>48752</td>\n",
       "      <td>UK</td>\n",
       "      <td>16-03-2020</td>\n",
       "      <td>advice Talk to your neighbours family to exchange phone numbers create contact list with phone numbers of neighbours schools employer chemist GP set up online shopping accounts if poss adequate supplies of regular meds but not over order</td>\n",
       "      <td>Positive</td>\n",
       "      <td>1.0</td>\n",
       "      <td>NaN</td>\n",
       "    </tr>\n",
       "    <tr>\n",
       "      <th>2</th>\n",
       "      <td>3801</td>\n",
       "      <td>48753</td>\n",
       "      <td>Vagabonds</td>\n",
       "      <td>16-03-2020</td>\n",
       "      <td>Coronavirus Australia: Woolworths to give elderly, disabled dedicated shopping hours amid COVID-19 outbreak https://t.co/bInCA9Vp8P</td>\n",
       "      <td>Positive</td>\n",
       "      <td>1.0</td>\n",
       "      <td>NaN</td>\n",
       "    </tr>\n",
       "    <tr>\n",
       "      <th>3</th>\n",
       "      <td>3802</td>\n",
       "      <td>48754</td>\n",
       "      <td>Unknown</td>\n",
       "      <td>16-03-2020</td>\n",
       "      <td>My food stock is not the only one which is empty...\\r\\r\\n\\r\\r\\nPLEASE, don't panic, THERE WILL BE ENOUGH FOOD FOR EVERYONE if you do not take more than you need. \\r\\r\\nStay calm, stay safe.\\r\\r\\n\\r\\r\\n#COVID19france #COVID_19 #COVID19 #coronavirus #confinement #Confinementotal #ConfinementGeneral https://t.co/zrlG0Z520j</td>\n",
       "      <td>Positive</td>\n",
       "      <td>1.0</td>\n",
       "      <td>NaN</td>\n",
       "    </tr>\n",
       "    <tr>\n",
       "      <th>4</th>\n",
       "      <td>3803</td>\n",
       "      <td>48755</td>\n",
       "      <td>Unknown</td>\n",
       "      <td>16-03-2020</td>\n",
       "      <td>Me, ready to go at supermarket during the #COVID19 outbreak.\\r\\r\\n\\r\\r\\nNot because I'm paranoid, but because my food stock is litteraly empty. The #coronavirus is a serious thing, but please, don't panic. It causes shortage...\\r\\r\\n\\r\\r\\n#CoronavirusFrance #restezchezvous #StayAtHome #confinement https://t.co/usmuaLq72n</td>\n",
       "      <td>Negative</td>\n",
       "      <td>1.0</td>\n",
       "      <td>NaN</td>\n",
       "    </tr>\n",
       "  </tbody>\n",
       "</table>\n",
       "</div>"
      ],
      "text/plain": [
       "   UserName  ScreenName   Location     TweetAt  \\\n",
       "0  3799      48751       London     16-03-2020   \n",
       "1  3800      48752       UK         16-03-2020   \n",
       "2  3801      48753       Vagabonds  16-03-2020   \n",
       "3  3802      48754       Unknown    16-03-2020   \n",
       "4  3803      48755       Unknown    16-03-2020   \n",
       "\n",
       "                                                                                                                                                                                                                                                                                                                                 text  \\\n",
       "0  @MeNyrbie @Phil_Gahan @Chrisitv https://t.co/iFz9FAn2Pa and https://t.co/xX6ghGFzCC and https://t.co/I2NlzdxNo8                                                                                                                                                                                                                      \n",
       "1  advice Talk to your neighbours family to exchange phone numbers create contact list with phone numbers of neighbours schools employer chemist GP set up online shopping accounts if poss adequate supplies of regular meds but not over order                                                                                        \n",
       "2  Coronavirus Australia: Woolworths to give elderly, disabled dedicated shopping hours amid COVID-19 outbreak https://t.co/bInCA9Vp8P                                                                                                                                                                                                  \n",
       "3  My food stock is not the only one which is empty...\\r\\r\\n\\r\\r\\nPLEASE, don't panic, THERE WILL BE ENOUGH FOOD FOR EVERYONE if you do not take more than you need. \\r\\r\\nStay calm, stay safe.\\r\\r\\n\\r\\r\\n#COVID19france #COVID_19 #COVID19 #coronavirus #confinement #Confinementotal #ConfinementGeneral https://t.co/zrlG0Z520j    \n",
       "4  Me, ready to go at supermarket during the #COVID19 outbreak.\\r\\r\\n\\r\\r\\nNot because I'm paranoid, but because my food stock is litteraly empty. The #coronavirus is a serious thing, but please, don't panic. It causes shortage...\\r\\r\\n\\r\\r\\n#CoronavirusFrance #restezchezvous #StayAtHome #confinement https://t.co/usmuaLq72n   \n",
       "\n",
       "      class  train  test  \n",
       "0  Neutral   1.0   NaN    \n",
       "1  Positive  1.0   NaN    \n",
       "2  Positive  1.0   NaN    \n",
       "3  Positive  1.0   NaN    \n",
       "4  Negative  1.0   NaN    "
      ]
     },
     "execution_count": 12,
     "metadata": {},
     "output_type": "execute_result"
    }
   ],
   "source": [
    "# rename columns to class and text\n",
    "df = combined.rename(columns = {'OriginalTweet': 'text', 'Sentiment': 'class'})\n",
    "df.head()"
   ]
  },
  {
   "cell_type": "code",
   "execution_count": 13,
   "id": "amended-throw",
   "metadata": {},
   "outputs": [
    {
     "name": "stderr",
     "output_type": "stream",
     "text": [
      "C:\\Users\\lenpk\\anaconda3\\envs\\PythonAdv\\lib\\site-packages\\seaborn\\_decorators.py:43: FutureWarning: Pass the following variable as a keyword arg: x. From version 0.12, the only valid positional argument will be `data`, and passing other arguments without an explicit keyword will result in an error or misinterpretation.\n",
      "  FutureWarning\n"
     ]
    },
    {
     "data": {
      "image/png": "[encoded data removed]",
      "text/plain": [
       "<Figure size 842.4x595.44 with 1 Axes>"
      ]
     },
     "metadata": {},
     "output_type": "display_data"
    }
   ],
   "source": [
    "# Plot new sentiment data\n",
    "sns.set_style('ticks')\n",
    "fig, ax = plt.subplots()\n",
    "# the size of A4 paper\n",
    "fig.set_size_inches(11.7, 8.27)\n",
    "sns.countplot(df['class'], order=df['class'].value_counts(ascending=False).index, ax=ax)\n",
    "plt.savefig('binarySentiments.png')\n",
    "plt.show()"
   ]
  },
  {
   "cell_type": "code",
   "execution_count": 14,
   "id": "awful-bulgarian",
   "metadata": {},
   "outputs": [],
   "source": [
    "from sklearn.model_selection import train_test_split\n",
    "from sklearn.feature_extraction.text import CountVectorizer\n",
    "from sklearn.feature_extraction.text import TfidfTransformer\n",
    "from sklearn.naive_bayes import MultinomialNB\n",
    "\n",
    "from sklearn.linear_model import LogisticRegression\n",
    "from sklearn.ensemble import RandomForestClassifier\n",
    "from sklearn.svm import LinearSVC, SVC\n",
    "from sklearn.model_selection import cross_val_score\n",
    "from sklearn.model_selection import GridSearchCV \n",
    "from sklearn.metrics import classification_report, confusion_matrix "
   ]
  },
  {
   "cell_type": "code",
   "execution_count": 15,
   "id": "prostate-pacific",
   "metadata": {},
   "outputs": [
    {
     "name": "stdout",
     "output_type": "stream",
     "text": [
      "There are 3 labels in the dataset\n"
     ]
    }
   ],
   "source": [
    "# get list of labels for plotting confucion matrix\n",
    "labels = df['class'].unique()\n",
    "print(f'There are {len(labels)} labels in the dataset')"
   ]
  },
  {
   "cell_type": "code",
   "execution_count": 16,
   "id": "logical-myrtle",
   "metadata": {},
   "outputs": [],
   "source": [
    "# Count Vectorizer\n",
    "cnt_vec = CountVectorizer(max_features=10000)\n",
    "cnt_vec.fit(df['text'])\n",
    "text_cnt_vec = cnt_vec.transform(df['text'])"
   ]
  },
  {
   "cell_type": "code",
   "execution_count": 17,
   "id": "indonesian-reading",
   "metadata": {},
   "outputs": [],
   "source": [
    "# TFID Transformer\n",
    "tfidf_transformer = TfidfTransformer()\n",
    "text_tfidf = tfidf_transformer.fit_transform(text_cnt_vec)"
   ]
  },
  {
   "cell_type": "code",
   "execution_count": 18,
   "id": "bizarre-forum",
   "metadata": {},
   "outputs": [],
   "source": [
    "# Save preprocessing-transformation\n",
    "dump(text_tfidf, open('text3_tfidf.pkl', 'wb'))"
   ]
  },
  {
   "cell_type": "code",
   "execution_count": 19,
   "id": "oriented-conversation",
   "metadata": {},
   "outputs": [
    {
     "data": {
      "text/plain": [
       "((41157, 10000), (3798, 10000), (41157,), (3798,))"
      ]
     },
     "execution_count": 19,
     "metadata": {},
     "output_type": "execute_result"
    }
   ],
   "source": [
    "# Separate data into respective training and test sets\n",
    "X_train = text_tfidf[df['train'] == 1]\n",
    "X_test = text_tfidf[df['test'] == 0]\n",
    "\n",
    "y_train = df['class'][df['train'] == 1]\n",
    "y_test = df['class'][df['test'] == 0]\n",
    "\n",
    "X_train.shape, X_test.shape, y_train.shape, y_test.shape"
   ]
  },
  {
   "cell_type": "code",
   "execution_count": 20,
   "id": "connected-minneapolis",
   "metadata": {},
   "outputs": [
    {
     "data": {
      "text/plain": [
       "LogisticRegression(max_iter=1000)"
      ]
     },
     "execution_count": 20,
     "metadata": {},
     "output_type": "execute_result"
    }
   ],
   "source": [
    "# Logistic Regression\n",
    "clf_lr = LogisticRegression(max_iter = 1000)\n",
    "clf_lr.fit(X_train, y_train)"
   ]
  },
  {
   "cell_type": "code",
   "execution_count": 21,
   "id": "exempt-bulgaria",
   "metadata": {},
   "outputs": [
    {
     "name": "stdout",
     "output_type": "stream",
     "text": [
      "Accuracy: 0.8056872037914692\n"
     ]
    }
   ],
   "source": [
    "# cheeck the score\n",
    "clf_lr_score = clf_lr.score(X_test, y_test)\n",
    "print(\"Accuracy:\", clf_lr_score)"
   ]
  },
  {
   "cell_type": "code",
   "execution_count": 22,
   "id": "beautiful-calendar",
   "metadata": {},
   "outputs": [],
   "source": [
    "# prediction\n",
    "clf_lr_predict = clf_lr.predict(X_test)"
   ]
  },
  {
   "cell_type": "code",
   "execution_count": 25,
   "id": "auburn-terrace",
   "metadata": {},
   "outputs": [],
   "source": [
    "# Logistic Regression Gridsearch\n",
    "grid_clf_lr = LogisticRegression(max_iter = 1200)\n",
    "grid_values = {'penalty': ['l2'], 'C': [0.001,0.01,0.1,1,10]}\n",
    "grid_lr = GridSearchCV(grid_clf_lr, param_grid=grid_values)"
   ]
  },
  {
   "cell_type": "code",
   "execution_count": 26,
   "id": "novel-funds",
   "metadata": {},
   "outputs": [
    {
     "data": {
      "text/plain": [
       "GridSearchCV(estimator=LogisticRegression(max_iter=1200),\n",
       "             param_grid={'C': [0.001, 0.01, 0.1, 1, 10], 'penalty': ['l2']})"
      ]
     },
     "execution_count": 26,
     "metadata": {},
     "output_type": "execute_result"
    }
   ],
   "source": [
    "grid_lr.fit(X_train, y_train)"
   ]
  },
  {
   "cell_type": "code",
   "execution_count": 27,
   "id": "progressive-chester",
   "metadata": {},
   "outputs": [
    {
     "name": "stdout",
     "output_type": "stream",
     "text": [
      "{'C': 10, 'penalty': 'l2'}\n",
      "LogisticRegression(C=10, max_iter=1200)\n"
     ]
    }
   ],
   "source": [
    "# print best parameter after tuning \n",
    "print(grid_lr.best_params_) \n",
    "\n",
    "# print how our model looks after hyper-parameter tuning \n",
    "print(grid_lr.best_estimator_) "
   ]
  },
  {
   "cell_type": "code",
   "execution_count": 28,
   "id": "sustainable-banana",
   "metadata": {},
   "outputs": [
    {
     "name": "stdout",
     "output_type": "stream",
     "text": [
      "              precision    recall  f1-score   support\n",
      "\n",
      "    Negative       0.84      0.83      0.83      1633\n",
      "     Neutral       0.75      0.70      0.72       619\n",
      "    Positive       0.83      0.86      0.84      1546\n",
      "\n",
      "    accuracy                           0.82      3798\n",
      "   macro avg       0.80      0.80      0.80      3798\n",
      "weighted avg       0.82      0.82      0.82      3798\n",
      "\n"
     ]
    }
   ],
   "source": [
    "# check performance\n",
    "grid_lr_predictions = grid_lr.predict(X_test) \n",
    "\n",
    "# print classification report \n",
    "print(classification_report(y_test, grid_lr_predictions)) "
   ]
  },
  {
   "cell_type": "code",
   "execution_count": 29,
   "id": "satisfied-arrow",
   "metadata": {},
   "outputs": [
    {
     "data": {
      "image/png": "[encoded data removed]",
      "text/plain": [
       "<Figure size 432x288 with 2 Axes>"
      ]
     },
     "metadata": {},
     "output_type": "display_data"
    },
    {
     "data": {
      "text/plain": [
       "<Figure size 720x504 with 0 Axes>"
      ]
     },
     "metadata": {},
     "output_type": "display_data"
    }
   ],
   "source": [
    "# Plot confusion matrix\n",
    "\n",
    "#import the relevant packages\n",
    "from sklearn import metrics\n",
    "\n",
    "#get the confusion matrix\n",
    "confusion_matrix = metrics.confusion_matrix(y_test,  \n",
    "                                            grid_lr_predictions)\n",
    "#turn this into a dataframe\n",
    "matrix_df = pd.DataFrame(confusion_matrix)\n",
    "#plot the result\n",
    "ax = plt.axes()\n",
    "sns.set(font_scale=1.3)\n",
    "plt.figure(figsize=(10,7))\n",
    "sns.heatmap(matrix_df, annot=True, fmt=\"g\", ax=ax, cmap=\"magma\")\n",
    "#set axis titles\n",
    "ax.set_title('Confusion Matrix - LogisticRegression GSCV')\n",
    "ax.set_xlabel(\"Predicted label\", fontsize =15)\n",
    "ax.set_xticklabels(['']+labels, rotation = 90)\n",
    "ax.set_ylabel(\"True Label\", fontsize=15)\n",
    "ax.set_yticklabels(list(labels), rotation = 0)\n",
    "plt.savefig('cfm3-lrGSCV.png')\n",
    "plt.show()"
   ]
  },
  {
   "cell_type": "code",
   "execution_count": 32,
   "id": "personalized-psychology",
   "metadata": {},
   "outputs": [],
   "source": [
    "# Save model\n",
    "dump(grid_lr, open('grid3_lr.pkl', 'wb'))"
   ]
  },
  {
   "cell_type": "code",
   "execution_count": null,
   "id": "visible-sherman",
   "metadata": {},
   "outputs": [],
   "source": []
  },
  {
   "cell_type": "code",
   "execution_count": 28,
   "id": "ancient-bacteria",
   "metadata": {},
   "outputs": [],
   "source": [
    "#####################"
   ]
  },
  {
   "cell_type": "code",
   "execution_count": 29,
   "id": "suspected-promotion",
   "metadata": {},
   "outputs": [],
   "source": [
    "# LinearSVC"
   ]
  },
  {
   "cell_type": "code",
   "execution_count": 33,
   "id": "valuable-classroom",
   "metadata": {},
   "outputs": [
    {
     "data": {
      "text/plain": [
       "LinearSVC()"
      ]
     },
     "execution_count": 33,
     "metadata": {},
     "output_type": "execute_result"
    }
   ],
   "source": [
    "# Instantiate the model\n",
    "clf_lvc = LinearSVC()\n",
    "clf_lvc.fit(X_train, y_train)"
   ]
  },
  {
   "cell_type": "code",
   "execution_count": 34,
   "id": "described-kennedy",
   "metadata": {},
   "outputs": [
    {
     "name": "stdout",
     "output_type": "stream",
     "text": [
      "Accurace: 0.8317535545023697\n"
     ]
    }
   ],
   "source": [
    "score_lvc = clf_lvc.score(X_test, y_test)\n",
    "print(f'Accurace:', score_lvc)"
   ]
  },
  {
   "cell_type": "code",
   "execution_count": 35,
   "id": "turned-white",
   "metadata": {},
   "outputs": [],
   "source": [
    "# Predict\n",
    "clf_lvc_predict = clf_lvc.predict(X_test)"
   ]
  },
  {
   "cell_type": "code",
   "execution_count": 36,
   "id": "american-quick",
   "metadata": {},
   "outputs": [
    {
     "name": "stdout",
     "output_type": "stream",
     "text": [
      "Fitting 5 folds for each of 5 candidates, totalling 25 fits\n",
      "[CV] C=0.1 ...........................................................\n"
     ]
    },
    {
     "name": "stderr",
     "output_type": "stream",
     "text": [
      "[Parallel(n_jobs=1)]: Using backend SequentialBackend with 1 concurrent workers.\n"
     ]
    },
    {
     "name": "stdout",
     "output_type": "stream",
     "text": [
      "[CV] ............................... C=0.1, score=0.781, total=   0.5s\n",
      "[CV] C=0.1 ...........................................................\n"
     ]
    },
    {
     "name": "stderr",
     "output_type": "stream",
     "text": [
      "[Parallel(n_jobs=1)]: Done   1 out of   1 | elapsed:    0.4s remaining:    0.0s\n"
     ]
    },
    {
     "name": "stdout",
     "output_type": "stream",
     "text": [
      "[CV] ............................... C=0.1, score=0.783, total=   0.5s\n",
      "[CV] C=0.1 ...........................................................\n"
     ]
    },
    {
     "name": "stderr",
     "output_type": "stream",
     "text": [
      "[Parallel(n_jobs=1)]: Done   2 out of   2 | elapsed:    0.9s remaining:    0.0s\n"
     ]
    },
    {
     "name": "stdout",
     "output_type": "stream",
     "text": [
      "[CV] ............................... C=0.1, score=0.781, total=   0.5s\n",
      "[CV] C=0.1 ...........................................................\n",
      "[CV] ............................... C=0.1, score=0.783, total=   0.5s\n",
      "[CV] C=0.1 ...........................................................\n",
      "[CV] ............................... C=0.1, score=0.789, total=   0.5s\n",
      "[CV] C=1 .............................................................\n",
      "[CV] ................................. C=1, score=0.812, total=   1.2s\n",
      "[CV] C=1 .............................................................\n",
      "[CV] ................................. C=1, score=0.815, total=   1.2s\n",
      "[CV] C=1 .............................................................\n",
      "[CV] ................................. C=1, score=0.808, total=   1.2s\n",
      "[CV] C=1 .............................................................\n",
      "[CV] ................................. C=1, score=0.814, total=   1.1s\n",
      "[CV] C=1 .............................................................\n",
      "[CV] ................................. C=1, score=0.815, total=   1.1s\n",
      "[CV] C=10 ............................................................\n",
      "[CV] ................................ C=10, score=0.782, total=   6.8s\n",
      "[CV] C=10 ............................................................\n",
      "[CV] ................................ C=10, score=0.792, total=   5.5s\n",
      "[CV] C=10 ............................................................\n",
      "[CV] ................................ C=10, score=0.777, total=   6.3s\n",
      "[CV] C=10 ............................................................\n",
      "[CV] ................................ C=10, score=0.777, total=   5.9s\n",
      "[CV] C=10 ............................................................\n",
      "[CV] ................................ C=10, score=0.787, total=   6.6s\n",
      "[CV] C=100 ...........................................................\n"
     ]
    },
    {
     "name": "stderr",
     "output_type": "stream",
     "text": [
      "C:\\Users\\lenpk\\anaconda3\\envs\\PythonAdv\\lib\\site-packages\\sklearn\\svm\\_base.py:977: ConvergenceWarning: Liblinear failed to converge, increase the number of iterations.\n",
      "  \"the number of iterations.\", ConvergenceWarning)\n"
     ]
    },
    {
     "name": "stdout",
     "output_type": "stream",
     "text": [
      "[CV] ............................... C=100, score=0.738, total=  10.8s\n",
      "[CV] C=100 ...........................................................\n",
      "[CV] ............................... C=100, score=0.753, total=  10.2s\n",
      "[CV] C=100 ...........................................................\n",
      "[CV] ............................... C=100, score=0.725, total=  11.8s\n",
      "[CV] C=100 ...........................................................\n",
      "[CV] ............................... C=100, score=0.732, total=  11.2s\n",
      "[CV] C=100 ...........................................................\n",
      "[CV] ............................... C=100, score=0.735, total=  11.3s\n",
      "[CV] C=1000 ..........................................................\n",
      "[CV] .............................. C=1000, score=0.718, total=  11.6s\n",
      "[CV] C=1000 ..........................................................\n",
      "[CV] .............................. C=1000, score=0.736, total=  11.2s\n",
      "[CV] C=1000 ..........................................................\n",
      "[CV] .............................. C=1000, score=0.706, total=  11.9s\n",
      "[CV] C=1000 ..........................................................\n",
      "[CV] .............................. C=1000, score=0.710, total=  12.2s\n",
      "[CV] C=1000 ..........................................................\n",
      "[CV] .............................. C=1000, score=0.714, total=  12.8s\n"
     ]
    },
    {
     "name": "stderr",
     "output_type": "stream",
     "text": [
      "[Parallel(n_jobs=1)]: Done  25 out of  25 | elapsed:  2.6min finished\n"
     ]
    },
    {
     "data": {
      "text/plain": [
       "GridSearchCV(estimator=LinearSVC(), param_grid={'C': [0.1, 1, 10, 100, 1000]},\n",
       "             verbose=3)"
      ]
     },
     "execution_count": 36,
     "metadata": {},
     "output_type": "execute_result"
    }
   ],
   "source": [
    "# Grid search for linearSVC\n",
    "# defining parameter range \n",
    "param_grid = {'C': [0.1, 1, 10, 100, 1000]}  \n",
    "  \n",
    "grid_lvc = GridSearchCV(LinearSVC(), param_grid, refit = True, verbose = 3) \n",
    "  \n",
    "# fitting the model for grid search \n",
    "grid_lvc.fit(X_train, y_train)"
   ]
  },
  {
   "cell_type": "code",
   "execution_count": 37,
   "id": "brazilian-african",
   "metadata": {},
   "outputs": [
    {
     "name": "stdout",
     "output_type": "stream",
     "text": [
      "{'C': 1}\n",
      "LinearSVC(C=1)\n"
     ]
    }
   ],
   "source": [
    "# print best parameter after tuning \n",
    "print(grid_lvc.best_params_) \n",
    "\n",
    "# print how our model looks after hyper-parameter tuning \n",
    "print(grid_lvc.best_estimator_) \n"
   ]
  },
  {
   "cell_type": "code",
   "execution_count": 38,
   "id": "korean-stroke",
   "metadata": {},
   "outputs": [
    {
     "name": "stdout",
     "output_type": "stream",
     "text": [
      "              precision    recall  f1-score   support\n",
      "\n",
      "    Negative       0.84      0.84      0.84      1633\n",
      "     Neutral       0.78      0.71      0.74       619\n",
      "    Positive       0.84      0.87      0.85      1546\n",
      "\n",
      "    accuracy                           0.83      3798\n",
      "   macro avg       0.82      0.81      0.81      3798\n",
      "weighted avg       0.83      0.83      0.83      3798\n",
      "\n"
     ]
    }
   ],
   "source": [
    "# check performance\n",
    "grid_lvc_predictions = grid_lvc.predict(X_test) \n",
    "\n",
    "# print classification report \n",
    "print(classification_report(y_test, grid_lvc_predictions)) "
   ]
  },
  {
   "cell_type": "code",
   "execution_count": 39,
   "id": "regulated-attribute",
   "metadata": {},
   "outputs": [
    {
     "data": {
      "image/png": "[encoded data removed]",
      "text/plain": [
       "<Figure size 432x288 with 2 Axes>"
      ]
     },
     "metadata": {},
     "output_type": "display_data"
    },
    {
     "data": {
      "text/plain": [
       "<Figure size 720x504 with 0 Axes>"
      ]
     },
     "metadata": {},
     "output_type": "display_data"
    }
   ],
   "source": [
    "#get the confusion matrix\n",
    "confusion_matrix = metrics.confusion_matrix(y_test,  \n",
    "                                            grid_lvc_predictions)\n",
    "#turn this into a dataframe\n",
    "matrix_df = pd.DataFrame(confusion_matrix)\n",
    "#plot the result\n",
    "ax = plt.axes()\n",
    "sns.set(font_scale=1.3)\n",
    "plt.figure(figsize=(10,7))\n",
    "sns.heatmap(matrix_df, annot=True, fmt=\"g\", ax=ax, cmap=\"magma\")\n",
    "#set axis titles\n",
    "ax.set_title('Confusion Matrix - LinearSVC GSCV')\n",
    "ax.set_xlabel(\"Predicted label\", fontsize =15)\n",
    "ax.set_xticklabels(['']+labels, rotation = 90)\n",
    "ax.set_ylabel(\"True Label\", fontsize=15)\n",
    "ax.set_yticklabels(list(labels), rotation = 0)\n",
    "plt.savefig('cfm3-lvcGSCV.png')\n",
    "plt.show()"
   ]
  },
  {
   "cell_type": "code",
   "execution_count": null,
   "id": "thrown-translator",
   "metadata": {},
   "outputs": [],
   "source": []
  },
  {
   "cell_type": "code",
   "execution_count": 40,
   "id": "hawaiian-authorization",
   "metadata": {},
   "outputs": [],
   "source": [
    "# little improvement from original model\n",
    "# Save the model\n",
    "\n",
    "dump(grid_lvc, open('grid3_lsvc.pkl', 'wb'))"
   ]
  },
  {
   "cell_type": "code",
   "execution_count": 38,
   "id": "parental-malpractice",
   "metadata": {},
   "outputs": [],
   "source": [
    "##################################"
   ]
  },
  {
   "cell_type": "code",
   "execution_count": 43,
   "id": "nominated-breeding",
   "metadata": {},
   "outputs": [
    {
     "data": {
      "text/plain": [
       "MultinomialNB(alpha=0.01)"
      ]
     },
     "execution_count": 43,
     "metadata": {},
     "output_type": "execute_result"
    }
   ],
   "source": [
    "# Naive Bayes\n",
    "clf_nb = MultinomialNB(alpha=.01)\n",
    "clf_nb.fit(X_train, y_train)"
   ]
  },
  {
   "cell_type": "code",
   "execution_count": 44,
   "id": "imperial-advocacy",
   "metadata": {},
   "outputs": [
    {
     "name": "stdout",
     "output_type": "stream",
     "text": [
      "Accuracy: 0.6708794102159031\n"
     ]
    }
   ],
   "source": [
    "clf_score = clf_nb.score(X_test, y_test)\n",
    "print(\"Accuracy:\", clf_score)"
   ]
  },
  {
   "cell_type": "code",
   "execution_count": 41,
   "id": "super-supplement",
   "metadata": {},
   "outputs": [
    {
     "data": {
      "text/plain": [
       "RandomForestClassifier()"
      ]
     },
     "execution_count": 41,
     "metadata": {},
     "output_type": "execute_result"
    }
   ],
   "source": [
    "# RandomForestClassifier\n",
    "rf = RandomForestClassifier()\n",
    "rf.fit(X_train, y_train)"
   ]
  },
  {
   "cell_type": "code",
   "execution_count": 42,
   "id": "pressed-quilt",
   "metadata": {},
   "outputs": [
    {
     "name": "stdout",
     "output_type": "stream",
     "text": [
      "Accuracy: 0.6661400737230121\n"
     ]
    }
   ],
   "source": [
    "rf_score = rf.score(X_test, y_test)\n",
    "print(\"Accuracy:\", rf_score)"
   ]
  }
 ],
 "metadata": {
  "kernelspec": {
   "display_name": "Python [conda env:pythonadv] *",
   "language": "python",
   "name": "conda-env-pythonadv-py"
  },
  "language_info": {
   "codemirror_mode": {
    "name": "ipython",
    "version": 3
   },
   "file_extension": ".py",
   "mimetype": "text/x-python",
   "name": "python",
   "nbconvert_exporter": "python",
   "pygments_lexer": "ipython3",
   "version": "3.6.12"
  }
 },
 "nbformat": 4,
 "nbformat_minor": 5
}

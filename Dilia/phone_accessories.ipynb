{
 "cells": [
  {
   "cell_type": "code",
   "execution_count": 2,
   "id": "defined-anderson",
   "metadata": {},
   "outputs": [
    {
     "name": "stderr",
     "output_type": "stream",
     "text": [
      "C:\\Users\\lenpk\\anaconda3\\envs\\PythonAdv\\lib\\site-packages\\ipykernel_launcher.py:4: FutureWarning: Passing a negative integer is deprecated in version 1.0 and will not be supported in future version. Instead, use None to not limit the column width.\n",
      "  after removing the cwd from sys.path.\n"
     ]
    }
   ],
   "source": [
    "import pandas as pd\n",
    "import gzip\n",
    "import json\n",
    "import numpy as np\n",
    "pd.set_option('display.max_colwidth', -1)"
   ]
  },
  {
   "cell_type": "code",
   "execution_count": 3,
   "id": "helpful-folder",
   "metadata": {},
   "outputs": [],
   "source": [
    "file_path = \"reviews_Cell_Phones_and_Accessories_5.json.gz\""
   ]
  },
  {
   "cell_type": "code",
   "execution_count": 4,
   "id": "environmental-puzzle",
   "metadata": {},
   "outputs": [
    {
     "data": {
      "text/html": [
       "<div>\n",
       "<style scoped>\n",
       "    .dataframe tbody tr th:only-of-type {\n",
       "        vertical-align: middle;\n",
       "    }\n",
       "\n",
       "    .dataframe tbody tr th {\n",
       "        vertical-align: top;\n",
       "    }\n",
       "\n",
       "    .dataframe thead th {\n",
       "        text-align: right;\n",
       "    }\n",
       "</style>\n",
       "<table border=\"1\" class=\"dataframe\">\n",
       "  <thead>\n",
       "    <tr style=\"text-align: right;\">\n",
       "      <th></th>\n",
       "      <th>reviewerID</th>\n",
       "      <th>asin</th>\n",
       "      <th>reviewerName</th>\n",
       "      <th>helpful</th>\n",
       "      <th>reviewText</th>\n",
       "      <th>overall</th>\n",
       "      <th>summary</th>\n",
       "      <th>unixReviewTime</th>\n",
       "      <th>reviewTime</th>\n",
       "    </tr>\n",
       "  </thead>\n",
       "  <tbody>\n",
       "    <tr>\n",
       "      <th>0</th>\n",
       "      <td>A30TL5EWN6DFXT</td>\n",
       "      <td>120401325X</td>\n",
       "      <td>christina</td>\n",
       "      <td>[0, 0]</td>\n",
       "      <td>They look good and stick good! I just don't like the rounded shape because I was always bumping it and Siri kept popping up and it was irritating. I just won't buy a product like this again</td>\n",
       "      <td>4</td>\n",
       "      <td>Looks Good</td>\n",
       "      <td>1400630400</td>\n",
       "      <td>05 21, 2014</td>\n",
       "    </tr>\n",
       "    <tr>\n",
       "      <th>1</th>\n",
       "      <td>ASY55RVNIL0UD</td>\n",
       "      <td>120401325X</td>\n",
       "      <td>emily l.</td>\n",
       "      <td>[0, 0]</td>\n",
       "      <td>These stickers work like the review says they do. They stick on great and they stay on the phone. They are super stylish and I can share them with my sister. :)</td>\n",
       "      <td>5</td>\n",
       "      <td>Really great product.</td>\n",
       "      <td>1389657600</td>\n",
       "      <td>01 14, 2014</td>\n",
       "    </tr>\n",
       "    <tr>\n",
       "      <th>2</th>\n",
       "      <td>A2TMXE2AFO7ONB</td>\n",
       "      <td>120401325X</td>\n",
       "      <td>Erica</td>\n",
       "      <td>[0, 0]</td>\n",
       "      <td>These are awesome and make my phone look so stylish! I have only used one so far and have had it on for almost a year! CAN YOU BELIEVE THAT! ONE YEAR!! Great quality!</td>\n",
       "      <td>5</td>\n",
       "      <td>LOVE LOVE LOVE</td>\n",
       "      <td>1403740800</td>\n",
       "      <td>06 26, 2014</td>\n",
       "    </tr>\n",
       "    <tr>\n",
       "      <th>3</th>\n",
       "      <td>AWJ0WZQYMYFQ4</td>\n",
       "      <td>120401325X</td>\n",
       "      <td>JM</td>\n",
       "      <td>[4, 4]</td>\n",
       "      <td>Item arrived in great time and was in perfect condition. However, I ordered these buttons because they were a great deal and included a FREE screen protector. I never received one. Though its not a big deal, it would've been nice to get it since they claim it comes with one.</td>\n",
       "      <td>4</td>\n",
       "      <td>Cute!</td>\n",
       "      <td>1382313600</td>\n",
       "      <td>10 21, 2013</td>\n",
       "    </tr>\n",
       "    <tr>\n",
       "      <th>4</th>\n",
       "      <td>ATX7CZYFXI1KW</td>\n",
       "      <td>120401325X</td>\n",
       "      <td>patrice m rogoza</td>\n",
       "      <td>[2, 3]</td>\n",
       "      <td>awesome! stays on, and looks great. can be used on multiple apple products.  especially having nails, it helps to have an elevated key.</td>\n",
       "      <td>5</td>\n",
       "      <td>leopard home button sticker for iphone 4s</td>\n",
       "      <td>1359849600</td>\n",
       "      <td>02 3, 2013</td>\n",
       "    </tr>\n",
       "    <tr>\n",
       "      <th>5</th>\n",
       "      <td>APX47D16JOP7H</td>\n",
       "      <td>120401325X</td>\n",
       "      <td>RLH</td>\n",
       "      <td>[1, 2]</td>\n",
       "      <td>These make using the home button easy. My daughter and I both like them.  I would purchase them again. Well worth the price.</td>\n",
       "      <td>3</td>\n",
       "      <td>Cute</td>\n",
       "      <td>1381536000</td>\n",
       "      <td>10 12, 2013</td>\n",
       "    </tr>\n",
       "    <tr>\n",
       "      <th>6</th>\n",
       "      <td>A1JVVYYO7G56DS</td>\n",
       "      <td>120401325X</td>\n",
       "      <td>Tyler Evans</td>\n",
       "      <td>[0, 0]</td>\n",
       "      <td>Came just as described.. It doesn't come unstuck and its cute! People ask where I got them from &amp; it's great when driving.</td>\n",
       "      <td>5</td>\n",
       "      <td>best thing ever..</td>\n",
       "      <td>1377129600</td>\n",
       "      <td>08 22, 2013</td>\n",
       "    </tr>\n",
       "    <tr>\n",
       "      <th>7</th>\n",
       "      <td>A6FGO4TBZ3QFZ</td>\n",
       "      <td>3998899561</td>\n",
       "      <td>Abdullah Albyati</td>\n",
       "      <td>[1, 2]</td>\n",
       "      <td>it worked for the first week then it only charge my phone to 20%. it is a waste of money.</td>\n",
       "      <td>1</td>\n",
       "      <td>not a good Idea</td>\n",
       "      <td>1384992000</td>\n",
       "      <td>11 21, 2013</td>\n",
       "    </tr>\n",
       "    <tr>\n",
       "      <th>8</th>\n",
       "      <td>A2JWEDW5FSVB0F</td>\n",
       "      <td>3998899561</td>\n",
       "      <td>Adam</td>\n",
       "      <td>[2, 3]</td>\n",
       "      <td>Good case, solid build. Protects phone all around with good access to buttons. Battery charges with full battery lasts me a full day. I usually leave my house around 7am and return at 10pm. I'm glad that it lasts from start to end. 5/5</td>\n",
       "      <td>5</td>\n",
       "      <td>Solid Case</td>\n",
       "      <td>1380067200</td>\n",
       "      <td>09 25, 2013</td>\n",
       "    </tr>\n",
       "    <tr>\n",
       "      <th>9</th>\n",
       "      <td>A8AJS1DW7L3JJ</td>\n",
       "      <td>3998899561</td>\n",
       "      <td>Agata Majchrzak</td>\n",
       "      <td>[1, 1]</td>\n",
       "      <td>This is a fantastic case. Very stylish and protects my phone. Easy access to all buttons and features, without any loss of phone reception. But most importantly, it double power, just as promised. Great buy</td>\n",
       "      <td>5</td>\n",
       "      <td>Perfect Case</td>\n",
       "      <td>1396483200</td>\n",
       "      <td>04 3, 2014</td>\n",
       "    </tr>\n",
       "  </tbody>\n",
       "</table>\n",
       "</div>"
      ],
      "text/plain": [
       "       reviewerID        asin      reviewerName helpful  \\\n",
       "0  A30TL5EWN6DFXT  120401325X  christina         [0, 0]   \n",
       "1  ASY55RVNIL0UD   120401325X  emily l.          [0, 0]   \n",
       "2  A2TMXE2AFO7ONB  120401325X  Erica             [0, 0]   \n",
       "3  AWJ0WZQYMYFQ4   120401325X  JM                [4, 4]   \n",
       "4  ATX7CZYFXI1KW   120401325X  patrice m rogoza  [2, 3]   \n",
       "5  APX47D16JOP7H   120401325X  RLH               [1, 2]   \n",
       "6  A1JVVYYO7G56DS  120401325X  Tyler Evans       [0, 0]   \n",
       "7  A6FGO4TBZ3QFZ   3998899561  Abdullah Albyati  [1, 2]   \n",
       "8  A2JWEDW5FSVB0F  3998899561  Adam              [2, 3]   \n",
       "9  A8AJS1DW7L3JJ   3998899561  Agata Majchrzak   [1, 1]   \n",
       "\n",
       "                                                                                                                                                                                                                                                                            reviewText  \\\n",
       "0  They look good and stick good! I just don't like the rounded shape because I was always bumping it and Siri kept popping up and it was irritating. I just won't buy a product like this again                                                                                         \n",
       "1  These stickers work like the review says they do. They stick on great and they stay on the phone. They are super stylish and I can share them with my sister. :)                                                                                                                      \n",
       "2  These are awesome and make my phone look so stylish! I have only used one so far and have had it on for almost a year! CAN YOU BELIEVE THAT! ONE YEAR!! Great quality!                                                                                                                \n",
       "3  Item arrived in great time and was in perfect condition. However, I ordered these buttons because they were a great deal and included a FREE screen protector. I never received one. Though its not a big deal, it would've been nice to get it since they claim it comes with one.   \n",
       "4  awesome! stays on, and looks great. can be used on multiple apple products.  especially having nails, it helps to have an elevated key.                                                                                                                                               \n",
       "5  These make using the home button easy. My daughter and I both like them.  I would purchase them again. Well worth the price.                                                                                                                                                          \n",
       "6  Came just as described.. It doesn't come unstuck and its cute! People ask where I got them from & it's great when driving.                                                                                                                                                            \n",
       "7  it worked for the first week then it only charge my phone to 20%. it is a waste of money.                                                                                                                                                                                             \n",
       "8  Good case, solid build. Protects phone all around with good access to buttons. Battery charges with full battery lasts me a full day. I usually leave my house around 7am and return at 10pm. I'm glad that it lasts from start to end. 5/5                                           \n",
       "9  This is a fantastic case. Very stylish and protects my phone. Easy access to all buttons and features, without any loss of phone reception. But most importantly, it double power, just as promised. Great buy                                                                        \n",
       "\n",
       "   overall                                    summary  unixReviewTime  \\\n",
       "0  4        Looks Good                                 1400630400       \n",
       "1  5        Really great product.                      1389657600       \n",
       "2  5        LOVE LOVE LOVE                             1403740800       \n",
       "3  4        Cute!                                      1382313600       \n",
       "4  5        leopard home button sticker for iphone 4s  1359849600       \n",
       "5  3        Cute                                       1381536000       \n",
       "6  5        best thing ever..                          1377129600       \n",
       "7  1        not a good Idea                            1384992000       \n",
       "8  5        Solid Case                                 1380067200       \n",
       "9  5        Perfect Case                               1396483200       \n",
       "\n",
       "    reviewTime  \n",
       "0  05 21, 2014  \n",
       "1  01 14, 2014  \n",
       "2  06 26, 2014  \n",
       "3  10 21, 2013  \n",
       "4  02 3, 2013   \n",
       "5  10 12, 2013  \n",
       "6  08 22, 2013  \n",
       "7  11 21, 2013  \n",
       "8  09 25, 2013  \n",
       "9  04 3, 2014   "
      ]
     },
     "execution_count": 4,
     "metadata": {},
     "output_type": "execute_result"
    }
   ],
   "source": [
    "phone_df = pd.read_json(file_path, lines = True)\n",
    "phone_df.head(10)"
   ]
  },
  {
   "cell_type": "code",
   "execution_count": 5,
   "id": "closed-lebanon",
   "metadata": {},
   "outputs": [
    {
     "data": {
      "text/plain": [
       "194439"
      ]
     },
     "execution_count": 5,
     "metadata": {},
     "output_type": "execute_result"
    }
   ],
   "source": [
    "len(phone_df)"
   ]
  },
  {
   "cell_type": "code",
   "execution_count": 6,
   "id": "female-singapore",
   "metadata": {},
   "outputs": [
    {
     "name": "stdout",
     "output_type": "stream",
     "text": [
      "<class 'pandas.core.frame.DataFrame'>\n",
      "RangeIndex: 194439 entries, 0 to 194438\n",
      "Data columns (total 9 columns):\n",
      " #   Column          Non-Null Count   Dtype \n",
      "---  ------          --------------   ----- \n",
      " 0   reviewerID      194439 non-null  object\n",
      " 1   asin            194439 non-null  object\n",
      " 2   reviewerName    190920 non-null  object\n",
      " 3   helpful         194439 non-null  object\n",
      " 4   reviewText      194439 non-null  object\n",
      " 5   overall         194439 non-null  int64 \n",
      " 6   summary         194439 non-null  object\n",
      " 7   unixReviewTime  194439 non-null  int64 \n",
      " 8   reviewTime      194439 non-null  object\n",
      "dtypes: int64(2), object(7)\n",
      "memory usage: 13.4+ MB\n"
     ]
    }
   ],
   "source": [
    "phone_df.info()"
   ]
  },
  {
   "cell_type": "code",
   "execution_count": 7,
   "id": "thick-account",
   "metadata": {},
   "outputs": [
    {
     "name": "stdout",
     "output_type": "stream",
     "text": [
      "<class 'pandas.core.frame.DataFrame'>\n",
      "RangeIndex: 190920 entries, 0 to 190919\n",
      "Data columns (total 9 columns):\n",
      " #   Column          Non-Null Count   Dtype \n",
      "---  ------          --------------   ----- \n",
      " 0   reviewerID      190920 non-null  object\n",
      " 1   asin            190920 non-null  object\n",
      " 2   reviewerName    190920 non-null  object\n",
      " 3   helpful         190920 non-null  object\n",
      " 4   reviewText      190920 non-null  object\n",
      " 5   overall         190920 non-null  int64 \n",
      " 6   summary         190920 non-null  object\n",
      " 7   unixReviewTime  190920 non-null  int64 \n",
      " 8   reviewTime      190920 non-null  object\n",
      "dtypes: int64(2), object(7)\n",
      "memory usage: 13.1+ MB\n"
     ]
    }
   ],
   "source": [
    "phone_df_clean = phone_df.dropna().reset_index(drop = True)\n",
    "phone_df_clean.info()"
   ]
  },
  {
   "cell_type": "code",
   "execution_count": 8,
   "id": "adult-horror",
   "metadata": {},
   "outputs": [
    {
     "data": {
      "text/plain": [
       "5    106573\n",
       "4    39305 \n",
       "3    21075 \n",
       "1    13078 \n",
       "2    10889 \n",
       "Name: overall, dtype: int64"
      ]
     },
     "execution_count": 8,
     "metadata": {},
     "output_type": "execute_result"
    }
   ],
   "source": [
    "ratings_count = phone_df_clean['overall'].value_counts()\n",
    "ratings_count"
   ]
  },
  {
   "cell_type": "code",
   "execution_count": 9,
   "id": "scientific-sound",
   "metadata": {},
   "outputs": [
    {
     "data": {
      "text/plain": [
       "5    0.558208\n",
       "4    0.205872\n",
       "3    0.110387\n",
       "1    0.068500\n",
       "2    0.057034\n",
       "Name: overall, dtype: float64"
      ]
     },
     "execution_count": 9,
     "metadata": {},
     "output_type": "execute_result"
    }
   ],
   "source": [
    "ratings_count_props = phone_df_clean['overall'].value_counts(normalize = True)\n",
    "ratings_count_props"
   ]
  },
  {
   "cell_type": "code",
   "execution_count": 10,
   "id": "immune-oracle",
   "metadata": {},
   "outputs": [],
   "source": [
    "import matplotlib.pyplot as plt\n",
    "import seaborn as sns"
   ]
  },
  {
   "cell_type": "code",
   "execution_count": 11,
   "id": "vocational-youth",
   "metadata": {},
   "outputs": [
    {
     "name": "stderr",
     "output_type": "stream",
     "text": [
      "C:\\Users\\lenpk\\anaconda3\\envs\\PythonAdv\\lib\\site-packages\\seaborn\\_decorators.py:43: FutureWarning: Pass the following variable as a keyword arg: x. From version 0.12, the only valid positional argument will be `data`, and passing other arguments without an explicit keyword will result in an error or misinterpretation.\n",
      "  FutureWarning\n"
     ]
    },
    {
     "data": {
      "image/png": "[encoded data removed]",
      "text/plain": [
       "<Figure size 432x288 with 1 Axes>"
      ]
     },
     "metadata": {
      "needs_background": "light"
     },
     "output_type": "display_data"
    }
   ],
   "source": [
    "sns.countplot(phone_df_clean['overall'], order=phone_df_clean['overall'].value_counts(ascending=False).index)\n",
    "plt.show()"
   ]
  },
  {
   "cell_type": "code",
   "execution_count": 12,
   "id": "fifth-medium",
   "metadata": {},
   "outputs": [
    {
     "data": {
      "text/plain": [
       "Amazon Customer                3562\n",
       "Pen Name                       344 \n",
       "John                           268 \n",
       "Chris                          234 \n",
       "Mike                           224 \n",
       "David                          218 \n",
       "Michael                        177 \n",
       "Ryan                           177 \n",
       "Mike Tarrani \"Jazz Drummer\"    152 \n",
       "Paul                           145 \n",
       "Name: reviewerName, dtype: int64"
      ]
     },
     "execution_count": 12,
     "metadata": {},
     "output_type": "execute_result"
    }
   ],
   "source": [
    "reviewer_count = phone_df_clean['reviewerName'].value_counts(ascending=False)\n",
    "reviewer_count.head(10)"
   ]
  },
  {
   "cell_type": "code",
   "execution_count": 13,
   "id": "authentic-filing",
   "metadata": {},
   "outputs": [
    {
     "data": {
      "text/html": [
       "<div>\n",
       "<style scoped>\n",
       "    .dataframe tbody tr th:only-of-type {\n",
       "        vertical-align: middle;\n",
       "    }\n",
       "\n",
       "    .dataframe tbody tr th {\n",
       "        vertical-align: top;\n",
       "    }\n",
       "\n",
       "    .dataframe thead th {\n",
       "        text-align: right;\n",
       "    }\n",
       "</style>\n",
       "<table border=\"1\" class=\"dataframe\">\n",
       "  <thead>\n",
       "    <tr style=\"text-align: right;\">\n",
       "      <th></th>\n",
       "      <th>overall</th>\n",
       "      <th>reviewText</th>\n",
       "    </tr>\n",
       "  </thead>\n",
       "  <tbody>\n",
       "    <tr>\n",
       "      <th>0</th>\n",
       "      <td>4</td>\n",
       "      <td>They look good and stick good! I just don't like the rounded shape because I was always bumping it and Siri kept popping up and it was irritating. I just won't buy a product like this again</td>\n",
       "    </tr>\n",
       "    <tr>\n",
       "      <th>1</th>\n",
       "      <td>5</td>\n",
       "      <td>These stickers work like the review says they do. They stick on great and they stay on the phone. They are super stylish and I can share them with my sister. :)</td>\n",
       "    </tr>\n",
       "    <tr>\n",
       "      <th>2</th>\n",
       "      <td>5</td>\n",
       "      <td>These are awesome and make my phone look so stylish! I have only used one so far and have had it on for almost a year! CAN YOU BELIEVE THAT! ONE YEAR!! Great quality!</td>\n",
       "    </tr>\n",
       "    <tr>\n",
       "      <th>3</th>\n",
       "      <td>4</td>\n",
       "      <td>Item arrived in great time and was in perfect condition. However, I ordered these buttons because they were a great deal and included a FREE screen protector. I never received one. Though its not a big deal, it would've been nice to get it since they claim it comes with one.</td>\n",
       "    </tr>\n",
       "    <tr>\n",
       "      <th>4</th>\n",
       "      <td>5</td>\n",
       "      <td>awesome! stays on, and looks great. can be used on multiple apple products.  especially having nails, it helps to have an elevated key.</td>\n",
       "    </tr>\n",
       "  </tbody>\n",
       "</table>\n",
       "</div>"
      ],
      "text/plain": [
       "   overall  \\\n",
       "0  4         \n",
       "1  5         \n",
       "2  5         \n",
       "3  4         \n",
       "4  5         \n",
       "\n",
       "                                                                                                                                                                                                                                                                            reviewText  \n",
       "0  They look good and stick good! I just don't like the rounded shape because I was always bumping it and Siri kept popping up and it was irritating. I just won't buy a product like this again                                                                                        \n",
       "1  These stickers work like the review says they do. They stick on great and they stay on the phone. They are super stylish and I can share them with my sister. :)                                                                                                                     \n",
       "2  These are awesome and make my phone look so stylish! I have only used one so far and have had it on for almost a year! CAN YOU BELIEVE THAT! ONE YEAR!! Great quality!                                                                                                               \n",
       "3  Item arrived in great time and was in perfect condition. However, I ordered these buttons because they were a great deal and included a FREE screen protector. I never received one. Though its not a big deal, it would've been nice to get it since they claim it comes with one.  \n",
       "4  awesome! stays on, and looks great. can be used on multiple apple products.  especially having nails, it helps to have an elevated key.                                                                                                                                              "
      ]
     },
     "execution_count": 13,
     "metadata": {},
     "output_type": "execute_result"
    }
   ],
   "source": [
    "# Extract columns of interest into a new dataframe\n",
    "data_df = phone_df_clean[['overall', 'reviewText']]\n",
    "data_df.head()"
   ]
  },
  {
   "cell_type": "code",
   "execution_count": 14,
   "id": "serial-hundred",
   "metadata": {},
   "outputs": [
    {
     "data": {
      "text/html": [
       "<div>\n",
       "<style scoped>\n",
       "    .dataframe tbody tr th:only-of-type {\n",
       "        vertical-align: middle;\n",
       "    }\n",
       "\n",
       "    .dataframe tbody tr th {\n",
       "        vertical-align: top;\n",
       "    }\n",
       "\n",
       "    .dataframe thead th {\n",
       "        text-align: right;\n",
       "    }\n",
       "</style>\n",
       "<table border=\"1\" class=\"dataframe\">\n",
       "  <thead>\n",
       "    <tr style=\"text-align: right;\">\n",
       "      <th></th>\n",
       "      <th>class</th>\n",
       "      <th>text</th>\n",
       "    </tr>\n",
       "  </thead>\n",
       "  <tbody>\n",
       "    <tr>\n",
       "      <th>190910</th>\n",
       "      <td>5</td>\n",
       "      <td>Ahah, I love it. The case looks better than the amazon photo, and it feels really really neat.</td>\n",
       "    </tr>\n",
       "    <tr>\n",
       "      <th>190911</th>\n",
       "      <td>5</td>\n",
       "      <td>As someone who owns an iPhone, I absolutely love this case. It has a brilliant color and stands out amongst all of the other cases out there. It works amazingly well to keep my phone protected. I am horrible about dropping my phone, but this case has helped to prevent it from getting damaged. I highly recommend this case to anyone looking to protect their phone and look amazing doing it.</td>\n",
       "    </tr>\n",
       "    <tr>\n",
       "      <th>190912</th>\n",
       "      <td>5</td>\n",
       "      <td>What a high quality cable. Right out of the pack you can tell that this is not your cheap, replacement ipod/iphone cable.  This thing has substance! It also holds well while connected and doesn't fall out..I have had that problem with some aftermarket charging cables.  This is really one of the nicest cables I have every seen.  Great buy for sure!</td>\n",
       "    </tr>\n",
       "    <tr>\n",
       "      <th>190913</th>\n",
       "      <td>4</td>\n",
       "      <td>This one actually works unlike some others I bought I get error msg saying this is unauthorized will not charge. This feels durable and not some flimsy garbage wire. The best part of this wire is, it is long enough for it to be plugged in and I can actually still use my phone while its charging since the wire is long enough.</td>\n",
       "    </tr>\n",
       "    <tr>\n",
       "      <th>190914</th>\n",
       "      <td>5</td>\n",
       "      <td>I don't like the word \"hate\", so let's just say that there are two things that I *can't stand*.1)  I can't stand paying full price for an Apple Lightning cable.2)  I can't stand getting the message that this cable is not compatible with your device message.This cable is fantastic.  It is short, which I like.  (I don't need more than a couple of feet of cable coiled up on my desk.)  It charges well and doesn't give me the error.  Hooray!I like the black color of the cable and I like the nice substantial PVC coating.  This cable feels very sturdy and I'm confident that it won't fall apart like some of my other generic cables.  I suppose that with a name like Liger, how could you go wrong?  (Napoleon Dynamite would approve.)I was provided this item for review.</td>\n",
       "    </tr>\n",
       "    <tr>\n",
       "      <th>190915</th>\n",
       "      <td>5</td>\n",
       "      <td>Works great just like my original one. I really need extras of these for the car and house so love this and the price!</td>\n",
       "    </tr>\n",
       "    <tr>\n",
       "      <th>190916</th>\n",
       "      <td>5</td>\n",
       "      <td>Great product. Great packaging. High quality and apple certified. Works greats. This was a good replacement for my apple cable that is falling apart. I highly recommend this cable.</td>\n",
       "    </tr>\n",
       "    <tr>\n",
       "      <th>190917</th>\n",
       "      <td>5</td>\n",
       "      <td>This is a great cable, just as good as the more expensive Apple one. My husband and my daughter both lost their original cables for their iPhones and they went the cheap route, buying a cheap replacement cable, I believe it messed up their battery memory because coincidentally both of them have battery hold/charge issues but my son and I do not. I used this cable to charge my husbands phone and it charged it from 3% to 100% in about an hour, that's about how long it takes my phone to charge but with the cheap cable his takes 2-1/2 hours. I'm thrilled with the quality of this cable, I'm hoping now that we have &amp;#34;quality&amp;#34; cables again, maybe the battery memory will improve on their phones.  Great cable at a great price. I definitely recommend.</td>\n",
       "    </tr>\n",
       "    <tr>\n",
       "      <th>190918</th>\n",
       "      <td>5</td>\n",
       "      <td>I really like it becasue it works well with my Life Proof case. I do not have to remove the case to charge my phone.</td>\n",
       "    </tr>\n",
       "    <tr>\n",
       "      <th>190919</th>\n",
       "      <td>5</td>\n",
       "      <td>product as described, I have wasted a lot of money on cords. I would buy them (usually on road trips) and then go to plug my phone in just to discover I have to work with cord and leave my phone sit while it was charging. This cord has not given me any issues, works just like my original!!</td>\n",
       "    </tr>\n",
       "  </tbody>\n",
       "</table>\n",
       "</div>"
      ],
      "text/plain": [
       "        class  \\\n",
       "190910  5       \n",
       "190911  5       \n",
       "190912  5       \n",
       "190913  4       \n",
       "190914  5       \n",
       "190915  5       \n",
       "190916  5       \n",
       "190917  5       \n",
       "190918  5       \n",
       "190919  5       \n",
       "\n",
       "                                                                                                                                                                                                                                                                                                                                                                                                                                                                                                                                                                                                                                                                                                                                                                                                   text  \n",
       "190910  Ahah, I love it. The case looks better than the amazon photo, and it feels really really neat.                                                                                                                                                                                                                                                                                                                                                                                                                                                                                                                                                                                                                                                                                                   \n",
       "190911  As someone who owns an iPhone, I absolutely love this case. It has a brilliant color and stands out amongst all of the other cases out there. It works amazingly well to keep my phone protected. I am horrible about dropping my phone, but this case has helped to prevent it from getting damaged. I highly recommend this case to anyone looking to protect their phone and look amazing doing it.                                                                                                                                                                                                                                                                                                                                                                                           \n",
       "190912  What a high quality cable. Right out of the pack you can tell that this is not your cheap, replacement ipod/iphone cable.  This thing has substance! It also holds well while connected and doesn't fall out..I have had that problem with some aftermarket charging cables.  This is really one of the nicest cables I have every seen.  Great buy for sure!                                                                                                                                                                                                                                                                                                                                                                                                                                    \n",
       "190913  This one actually works unlike some others I bought I get error msg saying this is unauthorized will not charge. This feels durable and not some flimsy garbage wire. The best part of this wire is, it is long enough for it to be plugged in and I can actually still use my phone while its charging since the wire is long enough.                                                                                                                                                                                                                                                                                                                                                                                                                                                           \n",
       "190914  I don't like the word \"hate\", so let's just say that there are two things that I *can't stand*.1)  I can't stand paying full price for an Apple Lightning cable.2)  I can't stand getting the message that this cable is not compatible with your device message.This cable is fantastic.  It is short, which I like.  (I don't need more than a couple of feet of cable coiled up on my desk.)  It charges well and doesn't give me the error.  Hooray!I like the black color of the cable and I like the nice substantial PVC coating.  This cable feels very sturdy and I'm confident that it won't fall apart like some of my other generic cables.  I suppose that with a name like Liger, how could you go wrong?  (Napoleon Dynamite would approve.)I was provided this item for review.  \n",
       "190915  Works great just like my original one. I really need extras of these for the car and house so love this and the price!                                                                                                                                                                                                                                                                                                                                                                                                                                                                                                                                                                                                                                                                           \n",
       "190916  Great product. Great packaging. High quality and apple certified. Works greats. This was a good replacement for my apple cable that is falling apart. I highly recommend this cable.                                                                                                                                                                                                                                                                                                                                                                                                                                                                                                                                                                                                             \n",
       "190917  This is a great cable, just as good as the more expensive Apple one. My husband and my daughter both lost their original cables for their iPhones and they went the cheap route, buying a cheap replacement cable, I believe it messed up their battery memory because coincidentally both of them have battery hold/charge issues but my son and I do not. I used this cable to charge my husbands phone and it charged it from 3% to 100% in about an hour, that's about how long it takes my phone to charge but with the cheap cable his takes 2-1/2 hours. I'm thrilled with the quality of this cable, I'm hoping now that we have &#34;quality&#34; cables again, maybe the battery memory will improve on their phones.  Great cable at a great price. I definitely recommend.           \n",
       "190918  I really like it becasue it works well with my Life Proof case. I do not have to remove the case to charge my phone.                                                                                                                                                                                                                                                                                                                                                                                                                                                                                                                                                                                                                                                                             \n",
       "190919  product as described, I have wasted a lot of money on cords. I would buy them (usually on road trips) and then go to plug my phone in just to discover I have to work with cord and leave my phone sit while it was charging. This cord has not given me any issues, works just like my original!!                                                                                                                                                                                                                                                                                                                                                                                                                                                                                               "
      ]
     },
     "execution_count": 14,
     "metadata": {},
     "output_type": "execute_result"
    }
   ],
   "source": [
    "# rename columns to class and text\n",
    "df_renamed = data_df.rename(columns = {'overall': 'class', 'reviewText': 'text'})\n",
    "df_renamed.tail(10)"
   ]
  },
  {
   "cell_type": "markdown",
   "id": "determined-institution",
   "metadata": {},
   "source": [
    "## Text Preprocessing"
   ]
  },
  {
   "cell_type": "code",
   "execution_count": null,
   "id": "oriented-blanket",
   "metadata": {},
   "outputs": [],
   "source": [
    "# Extract 5% for Machine Learning\n",
    "msk = "
   ]
  },
  {
   "cell_type": "code",
   "execution_count": null,
   "id": "provincial-january",
   "metadata": {},
   "outputs": [],
   "source": []
  },
  {
   "cell_type": "code",
   "execution_count": 15,
   "id": "technical-equipment",
   "metadata": {},
   "outputs": [
    {
     "data": {
      "text/html": [
       "<div>\n",
       "<style scoped>\n",
       "    .dataframe tbody tr th:only-of-type {\n",
       "        vertical-align: middle;\n",
       "    }\n",
       "\n",
       "    .dataframe tbody tr th {\n",
       "        vertical-align: top;\n",
       "    }\n",
       "\n",
       "    .dataframe thead th {\n",
       "        text-align: right;\n",
       "    }\n",
       "</style>\n",
       "<table border=\"1\" class=\"dataframe\">\n",
       "  <thead>\n",
       "    <tr style=\"text-align: right;\">\n",
       "      <th></th>\n",
       "      <th>class</th>\n",
       "      <th>text</th>\n",
       "      <th>class_id</th>\n",
       "    </tr>\n",
       "  </thead>\n",
       "  <tbody>\n",
       "    <tr>\n",
       "      <th>0</th>\n",
       "      <td>4</td>\n",
       "      <td>They look good and stick good! I just don't like the rounded shape because I was always bumping it and Siri kept popping up and it was irritating. I just won't buy a product like this again</td>\n",
       "      <td>0</td>\n",
       "    </tr>\n",
       "    <tr>\n",
       "      <th>1</th>\n",
       "      <td>5</td>\n",
       "      <td>These stickers work like the review says they do. They stick on great and they stay on the phone. They are super stylish and I can share them with my sister. :)</td>\n",
       "      <td>1</td>\n",
       "    </tr>\n",
       "    <tr>\n",
       "      <th>2</th>\n",
       "      <td>5</td>\n",
       "      <td>These are awesome and make my phone look so stylish! I have only used one so far and have had it on for almost a year! CAN YOU BELIEVE THAT! ONE YEAR!! Great quality!</td>\n",
       "      <td>1</td>\n",
       "    </tr>\n",
       "    <tr>\n",
       "      <th>3</th>\n",
       "      <td>4</td>\n",
       "      <td>Item arrived in great time and was in perfect condition. However, I ordered these buttons because they were a great deal and included a FREE screen protector. I never received one. Though its not a big deal, it would've been nice to get it since they claim it comes with one.</td>\n",
       "      <td>0</td>\n",
       "    </tr>\n",
       "    <tr>\n",
       "      <th>4</th>\n",
       "      <td>5</td>\n",
       "      <td>awesome! stays on, and looks great. can be used on multiple apple products.  especially having nails, it helps to have an elevated key.</td>\n",
       "      <td>1</td>\n",
       "    </tr>\n",
       "  </tbody>\n",
       "</table>\n",
       "</div>"
      ],
      "text/plain": [
       "   class  \\\n",
       "0  4       \n",
       "1  5       \n",
       "2  5       \n",
       "3  4       \n",
       "4  5       \n",
       "\n",
       "                                                                                                                                                                                                                                                                                  text  \\\n",
       "0  They look good and stick good! I just don't like the rounded shape because I was always bumping it and Siri kept popping up and it was irritating. I just won't buy a product like this again                                                                                         \n",
       "1  These stickers work like the review says they do. They stick on great and they stay on the phone. They are super stylish and I can share them with my sister. :)                                                                                                                      \n",
       "2  These are awesome and make my phone look so stylish! I have only used one so far and have had it on for almost a year! CAN YOU BELIEVE THAT! ONE YEAR!! Great quality!                                                                                                                \n",
       "3  Item arrived in great time and was in perfect condition. However, I ordered these buttons because they were a great deal and included a FREE screen protector. I never received one. Though its not a big deal, it would've been nice to get it since they claim it comes with one.   \n",
       "4  awesome! stays on, and looks great. can be used on multiple apple products.  especially having nails, it helps to have an elevated key.                                                                                                                                               \n",
       "\n",
       "   class_id  \n",
       "0  0         \n",
       "1  1         \n",
       "2  1         \n",
       "3  0         \n",
       "4  1         "
      ]
     },
     "execution_count": 15,
     "metadata": {},
     "output_type": "execute_result"
    }
   ],
   "source": [
    "from io import StringIO\n",
    "\n",
    "df_renamed['class_id'] = df_renamed['class'].factorize()[0]\n",
    "class_id_df = df_renamed[['class', 'class_id']].drop_duplicates().sort_values('class_id')\n",
    "class_to_id = dict(class_id_df.values)\n",
    "id_to_class = dict(class_id_df[['class_id', 'class']].values)\n",
    "df_renamed.head()"
   ]
  },
  {
   "cell_type": "code",
   "execution_count": 16,
   "id": "chinese-techno",
   "metadata": {},
   "outputs": [
    {
     "data": {
      "image/png": "[encoded data removed]",
      "text/plain": [
       "<Figure size 576x432 with 1 Axes>"
      ]
     },
     "metadata": {
      "needs_background": "light"
     },
     "output_type": "display_data"
    }
   ],
   "source": [
    "import matplotlib.pyplot as plt\n",
    "fig = plt.figure(figsize=(8,6))\n",
    "df_renamed.groupby('class').text.count().plot.bar(ylim=0)\n",
    "plt.show()\n"
   ]
  },
  {
   "cell_type": "code",
   "execution_count": 17,
   "id": "immediate-marijuana",
   "metadata": {},
   "outputs": [
    {
     "data": {
      "text/plain": [
       "(190920, 500)"
      ]
     },
     "execution_count": 17,
     "metadata": {},
     "output_type": "execute_result"
    }
   ],
   "source": [
    "from sklearn.feature_extraction.text import TfidfVectorizer\n",
    "tfidf = TfidfVectorizer(sublinear_tf=True, min_df=5, norm='l2', max_features = 500, encoding='latin-1', ngram_range=(1, 2), stop_words='english')\n",
    "features = tfidf.fit_transform(df_renamed['text']).toarray()\n",
    "labels = df_renamed['class_id']\n",
    "features.shape"
   ]
  },
  {
   "cell_type": "code",
   "execution_count": 18,
   "id": "coral-providence",
   "metadata": {},
   "outputs": [],
   "source": [
    "from sklearn.model_selection import train_test_split\n",
    "from sklearn.feature_extraction.text import CountVectorizer\n",
    "from sklearn.feature_extraction.text import TfidfTransformer"
   ]
  },
  {
   "cell_type": "code",
   "execution_count": 19,
   "id": "threatened-complaint",
   "metadata": {},
   "outputs": [],
   "source": [
    "# Naive Bayes Multinomial \n",
    "from sklearn.naive_bayes import MultinomialNB"
   ]
  },
  {
   "cell_type": "code",
   "execution_count": 20,
   "id": "official-caution",
   "metadata": {},
   "outputs": [
    {
     "data": {
      "text/plain": [
       "((190920,), (190920,), (190920,))"
      ]
     },
     "execution_count": 20,
     "metadata": {},
     "output_type": "execute_result"
    }
   ],
   "source": [
    "df_renamed['text'].shape, df_renamed['class'].shape, df_renamed['class_id'].shape"
   ]
  },
  {
   "cell_type": "code",
   "execution_count": 21,
   "id": "announced-structure",
   "metadata": {},
   "outputs": [],
   "source": [
    "# Split Data\n",
    "X_train, X_test, y_train, y_test = train_test_split(df_renamed['text'], df_renamed['class_id'], random_state = 0)"
   ]
  },
  {
   "cell_type": "code",
   "execution_count": 22,
   "id": "precious-tumor",
   "metadata": {},
   "outputs": [
    {
     "data": {
      "text/plain": [
       "((143190,), (143190,), (47730,), (47730,))"
      ]
     },
     "execution_count": 22,
     "metadata": {},
     "output_type": "execute_result"
    }
   ],
   "source": [
    "X_train.shape, y_train.shape, X_test.shape, y_test.shape"
   ]
  },
  {
   "cell_type": "code",
   "execution_count": 23,
   "id": "former-space",
   "metadata": {},
   "outputs": [],
   "source": [
    "# Count Vectorizer\n",
    "cnt_vec = CountVectorizer()\n",
    "X_train_cnt_vec = cnt_vec.fit_transform(X_train)"
   ]
  },
  {
   "cell_type": "code",
   "execution_count": 24,
   "id": "automated-cabinet",
   "metadata": {},
   "outputs": [
    {
     "data": {
      "text/plain": [
       "(143190, 73340)"
      ]
     },
     "execution_count": 24,
     "metadata": {},
     "output_type": "execute_result"
    }
   ],
   "source": [
    "X_train_cnt_vec.shape"
   ]
  },
  {
   "cell_type": "code",
   "execution_count": 25,
   "id": "northern-communication",
   "metadata": {},
   "outputs": [],
   "source": [
    "# Hashing with TF-IDF\n",
    "tfidfTransformer = TfidfTransformer()\n",
    "X_train_tfidfTransformer  = tfidfTransformer.fit_transform(X_train_cnt_vec)"
   ]
  },
  {
   "cell_type": "code",
   "execution_count": 26,
   "id": "vocal-orbit",
   "metadata": {},
   "outputs": [
    {
     "data": {
      "text/plain": [
       "((143190, 73340), (143190,))"
      ]
     },
     "execution_count": 26,
     "metadata": {},
     "output_type": "execute_result"
    }
   ],
   "source": [
    "X_train_tfidfTransformer.shape, y_train.shape"
   ]
  },
  {
   "cell_type": "code",
   "execution_count": 28,
   "id": "suspended-independence",
   "metadata": {},
   "outputs": [],
   "source": [
    "# Naive Bayes Classifier\n",
    "clf = MultinomialNB().fit(X_train_tfidfTransformer, y_train)\n"
   ]
  },
  {
   "cell_type": "code",
   "execution_count": 29,
   "id": "skilled-valuation",
   "metadata": {},
   "outputs": [],
   "source": [
    "from sklearn.linear_model import LogisticRegression\n",
    "from sklearn.ensemble import RandomForestClassifier\n",
    "from sklearn.svm import LinearSVC\n",
    "from sklearn.model_selection import cross_val_score\n"
   ]
  },
  {
   "cell_type": "code",
   "execution_count": 31,
   "id": "changing-payment",
   "metadata": {},
   "outputs": [],
   "source": [
    "models = [\n",
    "    RandomForestClassifier(n_estimators=200, max_depth=3, random_state=0),\n",
    "    LinearSVC(),\n",
    "    MultinomialNB(),\n",
    "    LogisticRegression(max_iter=500, random_state=0),\n",
    "]\n",
    "CV = 5\n",
    "cv_df = pd.DataFrame(index=range(CV * len(models)))\n",
    "entries = []\n",
    "for model in models:\n",
    "    \n",
    "    model_name = model.__class__.__name__\n",
    "    accuracies = cross_val_score(model, features, labels, scoring='accuracy', cv=CV)\n",
    "    for fold_idx, accuracy in enumerate(accuracies):\n",
    "        entries.append((model_name, fold_idx, accuracy))\n",
    "        \n",
    "cv_df = pd.DataFrame(entries, columns=['model_name', 'fold_idx', 'accuracy'])"
   ]
  },
  {
   "cell_type": "code",
   "execution_count": 32,
   "id": "appreciated-hurricane",
   "metadata": {},
   "outputs": [
    {
     "data": {
      "text/plain": [
       "model_name\n",
       "LinearSVC                 0.610371\n",
       "LogisticRegression        0.614325\n",
       "MultinomialNB             0.569265\n",
       "RandomForestClassifier    0.558208\n",
       "Name: accuracy, dtype: float64"
      ]
     },
     "execution_count": 32,
     "metadata": {},
     "output_type": "execute_result"
    }
   ],
   "source": [
    "cv_df.groupby('model_name').accuracy.mean()"
   ]
  },
  {
   "cell_type": "code",
   "execution_count": null,
   "id": "sweet-programming",
   "metadata": {},
   "outputs": [],
   "source": []
  },
  {
   "cell_type": "code",
   "execution_count": null,
   "id": "printable-fifty",
   "metadata": {},
   "outputs": [],
   "source": []
  },
  {
   "cell_type": "code",
   "execution_count": null,
   "id": "premier-hazard",
   "metadata": {},
   "outputs": [],
   "source": []
  },
  {
   "cell_type": "code",
   "execution_count": null,
   "id": "significant-heritage",
   "metadata": {},
   "outputs": [],
   "source": []
  }
 ],
 "metadata": {
  "kernelspec": {
   "display_name": "Python [conda env:pythonadv] *",
   "language": "python",
   "name": "conda-env-pythonadv-py"
  },
  "language_info": {
   "codemirror_mode": {
    "name": "ipython",
    "version": 3
   },
   "file_extension": ".py",
   "mimetype": "text/x-python",
   "name": "python",
   "nbconvert_exporter": "python",
   "pygments_lexer": "ipython3",
   "version": "3.6.12"
  }
 },
 "nbformat": 4,
 "nbformat_minor": 5
}

{
 "cells": [
  {
   "cell_type": "code",
   "execution_count": 1,
   "id": "biological-scotland",
   "metadata": {},
   "outputs": [],
   "source": [
    "import pandas as pd\n",
    "import gzip\n",
    "import json\n",
    "\n",
    "\n",
    "import re\n",
    "import numpy as np\n",
    "import matplotlib.pyplot as plt\n",
    "import seaborn as sns\n",
    "%matplotlib inline"
   ]
  },
  {
   "cell_type": "code",
   "execution_count": 2,
   "id": "homeless-thickness",
   "metadata": {},
   "outputs": [],
   "source": [
    "file_path = \"reviews_Cell_Phones_and_Accessories_5.json.gz\""
   ]
  },
  {
   "cell_type": "code",
   "execution_count": 3,
   "id": "worth-toner",
   "metadata": {},
   "outputs": [
    {
     "data": {
      "text/html": [
       "<div>\n",
       "<style scoped>\n",
       "    .dataframe tbody tr th:only-of-type {\n",
       "        vertical-align: middle;\n",
       "    }\n",
       "\n",
       "    .dataframe tbody tr th {\n",
       "        vertical-align: top;\n",
       "    }\n",
       "\n",
       "    .dataframe thead th {\n",
       "        text-align: right;\n",
       "    }\n",
       "</style>\n",
       "<table border=\"1\" class=\"dataframe\">\n",
       "  <thead>\n",
       "    <tr style=\"text-align: right;\">\n",
       "      <th></th>\n",
       "      <th>reviewerID</th>\n",
       "      <th>asin</th>\n",
       "      <th>reviewerName</th>\n",
       "      <th>helpful</th>\n",
       "      <th>reviewText</th>\n",
       "      <th>overall</th>\n",
       "      <th>summary</th>\n",
       "      <th>unixReviewTime</th>\n",
       "      <th>reviewTime</th>\n",
       "    </tr>\n",
       "  </thead>\n",
       "  <tbody>\n",
       "    <tr>\n",
       "      <th>0</th>\n",
       "      <td>A30TL5EWN6DFXT</td>\n",
       "      <td>120401325X</td>\n",
       "      <td>christina</td>\n",
       "      <td>[0, 0]</td>\n",
       "      <td>They look good and stick good! I just don't li...</td>\n",
       "      <td>4</td>\n",
       "      <td>Looks Good</td>\n",
       "      <td>1400630400</td>\n",
       "      <td>05 21, 2014</td>\n",
       "    </tr>\n",
       "    <tr>\n",
       "      <th>1</th>\n",
       "      <td>ASY55RVNIL0UD</td>\n",
       "      <td>120401325X</td>\n",
       "      <td>emily l.</td>\n",
       "      <td>[0, 0]</td>\n",
       "      <td>These stickers work like the review says they ...</td>\n",
       "      <td>5</td>\n",
       "      <td>Really great product.</td>\n",
       "      <td>1389657600</td>\n",
       "      <td>01 14, 2014</td>\n",
       "    </tr>\n",
       "    <tr>\n",
       "      <th>2</th>\n",
       "      <td>A2TMXE2AFO7ONB</td>\n",
       "      <td>120401325X</td>\n",
       "      <td>Erica</td>\n",
       "      <td>[0, 0]</td>\n",
       "      <td>These are awesome and make my phone look so st...</td>\n",
       "      <td>5</td>\n",
       "      <td>LOVE LOVE LOVE</td>\n",
       "      <td>1403740800</td>\n",
       "      <td>06 26, 2014</td>\n",
       "    </tr>\n",
       "    <tr>\n",
       "      <th>3</th>\n",
       "      <td>AWJ0WZQYMYFQ4</td>\n",
       "      <td>120401325X</td>\n",
       "      <td>JM</td>\n",
       "      <td>[4, 4]</td>\n",
       "      <td>Item arrived in great time and was in perfect ...</td>\n",
       "      <td>4</td>\n",
       "      <td>Cute!</td>\n",
       "      <td>1382313600</td>\n",
       "      <td>10 21, 2013</td>\n",
       "    </tr>\n",
       "    <tr>\n",
       "      <th>4</th>\n",
       "      <td>ATX7CZYFXI1KW</td>\n",
       "      <td>120401325X</td>\n",
       "      <td>patrice m rogoza</td>\n",
       "      <td>[2, 3]</td>\n",
       "      <td>awesome! stays on, and looks great. can be use...</td>\n",
       "      <td>5</td>\n",
       "      <td>leopard home button sticker for iphone 4s</td>\n",
       "      <td>1359849600</td>\n",
       "      <td>02 3, 2013</td>\n",
       "    </tr>\n",
       "  </tbody>\n",
       "</table>\n",
       "</div>"
      ],
      "text/plain": [
       "       reviewerID        asin      reviewerName helpful  \\\n",
       "0  A30TL5EWN6DFXT  120401325X         christina  [0, 0]   \n",
       "1   ASY55RVNIL0UD  120401325X          emily l.  [0, 0]   \n",
       "2  A2TMXE2AFO7ONB  120401325X             Erica  [0, 0]   \n",
       "3   AWJ0WZQYMYFQ4  120401325X                JM  [4, 4]   \n",
       "4   ATX7CZYFXI1KW  120401325X  patrice m rogoza  [2, 3]   \n",
       "\n",
       "                                          reviewText  overall  \\\n",
       "0  They look good and stick good! I just don't li...        4   \n",
       "1  These stickers work like the review says they ...        5   \n",
       "2  These are awesome and make my phone look so st...        5   \n",
       "3  Item arrived in great time and was in perfect ...        4   \n",
       "4  awesome! stays on, and looks great. can be use...        5   \n",
       "\n",
       "                                     summary  unixReviewTime   reviewTime  \n",
       "0                                 Looks Good      1400630400  05 21, 2014  \n",
       "1                      Really great product.      1389657600  01 14, 2014  \n",
       "2                             LOVE LOVE LOVE      1403740800  06 26, 2014  \n",
       "3                                      Cute!      1382313600  10 21, 2013  \n",
       "4  leopard home button sticker for iphone 4s      1359849600   02 3, 2013  "
      ]
     },
     "execution_count": 3,
     "metadata": {},
     "output_type": "execute_result"
    }
   ],
   "source": [
    "phone_df = pd.read_json(file_path, lines = True)\n",
    "phone_df.head()"
   ]
  },
  {
   "cell_type": "code",
   "execution_count": 4,
   "id": "accompanied-statistics",
   "metadata": {},
   "outputs": [
    {
     "name": "stdout",
     "output_type": "stream",
     "text": [
      "<class 'pandas.core.frame.DataFrame'>\n",
      "RangeIndex: 194439 entries, 0 to 194438\n",
      "Data columns (total 9 columns):\n",
      " #   Column          Non-Null Count   Dtype \n",
      "---  ------          --------------   ----- \n",
      " 0   reviewerID      194439 non-null  object\n",
      " 1   asin            194439 non-null  object\n",
      " 2   reviewerName    190920 non-null  object\n",
      " 3   helpful         194439 non-null  object\n",
      " 4   reviewText      194439 non-null  object\n",
      " 5   overall         194439 non-null  int64 \n",
      " 6   summary         194439 non-null  object\n",
      " 7   unixReviewTime  194439 non-null  int64 \n",
      " 8   reviewTime      194439 non-null  object\n",
      "dtypes: int64(2), object(7)\n",
      "memory usage: 13.4+ MB\n"
     ]
    }
   ],
   "source": [
    "phone_df.info()"
   ]
  },
  {
   "cell_type": "code",
   "execution_count": 5,
   "id": "cheap-hanging",
   "metadata": {},
   "outputs": [],
   "source": [
    "# drop duplicates\n",
    "phone_df_drop = phone_df.dropna().reset_index(drop = True)"
   ]
  },
  {
   "cell_type": "code",
   "execution_count": 6,
   "id": "dedicated-service",
   "metadata": {},
   "outputs": [
    {
     "name": "stdout",
     "output_type": "stream",
     "text": [
      "<class 'pandas.core.frame.DataFrame'>\n",
      "RangeIndex: 190920 entries, 0 to 190919\n",
      "Data columns (total 9 columns):\n",
      " #   Column          Non-Null Count   Dtype \n",
      "---  ------          --------------   ----- \n",
      " 0   reviewerID      190920 non-null  object\n",
      " 1   asin            190920 non-null  object\n",
      " 2   reviewerName    190920 non-null  object\n",
      " 3   helpful         190920 non-null  object\n",
      " 4   reviewText      190920 non-null  object\n",
      " 5   overall         190920 non-null  int64 \n",
      " 6   summary         190920 non-null  object\n",
      " 7   unixReviewTime  190920 non-null  int64 \n",
      " 8   reviewTime      190920 non-null  object\n",
      "dtypes: int64(2), object(7)\n",
      "memory usage: 13.1+ MB\n"
     ]
    }
   ],
   "source": [
    "phone_df_drop.info()"
   ]
  },
  {
   "cell_type": "code",
   "execution_count": 7,
   "id": "opened-trader",
   "metadata": {},
   "outputs": [
    {
     "data": {
      "text/plain": [
       "0"
      ]
     },
     "execution_count": 7,
     "metadata": {},
     "output_type": "execute_result"
    }
   ],
   "source": [
    "# check for duplicates\n",
    "# phone_df_drop.duplicated()\n",
    "phone_df_drop.astype(str).duplicated(keep=False).sum()"
   ]
  },
  {
   "cell_type": "code",
   "execution_count": 8,
   "id": "dominant-advance",
   "metadata": {},
   "outputs": [
    {
     "data": {
      "text/plain": [
       "5    106573\n",
       "4     39305\n",
       "3     21075\n",
       "1     13078\n",
       "2     10889\n",
       "Name: overall, dtype: int64"
      ]
     },
     "execution_count": 8,
     "metadata": {},
     "output_type": "execute_result"
    }
   ],
   "source": [
    "# Get a count of ratings\n",
    "ratings_count = phone_df_drop['overall'].value_counts()\n",
    "ratings_count"
   ]
  },
  {
   "cell_type": "code",
   "execution_count": 9,
   "id": "hollywood-butter",
   "metadata": {},
   "outputs": [
    {
     "data": {
      "text/plain": [
       "5    0.558208\n",
       "4    0.205872\n",
       "3    0.110387\n",
       "1    0.068500\n",
       "2    0.057034\n",
       "Name: overall, dtype: float64"
      ]
     },
     "execution_count": 9,
     "metadata": {},
     "output_type": "execute_result"
    }
   ],
   "source": [
    "# Check percentage of each rating\n",
    "ratings_count_props = phone_df_drop['overall'].value_counts(normalize = True)\n",
    "ratings_count_props"
   ]
  },
  {
   "cell_type": "code",
   "execution_count": 10,
   "id": "revised-closer",
   "metadata": {},
   "outputs": [],
   "source": [
    "# Plot the categories\n"
   ]
  },
  {
   "cell_type": "code",
   "execution_count": 11,
   "id": "limiting-possession",
   "metadata": {},
   "outputs": [
    {
     "name": "stderr",
     "output_type": "stream",
     "text": [
      "C:\\Users\\lenpk\\anaconda3\\envs\\PythonAdv\\lib\\site-packages\\seaborn\\_decorators.py:43: FutureWarning: Pass the following variable as a keyword arg: x. From version 0.12, the only valid positional argument will be `data`, and passing other arguments without an explicit keyword will result in an error or misinterpretation.\n",
      "  FutureWarning\n"
     ]
    },
    {
     "data": {
      "image/png": "[encoded data removed]",
      "text/plain": [
       "<Figure size 432x288 with 1 Axes>"
      ]
     },
     "metadata": {
      "needs_background": "light"
     },
     "output_type": "display_data"
    }
   ],
   "source": [
    "sns.countplot(phone_df_drop['overall'], order=phone_df_drop['overall'].value_counts(ascending=False).index)\n",
    "plt.show()"
   ]
  },
  {
   "cell_type": "code",
   "execution_count": 12,
   "id": "incident-mason",
   "metadata": {},
   "outputs": [
    {
     "data": {
      "text/plain": [
       "Amazon Customer    3562\n",
       "Pen Name            344\n",
       "John                268\n",
       "Chris               234\n",
       "Mike                224\n",
       "Name: reviewerName, dtype: int64"
      ]
     },
     "execution_count": 12,
     "metadata": {},
     "output_type": "execute_result"
    }
   ],
   "source": [
    "# Inspect top customers by review\n",
    "reviewer_count = phone_df_drop['reviewerName'].value_counts(ascending=False)\n",
    "reviewer_count.head()"
   ]
  },
  {
   "cell_type": "code",
   "execution_count": 13,
   "id": "conceptual-windsor",
   "metadata": {},
   "outputs": [
    {
     "data": {
      "text/html": [
       "<div>\n",
       "<style scoped>\n",
       "    .dataframe tbody tr th:only-of-type {\n",
       "        vertical-align: middle;\n",
       "    }\n",
       "\n",
       "    .dataframe tbody tr th {\n",
       "        vertical-align: top;\n",
       "    }\n",
       "\n",
       "    .dataframe thead th {\n",
       "        text-align: right;\n",
       "    }\n",
       "</style>\n",
       "<table border=\"1\" class=\"dataframe\">\n",
       "  <thead>\n",
       "    <tr style=\"text-align: right;\">\n",
       "      <th></th>\n",
       "      <th>overall</th>\n",
       "      <th>reviewText</th>\n",
       "    </tr>\n",
       "  </thead>\n",
       "  <tbody>\n",
       "    <tr>\n",
       "      <th>0</th>\n",
       "      <td>4</td>\n",
       "      <td>They look good and stick good! I just don't li...</td>\n",
       "    </tr>\n",
       "    <tr>\n",
       "      <th>1</th>\n",
       "      <td>5</td>\n",
       "      <td>These stickers work like the review says they ...</td>\n",
       "    </tr>\n",
       "    <tr>\n",
       "      <th>2</th>\n",
       "      <td>5</td>\n",
       "      <td>These are awesome and make my phone look so st...</td>\n",
       "    </tr>\n",
       "    <tr>\n",
       "      <th>3</th>\n",
       "      <td>4</td>\n",
       "      <td>Item arrived in great time and was in perfect ...</td>\n",
       "    </tr>\n",
       "    <tr>\n",
       "      <th>4</th>\n",
       "      <td>5</td>\n",
       "      <td>awesome! stays on, and looks great. can be use...</td>\n",
       "    </tr>\n",
       "  </tbody>\n",
       "</table>\n",
       "</div>"
      ],
      "text/plain": [
       "   overall                                         reviewText\n",
       "0        4  They look good and stick good! I just don't li...\n",
       "1        5  These stickers work like the review says they ...\n",
       "2        5  These are awesome and make my phone look so st...\n",
       "3        4  Item arrived in great time and was in perfect ...\n",
       "4        5  awesome! stays on, and looks great. can be use..."
      ]
     },
     "execution_count": 13,
     "metadata": {},
     "output_type": "execute_result"
    }
   ],
   "source": [
    "# Extract columns of interest into a new dataframe\n",
    "data_df = phone_df_drop[['overall', 'reviewText']]\n",
    "data_df.head()"
   ]
  },
  {
   "cell_type": "code",
   "execution_count": 14,
   "id": "suspended-extraction",
   "metadata": {},
   "outputs": [],
   "source": [
    "# Select a sample of data to run Machine Learning. This done for performance issues\n"
   ]
  },
  {
   "cell_type": "code",
   "execution_count": 15,
   "id": "smaller-thousand",
   "metadata": {},
   "outputs": [
    {
     "name": "stdout",
     "output_type": "stream",
     "text": [
      "38049\n"
     ]
    }
   ],
   "source": [
    "div_data = np.random.rand(len(data_df)) < 0.8\n",
    "ml_data = data_df[~div_data]\n",
    "print(len(ml_data))"
   ]
  },
  {
   "cell_type": "code",
   "execution_count": 16,
   "id": "vulnerable-reporter",
   "metadata": {},
   "outputs": [
    {
     "data": {
      "text/html": [
       "<div>\n",
       "<style scoped>\n",
       "    .dataframe tbody tr th:only-of-type {\n",
       "        vertical-align: middle;\n",
       "    }\n",
       "\n",
       "    .dataframe tbody tr th {\n",
       "        vertical-align: top;\n",
       "    }\n",
       "\n",
       "    .dataframe thead th {\n",
       "        text-align: right;\n",
       "    }\n",
       "</style>\n",
       "<table border=\"1\" class=\"dataframe\">\n",
       "  <thead>\n",
       "    <tr style=\"text-align: right;\">\n",
       "      <th></th>\n",
       "      <th>overall</th>\n",
       "      <th>reviewText</th>\n",
       "    </tr>\n",
       "  </thead>\n",
       "  <tbody>\n",
       "    <tr>\n",
       "      <th>0</th>\n",
       "      <td>5</td>\n",
       "      <td>awesome! stays on, and looks great. can be use...</td>\n",
       "    </tr>\n",
       "    <tr>\n",
       "      <th>1</th>\n",
       "      <td>5</td>\n",
       "      <td>Performs exactly as advertised . It's very  st...</td>\n",
       "    </tr>\n",
       "    <tr>\n",
       "      <th>2</th>\n",
       "      <td>5</td>\n",
       "      <td>It works great. Doesn't heat up like crazy lik...</td>\n",
       "    </tr>\n",
       "    <tr>\n",
       "      <th>3</th>\n",
       "      <td>2</td>\n",
       "      <td>I am disappointed that the 1A didn't work with...</td>\n",
       "    </tr>\n",
       "    <tr>\n",
       "      <th>4</th>\n",
       "      <td>1</td>\n",
       "      <td>Only works one side at a time. When you connec...</td>\n",
       "    </tr>\n",
       "  </tbody>\n",
       "</table>\n",
       "</div>"
      ],
      "text/plain": [
       "   overall                                         reviewText\n",
       "0        5  awesome! stays on, and looks great. can be use...\n",
       "1        5  Performs exactly as advertised . It's very  st...\n",
       "2        5  It works great. Doesn't heat up like crazy lik...\n",
       "3        2  I am disappointed that the 1A didn't work with...\n",
       "4        1  Only works one side at a time. When you connec..."
      ]
     },
     "execution_count": 16,
     "metadata": {},
     "output_type": "execute_result"
    }
   ],
   "source": [
    "# Size of the data is scalable for running machine learning models on disk\n",
    "ml_data_df = ml_data.reset_index(drop = True)\n",
    "ml_data_df.head()"
   ]
  },
  {
   "cell_type": "code",
   "execution_count": 17,
   "id": "palestinian-research",
   "metadata": {},
   "outputs": [
    {
     "name": "stderr",
     "output_type": "stream",
     "text": [
      "C:\\Users\\lenpk\\anaconda3\\envs\\PythonAdv\\lib\\site-packages\\seaborn\\_decorators.py:43: FutureWarning: Pass the following variable as a keyword arg: x. From version 0.12, the only valid positional argument will be `data`, and passing other arguments without an explicit keyword will result in an error or misinterpretation.\n",
      "  FutureWarning\n"
     ]
    },
    {
     "data": {
      "image/png": "[encoded data removed]",
      "text/plain": [
       "<Figure size 432x288 with 1 Axes>"
      ]
     },
     "metadata": {
      "needs_background": "light"
     },
     "output_type": "display_data"
    }
   ],
   "source": [
    "# Inspect distribution of ratings\n",
    "sns.countplot(ml_data_df['overall'], order=ml_data_df['overall'].value_counts(ascending=False).index)\n",
    "plt.show()"
   ]
  },
  {
   "cell_type": "code",
   "execution_count": 18,
   "id": "confirmed-taxation",
   "metadata": {},
   "outputs": [
    {
     "data": {
      "text/plain": [
       "5    0.558963\n",
       "4    0.205446\n",
       "3    0.112434\n",
       "1    0.066993\n",
       "2    0.056164\n",
       "Name: overall, dtype: float64"
      ]
     },
     "execution_count": 18,
     "metadata": {},
     "output_type": "execute_result"
    }
   ],
   "source": [
    "ratings_new_count_props = ml_data_df['overall'].value_counts(normalize = True)\n",
    "ratings_new_count_props"
   ]
  },
  {
   "cell_type": "code",
   "execution_count": 19,
   "id": "junior-distance",
   "metadata": {},
   "outputs": [
    {
     "data": {
      "text/html": [
       "<div>\n",
       "<style scoped>\n",
       "    .dataframe tbody tr th:only-of-type {\n",
       "        vertical-align: middle;\n",
       "    }\n",
       "\n",
       "    .dataframe tbody tr th {\n",
       "        vertical-align: top;\n",
       "    }\n",
       "\n",
       "    .dataframe thead th {\n",
       "        text-align: right;\n",
       "    }\n",
       "</style>\n",
       "<table border=\"1\" class=\"dataframe\">\n",
       "  <thead>\n",
       "    <tr style=\"text-align: right;\">\n",
       "      <th></th>\n",
       "      <th>class</th>\n",
       "      <th>text</th>\n",
       "    </tr>\n",
       "  </thead>\n",
       "  <tbody>\n",
       "    <tr>\n",
       "      <th>38044</th>\n",
       "      <td>5</td>\n",
       "      <td>I've gotten in a habit of rubbing it back and ...</td>\n",
       "    </tr>\n",
       "    <tr>\n",
       "      <th>38045</th>\n",
       "      <td>5</td>\n",
       "      <td>I get so many compliments on this case. It was...</td>\n",
       "    </tr>\n",
       "    <tr>\n",
       "      <th>38046</th>\n",
       "      <td>5</td>\n",
       "      <td>Ahah, I love it. The case looks better than th...</td>\n",
       "    </tr>\n",
       "    <tr>\n",
       "      <th>38047</th>\n",
       "      <td>5</td>\n",
       "      <td>What a high quality cable. Right out of the pa...</td>\n",
       "    </tr>\n",
       "    <tr>\n",
       "      <th>38048</th>\n",
       "      <td>5</td>\n",
       "      <td>I don't like the word \"hate\", so let's just sa...</td>\n",
       "    </tr>\n",
       "  </tbody>\n",
       "</table>\n",
       "</div>"
      ],
      "text/plain": [
       "       class                                               text\n",
       "38044      5  I've gotten in a habit of rubbing it back and ...\n",
       "38045      5  I get so many compliments on this case. It was...\n",
       "38046      5  Ahah, I love it. The case looks better than th...\n",
       "38047      5  What a high quality cable. Right out of the pa...\n",
       "38048      5  I don't like the word \"hate\", so let's just sa..."
      ]
     },
     "execution_count": 19,
     "metadata": {},
     "output_type": "execute_result"
    }
   ],
   "source": [
    "# rename columns to class and text\n",
    "df_renamed = ml_data_df.rename(columns = {'overall': 'class', 'reviewText': 'text'})\n",
    "df_renamed.tail()"
   ]
  },
  {
   "cell_type": "markdown",
   "id": "international-turkey",
   "metadata": {},
   "source": [
    "## Text Preprocessing"
   ]
  },
  {
   "cell_type": "code",
   "execution_count": 40,
   "id": "lonely-genius",
   "metadata": {},
   "outputs": [],
   "source": [
    "import nltk\n",
    "\n",
    "from nltk.corpus import stopwords\n",
    "from nltk.stem import PorterStemmer\n",
    "from sklearn.feature_extraction.text import TfidfVectorizer\n",
    "from sklearn.pipeline import Pipeline\n",
    "from sklearn.metrics import classification_report, confusion_matrix\n",
    "from sklearn.model_selection import train_test_split\n",
    "from sklearn.feature_selection import SelectKBest, chi2\n",
    "from sklearn.ensemble import RandomForestClassifier\n",
    "\n",
    "import pickle\n"
   ]
  },
  {
   "cell_type": "code",
   "execution_count": 25,
   "id": "imported-european",
   "metadata": {},
   "outputs": [
    {
     "name": "stderr",
     "output_type": "stream",
     "text": [
      "[nltk_data] Downloading package stopwords to\n",
      "[nltk_data]     C:\\Users\\lenpk\\AppData\\Roaming\\nltk_data...\n",
      "[nltk_data]   Unzipping corpora\\stopwords.zip.\n"
     ]
    }
   ],
   "source": [
    "# remove punctuation\n",
    "nltk.download('stopwords')\n",
    "stemmer = PorterStemmer()\n",
    "words = stopwords.words(\"english\")\n",
    "df_renamed['cleaned_text'] = df_renamed['text'].apply(lambda x: \" \".join([stemmer.stem(i) for i in re.sub(\"[^a-zA-Z]\", \" \", x)\\\n",
    "                                                                  .split() if i not in words]).lower())"
   ]
  },
  {
   "cell_type": "code",
   "execution_count": 26,
   "id": "speaking-blowing",
   "metadata": {},
   "outputs": [
    {
     "data": {
      "text/html": [
       "<div>\n",
       "<style scoped>\n",
       "    .dataframe tbody tr th:only-of-type {\n",
       "        vertical-align: middle;\n",
       "    }\n",
       "\n",
       "    .dataframe tbody tr th {\n",
       "        vertical-align: top;\n",
       "    }\n",
       "\n",
       "    .dataframe thead th {\n",
       "        text-align: right;\n",
       "    }\n",
       "</style>\n",
       "<table border=\"1\" class=\"dataframe\">\n",
       "  <thead>\n",
       "    <tr style=\"text-align: right;\">\n",
       "      <th></th>\n",
       "      <th>class</th>\n",
       "      <th>text</th>\n",
       "      <th>cleaned_text</th>\n",
       "    </tr>\n",
       "  </thead>\n",
       "  <tbody>\n",
       "    <tr>\n",
       "      <th>0</th>\n",
       "      <td>5</td>\n",
       "      <td>awesome! stays on, and looks great. can be use...</td>\n",
       "      <td>awesom stay look great use multipl appl produc...</td>\n",
       "    </tr>\n",
       "    <tr>\n",
       "      <th>1</th>\n",
       "      <td>5</td>\n",
       "      <td>Performs exactly as advertised . It's very  st...</td>\n",
       "      <td>perform exactli advertis it sturdili built pro...</td>\n",
       "    </tr>\n",
       "    <tr>\n",
       "      <th>2</th>\n",
       "      <td>5</td>\n",
       "      <td>It works great. Doesn't heat up like crazy lik...</td>\n",
       "      <td>it work great doesn heat like crazi like one i...</td>\n",
       "    </tr>\n",
       "    <tr>\n",
       "      <th>3</th>\n",
       "      <td>2</td>\n",
       "      <td>I am disappointed that the 1A didn't work with...</td>\n",
       "      <td>i disappoint a work ipad that i get buy cheap ...</td>\n",
       "    </tr>\n",
       "    <tr>\n",
       "      <th>4</th>\n",
       "      <td>1</td>\n",
       "      <td>Only works one side at a time. When you connec...</td>\n",
       "      <td>onli work one side time when connect two cabl ...</td>\n",
       "    </tr>\n",
       "  </tbody>\n",
       "</table>\n",
       "</div>"
      ],
      "text/plain": [
       "   class                                               text  \\\n",
       "0      5  awesome! stays on, and looks great. can be use...   \n",
       "1      5  Performs exactly as advertised . It's very  st...   \n",
       "2      5  It works great. Doesn't heat up like crazy lik...   \n",
       "3      2  I am disappointed that the 1A didn't work with...   \n",
       "4      1  Only works one side at a time. When you connec...   \n",
       "\n",
       "                                        cleaned_text  \n",
       "0  awesom stay look great use multipl appl produc...  \n",
       "1  perform exactli advertis it sturdili built pro...  \n",
       "2  it work great doesn heat like crazi like one i...  \n",
       "3  i disappoint a work ipad that i get buy cheap ...  \n",
       "4  onli work one side time when connect two cabl ...  "
      ]
     },
     "execution_count": 26,
     "metadata": {},
     "output_type": "execute_result"
    }
   ],
   "source": [
    "df_renamed.head()"
   ]
  },
  {
   "cell_type": "code",
   "execution_count": 48,
   "id": "patent-accuracy",
   "metadata": {},
   "outputs": [],
   "source": [
    "# Split data\n",
    "X = df_renamed['cleaned_text']\n",
    "y = df_renamed['class']\n",
    "X_train, X_test, y_train, y_test = train_test_split(X, y, test_size=0.25)"
   ]
  },
  {
   "cell_type": "code",
   "execution_count": 37,
   "id": "aggregate-firewall",
   "metadata": {},
   "outputs": [
    {
     "data": {
      "text/plain": [
       "((38049, 100), (38049,))"
      ]
     },
     "execution_count": 37,
     "metadata": {},
     "output_type": "execute_result"
    }
   ],
   "source": [
    "# Vectorize all features to input in model cross validation using max_features = 100\n",
    "vectorizer = TfidfVectorizer(min_df= 3, stop_words=\"english\", max_features = 100, sublinear_tf=True, norm='l2', ngram_range=(1, 2))\n",
    "final_features = vectorizer.fit_transform(df_renamed['cleaned_text']).toarray()\n",
    "labels = df_renamed['class']\n",
    "final_features.shape, labels.shape"
   ]
  },
  {
   "cell_type": "code",
   "execution_count": 38,
   "id": "appropriate-deployment",
   "metadata": {},
   "outputs": [],
   "source": [
    "# Create pipeline to vectorize train data with selectkbest for max_features\n",
    "# Vectorize corpus\n",
    "vectorizer = TfidfVectorizer(min_df= 3, stop_words=\"english\", sublinear_tf=True, norm='l2', ngram_range=(1, 2))\n",
    "\n",
    "\n",
    "\n",
    "                     "
   ]
  },
  {
   "cell_type": "code",
   "execution_count": 42,
   "id": "adjusted-incidence",
   "metadata": {},
   "outputs": [],
   "source": [
    "from sklearn.svm import LinearSVC\n",
    "from sklearn.model_selection import cross_val_score\n",
    "from sklearn.linear_model import LogisticRegression\n",
    "from sklearn.naive_bayes import MultinomialNB"
   ]
  },
  {
   "cell_type": "code",
   "execution_count": 60,
   "id": "spatial-communist",
   "metadata": {},
   "outputs": [],
   "source": [
    "# use cross validation to select best model\n",
    "models = [\n",
    "    RandomForestClassifier(),\n",
    "    LinearSVC(),\n",
    "    MultinomialNB(),\n",
    "    LogisticRegression(max_iter = 200, random_state=0),\n",
    "]\n",
    "CV = 5\n",
    "cv_df = pd.DataFrame(index=range(CV * len(models)))\n",
    "entries = []\n",
    "for model in models:\n",
    "    \n",
    "    model_name = model.__class__.__name__\n",
    "    accuracies = cross_val_score(model, final_features, labels, scoring='accuracy', cv=CV)\n",
    "    for fold_idx, accuracy in enumerate(accuracies):\n",
    "        entries.append((model_name, fold_idx, accuracy))\n",
    "        \n",
    "cv_df = pd.DataFrame(entries, columns=['model_name', 'fold_idx', 'accuracy'])"
   ]
  },
  {
   "cell_type": "code",
   "execution_count": 61,
   "id": "spectacular-palestinian",
   "metadata": {},
   "outputs": [
    {
     "data": {
      "text/plain": [
       "model_name\n",
       "LinearSVC                 0.571605\n",
       "LogisticRegression        0.573208\n",
       "MultinomialNB             0.559647\n",
       "RandomForestClassifier    0.560908\n",
       "Name: accuracy, dtype: float64"
      ]
     },
     "execution_count": 61,
     "metadata": {},
     "output_type": "execute_result"
    }
   ],
   "source": [
    "cv_df.groupby('model_name').accuracy.mean()"
   ]
  },
  {
   "cell_type": "code",
   "execution_count": 2,
   "id": "expanded-courage",
   "metadata": {},
   "outputs": [
    {
     "ename": "NameError",
     "evalue": "name 'Pipeline' is not defined",
     "output_type": "error",
     "traceback": [
      "\u001b[1;31m---------------------------------------------------------------------------\u001b[0m",
      "\u001b[1;31mNameError\u001b[0m                                 Traceback (most recent call last)",
      "\u001b[1;32m<ipython-input-2-28431b00d441>\u001b[0m in \u001b[0;36m<module>\u001b[1;34m\u001b[0m\n\u001b[0;32m      1\u001b[0m \u001b[1;31m# use SelectKbest to extract best features\u001b[0m\u001b[1;33m\u001b[0m\u001b[1;33m\u001b[0m\u001b[1;33m\u001b[0m\u001b[0m\n\u001b[0;32m      2\u001b[0m \u001b[1;31m# Random Forest pipeline\u001b[0m\u001b[1;33m\u001b[0m\u001b[1;33m\u001b[0m\u001b[1;33m\u001b[0m\u001b[0m\n\u001b[1;32m----> 3\u001b[1;33m pipeline = Pipeline([('vect', vectorizer),\n\u001b[0m\u001b[0;32m      4\u001b[0m                      \u001b[1;33m(\u001b[0m\u001b[1;34m'chi'\u001b[0m\u001b[1;33m,\u001b[0m  \u001b[0mSelectKBest\u001b[0m\u001b[1;33m(\u001b[0m\u001b[0mchi2\u001b[0m\u001b[1;33m,\u001b[0m \u001b[0mk\u001b[0m\u001b[1;33m=\u001b[0m\u001b[1;36m1200\u001b[0m\u001b[1;33m)\u001b[0m\u001b[1;33m)\u001b[0m\u001b[1;33m,\u001b[0m\u001b[1;33m\u001b[0m\u001b[1;33m\u001b[0m\u001b[0m\n\u001b[0;32m      5\u001b[0m                     ('rf', RandomForestClassifier())])\n",
      "\u001b[1;31mNameError\u001b[0m: name 'Pipeline' is not defined"
     ]
    }
   ],
   "source": [
    "# use SelectKbest to extract best features\n",
    "# Random Forest pipeline\n",
    "pipeline = Pipeline([('vect', vectorizer),\n",
    "                     ('chi',  SelectKBest(chi2, k=1200)),\n",
    "                    ('rf', RandomForestClassifier())])"
   ]
  },
  {
   "cell_type": "code",
   "execution_count": 1,
   "id": "applicable-practitioner",
   "metadata": {},
   "outputs": [
    {
     "ename": "NameError",
     "evalue": "name 'pipeline' is not defined",
     "output_type": "error",
     "traceback": [
      "\u001b[1;31m---------------------------------------------------------------------------\u001b[0m",
      "\u001b[1;31mNameError\u001b[0m                                 Traceback (most recent call last)",
      "\u001b[1;32m<ipython-input-1-3182e0062d92>\u001b[0m in \u001b[0;36m<module>\u001b[1;34m\u001b[0m\n\u001b[1;32m----> 1\u001b[1;33m \u001b[0mmodel\u001b[0m \u001b[1;33m=\u001b[0m \u001b[0mpipeline\u001b[0m\u001b[1;33m.\u001b[0m\u001b[0mfit_transform\u001b[0m\u001b[1;33m(\u001b[0m\u001b[0mX_train\u001b[0m\u001b[1;33m,\u001b[0m \u001b[0my_train\u001b[0m\u001b[1;33m)\u001b[0m\u001b[1;33m\u001b[0m\u001b[1;33m\u001b[0m\u001b[0m\n\u001b[0m",
      "\u001b[1;31mNameError\u001b[0m: name 'pipeline' is not defined"
     ]
    }
   ],
   "source": [
    "model = pipeline.fit_transform(X_train, y_train)"
   ]
  },
  {
   "cell_type": "code",
   "execution_count": 56,
   "id": "tight-florence",
   "metadata": {},
   "outputs": [],
   "source": [
    "ytest = np.array(y_test)"
   ]
  },
  {
   "cell_type": "code",
   "execution_count": 57,
   "id": "invisible-progressive",
   "metadata": {},
   "outputs": [
    {
     "name": "stdout",
     "output_type": "stream",
     "text": [
      "              precision    recall  f1-score   support\n",
      "\n",
      "           1       0.58      0.27      0.37       632\n",
      "           2       0.18      0.02      0.03       531\n",
      "           3       0.30      0.11      0.16      1034\n",
      "           4       0.39      0.20      0.26      2032\n",
      "           5       0.63      0.93      0.76      5284\n",
      "\n",
      "    accuracy                           0.59      9513\n",
      "   macro avg       0.42      0.31      0.32      9513\n",
      "weighted avg       0.52      0.59      0.52      9513\n",
      "\n"
     ]
    }
   ],
   "source": [
    "# confusion matrix and classification report(precision, recall, F1-score)\n",
    "print(classification_report(ytest, model.predict(X_test)))\n"
   ]
  },
  {
   "cell_type": "code",
   "execution_count": 58,
   "id": "exempt-board",
   "metadata": {},
   "outputs": [
    {
     "name": "stdout",
     "output_type": "stream",
     "text": [
      "[[ 171   17   61   58  325]\n",
      " [  47   10   55   77  342]\n",
      " [  34   14  109  241  636]\n",
      " [  15    7   76  403 1531]\n",
      " [  27    9   64  256 4928]]\n"
     ]
    }
   ],
   "source": [
    "print(confusion_matrix(ytest, model.predict(X_test)))"
   ]
  },
  {
   "cell_type": "code",
   "execution_count": null,
   "id": "czech-potter",
   "metadata": {},
   "outputs": [],
   "source": []
  },
  {
   "cell_type": "code",
   "execution_count": null,
   "id": "ambient-gender",
   "metadata": {},
   "outputs": [],
   "source": []
  },
  {
   "cell_type": "code",
   "execution_count": null,
   "id": "exterior-addition",
   "metadata": {},
   "outputs": [],
   "source": [
    "\n"
   ]
  },
  {
   "cell_type": "code",
   "execution_count": null,
   "id": "existing-wholesale",
   "metadata": {},
   "outputs": [],
   "source": []
  },
  {
   "cell_type": "code",
   "execution_count": null,
   "id": "acquired-treasurer",
   "metadata": {},
   "outputs": [],
   "source": []
  }
 ],
 "metadata": {
  "kernelspec": {
   "display_name": "Python [conda env:pythonadv] *",
   "language": "python",
   "name": "conda-env-pythonadv-py"
  },
  "language_info": {
   "codemirror_mode": {
    "name": "ipython",
    "version": 3
   },
   "file_extension": ".py",
   "mimetype": "text/x-python",
   "name": "python",
   "nbconvert_exporter": "python",
   "pygments_lexer": "ipython3",
   "version": "3.6.12"
  }
 },
 "nbformat": 4,
 "nbformat_minor": 5
}

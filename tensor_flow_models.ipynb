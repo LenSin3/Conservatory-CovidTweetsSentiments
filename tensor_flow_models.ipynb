{
 "cells": [
  {
   "cell_type": "code",
   "execution_count": 1,
   "id": "extraordinary-picking",
   "metadata": {},
   "outputs": [
    {
     "name": "stderr",
     "output_type": "stream",
     "text": [
      "C:\\Users\\lenpk\\anaconda3\\envs\\PythonAdv\\lib\\site-packages\\ipykernel_launcher.py:7: FutureWarning: Passing a negative integer is deprecated in version 1.0 and will not be supported in future version. Instead, use None to not limit the column width.\n",
      "  import sys\n"
     ]
    }
   ],
   "source": [
    "import pandas as pd\n",
    "import gzip\n",
    "import json\n",
    "import numpy as np\n",
    "import re\n",
    "\n",
    "pd.set_option('display.max_colwidth', -1)"
   ]
  },
  {
   "cell_type": "code",
   "execution_count": 2,
   "id": "dental-relative",
   "metadata": {},
   "outputs": [],
   "source": [
    "file_path = \"reviews_Cell_Phones_and_Accessories_5.json.gz\""
   ]
  },
  {
   "cell_type": "code",
   "execution_count": 3,
   "id": "trained-conversation",
   "metadata": {},
   "outputs": [
    {
     "data": {
      "text/html": [
       "<div>\n",
       "<style scoped>\n",
       "    .dataframe tbody tr th:only-of-type {\n",
       "        vertical-align: middle;\n",
       "    }\n",
       "\n",
       "    .dataframe tbody tr th {\n",
       "        vertical-align: top;\n",
       "    }\n",
       "\n",
       "    .dataframe thead th {\n",
       "        text-align: right;\n",
       "    }\n",
       "</style>\n",
       "<table border=\"1\" class=\"dataframe\">\n",
       "  <thead>\n",
       "    <tr style=\"text-align: right;\">\n",
       "      <th></th>\n",
       "      <th>reviewerID</th>\n",
       "      <th>asin</th>\n",
       "      <th>reviewerName</th>\n",
       "      <th>helpful</th>\n",
       "      <th>reviewText</th>\n",
       "      <th>overall</th>\n",
       "      <th>summary</th>\n",
       "      <th>unixReviewTime</th>\n",
       "      <th>reviewTime</th>\n",
       "    </tr>\n",
       "  </thead>\n",
       "  <tbody>\n",
       "    <tr>\n",
       "      <th>0</th>\n",
       "      <td>A30TL5EWN6DFXT</td>\n",
       "      <td>120401325X</td>\n",
       "      <td>christina</td>\n",
       "      <td>[0, 0]</td>\n",
       "      <td>They look good and stick good! I just don't like the rounded shape because I was always bumping it and Siri kept popping up and it was irritating. I just won't buy a product like this again</td>\n",
       "      <td>4</td>\n",
       "      <td>Looks Good</td>\n",
       "      <td>1400630400</td>\n",
       "      <td>05 21, 2014</td>\n",
       "    </tr>\n",
       "    <tr>\n",
       "      <th>1</th>\n",
       "      <td>ASY55RVNIL0UD</td>\n",
       "      <td>120401325X</td>\n",
       "      <td>emily l.</td>\n",
       "      <td>[0, 0]</td>\n",
       "      <td>These stickers work like the review says they do. They stick on great and they stay on the phone. They are super stylish and I can share them with my sister. :)</td>\n",
       "      <td>5</td>\n",
       "      <td>Really great product.</td>\n",
       "      <td>1389657600</td>\n",
       "      <td>01 14, 2014</td>\n",
       "    </tr>\n",
       "    <tr>\n",
       "      <th>2</th>\n",
       "      <td>A2TMXE2AFO7ONB</td>\n",
       "      <td>120401325X</td>\n",
       "      <td>Erica</td>\n",
       "      <td>[0, 0]</td>\n",
       "      <td>These are awesome and make my phone look so stylish! I have only used one so far and have had it on for almost a year! CAN YOU BELIEVE THAT! ONE YEAR!! Great quality!</td>\n",
       "      <td>5</td>\n",
       "      <td>LOVE LOVE LOVE</td>\n",
       "      <td>1403740800</td>\n",
       "      <td>06 26, 2014</td>\n",
       "    </tr>\n",
       "    <tr>\n",
       "      <th>3</th>\n",
       "      <td>AWJ0WZQYMYFQ4</td>\n",
       "      <td>120401325X</td>\n",
       "      <td>JM</td>\n",
       "      <td>[4, 4]</td>\n",
       "      <td>Item arrived in great time and was in perfect condition. However, I ordered these buttons because they were a great deal and included a FREE screen protector. I never received one. Though its not a big deal, it would've been nice to get it since they claim it comes with one.</td>\n",
       "      <td>4</td>\n",
       "      <td>Cute!</td>\n",
       "      <td>1382313600</td>\n",
       "      <td>10 21, 2013</td>\n",
       "    </tr>\n",
       "    <tr>\n",
       "      <th>4</th>\n",
       "      <td>ATX7CZYFXI1KW</td>\n",
       "      <td>120401325X</td>\n",
       "      <td>patrice m rogoza</td>\n",
       "      <td>[2, 3]</td>\n",
       "      <td>awesome! stays on, and looks great. can be used on multiple apple products.  especially having nails, it helps to have an elevated key.</td>\n",
       "      <td>5</td>\n",
       "      <td>leopard home button sticker for iphone 4s</td>\n",
       "      <td>1359849600</td>\n",
       "      <td>02 3, 2013</td>\n",
       "    </tr>\n",
       "  </tbody>\n",
       "</table>\n",
       "</div>"
      ],
      "text/plain": [
       "       reviewerID        asin      reviewerName helpful  \\\n",
       "0  A30TL5EWN6DFXT  120401325X  christina         [0, 0]   \n",
       "1  ASY55RVNIL0UD   120401325X  emily l.          [0, 0]   \n",
       "2  A2TMXE2AFO7ONB  120401325X  Erica             [0, 0]   \n",
       "3  AWJ0WZQYMYFQ4   120401325X  JM                [4, 4]   \n",
       "4  ATX7CZYFXI1KW   120401325X  patrice m rogoza  [2, 3]   \n",
       "\n",
       "                                                                                                                                                                                                                                                                            reviewText  \\\n",
       "0  They look good and stick good! I just don't like the rounded shape because I was always bumping it and Siri kept popping up and it was irritating. I just won't buy a product like this again                                                                                         \n",
       "1  These stickers work like the review says they do. They stick on great and they stay on the phone. They are super stylish and I can share them with my sister. :)                                                                                                                      \n",
       "2  These are awesome and make my phone look so stylish! I have only used one so far and have had it on for almost a year! CAN YOU BELIEVE THAT! ONE YEAR!! Great quality!                                                                                                                \n",
       "3  Item arrived in great time and was in perfect condition. However, I ordered these buttons because they were a great deal and included a FREE screen protector. I never received one. Though its not a big deal, it would've been nice to get it since they claim it comes with one.   \n",
       "4  awesome! stays on, and looks great. can be used on multiple apple products.  especially having nails, it helps to have an elevated key.                                                                                                                                               \n",
       "\n",
       "   overall                                    summary  unixReviewTime  \\\n",
       "0  4        Looks Good                                 1400630400       \n",
       "1  5        Really great product.                      1389657600       \n",
       "2  5        LOVE LOVE LOVE                             1403740800       \n",
       "3  4        Cute!                                      1382313600       \n",
       "4  5        leopard home button sticker for iphone 4s  1359849600       \n",
       "\n",
       "    reviewTime  \n",
       "0  05 21, 2014  \n",
       "1  01 14, 2014  \n",
       "2  06 26, 2014  \n",
       "3  10 21, 2013  \n",
       "4  02 3, 2013   "
      ]
     },
     "execution_count": 3,
     "metadata": {},
     "output_type": "execute_result"
    }
   ],
   "source": [
    "phone_df = pd.read_json(file_path, lines = True)\n",
    "phone_df.head()"
   ]
  },
  {
   "cell_type": "code",
   "execution_count": 4,
   "id": "patent-kazakhstan",
   "metadata": {},
   "outputs": [
    {
     "data": {
      "text/plain": [
       "194439"
      ]
     },
     "execution_count": 4,
     "metadata": {},
     "output_type": "execute_result"
    }
   ],
   "source": [
    "len(phone_df)"
   ]
  },
  {
   "cell_type": "code",
   "execution_count": 5,
   "id": "suited-there",
   "metadata": {},
   "outputs": [
    {
     "name": "stdout",
     "output_type": "stream",
     "text": [
      "<class 'pandas.core.frame.DataFrame'>\n",
      "RangeIndex: 194439 entries, 0 to 194438\n",
      "Data columns (total 9 columns):\n",
      " #   Column          Non-Null Count   Dtype \n",
      "---  ------          --------------   ----- \n",
      " 0   reviewerID      194439 non-null  object\n",
      " 1   asin            194439 non-null  object\n",
      " 2   reviewerName    190920 non-null  object\n",
      " 3   helpful         194439 non-null  object\n",
      " 4   reviewText      194439 non-null  object\n",
      " 5   overall         194439 non-null  int64 \n",
      " 6   summary         194439 non-null  object\n",
      " 7   unixReviewTime  194439 non-null  int64 \n",
      " 8   reviewTime      194439 non-null  object\n",
      "dtypes: int64(2), object(7)\n",
      "memory usage: 13.4+ MB\n"
     ]
    }
   ],
   "source": [
    "phone_df.info()"
   ]
  },
  {
   "cell_type": "code",
   "execution_count": 6,
   "id": "comparable-ensemble",
   "metadata": {},
   "outputs": [
    {
     "data": {
      "text/plain": [
       "5    0.558859\n",
       "4    0.205684\n",
       "3    0.110261\n",
       "1    0.068294\n",
       "2    0.056902\n",
       "Name: overall, dtype: float64"
      ]
     },
     "execution_count": 6,
     "metadata": {},
     "output_type": "execute_result"
    }
   ],
   "source": [
    "ratings_count_props = phone_df['overall'].value_counts(normalize = True)\n",
    "ratings_count_props"
   ]
  },
  {
   "cell_type": "code",
   "execution_count": 7,
   "id": "white-engineer",
   "metadata": {},
   "outputs": [],
   "source": [
    "import matplotlib.pyplot as plt\n",
    "import seaborn as sns"
   ]
  },
  {
   "cell_type": "code",
   "execution_count": 8,
   "id": "architectural-surname",
   "metadata": {},
   "outputs": [
    {
     "name": "stderr",
     "output_type": "stream",
     "text": [
      "C:\\Users\\lenpk\\anaconda3\\envs\\PythonAdv\\lib\\site-packages\\seaborn\\_decorators.py:43: FutureWarning: Pass the following variable as a keyword arg: x. From version 0.12, the only valid positional argument will be `data`, and passing other arguments without an explicit keyword will result in an error or misinterpretation.\n",
      "  FutureWarning\n"
     ]
    },
    {
     "data": {
      "image/png": "[encoded data removed]",
      "text/plain": [
       "<Figure size 432x288 with 1 Axes>"
      ]
     },
     "metadata": {
      "needs_background": "light"
     },
     "output_type": "display_data"
    }
   ],
   "source": [
    "sns.countplot(phone_df['overall'], order=phone_df['overall'].value_counts(ascending=False).index)\n",
    "plt.show()"
   ]
  },
  {
   "cell_type": "code",
   "execution_count": 9,
   "id": "armed-sixth",
   "metadata": {},
   "outputs": [
    {
     "data": {
      "text/plain": [
       "Amazon Customer                3562\n",
       "Pen Name                       344 \n",
       "John                           268 \n",
       "Chris                          234 \n",
       "Mike                           224 \n",
       "David                          218 \n",
       "Ryan                           177 \n",
       "Michael                        177 \n",
       "Mike Tarrani \"Jazz Drummer\"    152 \n",
       "Scott                          145 \n",
       "Name: reviewerName, dtype: int64"
      ]
     },
     "execution_count": 9,
     "metadata": {},
     "output_type": "execute_result"
    }
   ],
   "source": [
    "reviewer_count = phone_df['reviewerName'].value_counts(ascending=False)\n",
    "reviewer_count.head(10)"
   ]
  },
  {
   "cell_type": "code",
   "execution_count": 10,
   "id": "corresponding-destiny",
   "metadata": {},
   "outputs": [],
   "source": [
    "from __future__ import absolute_import, division, print_function, unicode_literals\n",
    "import tensorflow as tf # (I'm using tensorflow 2.0)\n",
    "from tensorflow import keras\n",
    "from tensorflow.keras import layers\n",
    "from tensorflow.keras.layers.experimental.preprocessing import TextVectorization\n",
    "\n",
    "\n",
    "\n",
    "from numpy import array\n",
    "from numpy import argmax\n",
    "from sklearn.preprocessing import LabelEncoder\n",
    "from sklearn.preprocessing import OneHotEncoder\n",
    "from tensorflow.keras.preprocessing.text import Tokenizer\n",
    "from tensorflow.keras.preprocessing.sequence import pad_sequences"
   ]
  },
  {
   "cell_type": "code",
   "execution_count": 93,
   "id": "tutorial-hindu",
   "metadata": {},
   "outputs": [
    {
     "data": {
      "text/plain": [
       "'2.1.0'"
      ]
     },
     "execution_count": 93,
     "metadata": {},
     "output_type": "execute_result"
    }
   ],
   "source": [
    "tf.__version__"
   ]
  },
  {
   "cell_type": "code",
   "execution_count": 11,
   "id": "pleasant-individual",
   "metadata": {},
   "outputs": [
    {
     "data": {
      "text/html": [
       "<div>\n",
       "<style scoped>\n",
       "    .dataframe tbody tr th:only-of-type {\n",
       "        vertical-align: middle;\n",
       "    }\n",
       "\n",
       "    .dataframe tbody tr th {\n",
       "        vertical-align: top;\n",
       "    }\n",
       "\n",
       "    .dataframe thead th {\n",
       "        text-align: right;\n",
       "    }\n",
       "</style>\n",
       "<table border=\"1\" class=\"dataframe\">\n",
       "  <thead>\n",
       "    <tr style=\"text-align: right;\">\n",
       "      <th></th>\n",
       "      <th>overall</th>\n",
       "      <th>reviewText</th>\n",
       "    </tr>\n",
       "  </thead>\n",
       "  <tbody>\n",
       "    <tr>\n",
       "      <th>0</th>\n",
       "      <td>4</td>\n",
       "      <td>They look good and stick good! I just don't like the rounded shape because I was always bumping it and Siri kept popping up and it was irritating. I just won't buy a product like this again</td>\n",
       "    </tr>\n",
       "    <tr>\n",
       "      <th>1</th>\n",
       "      <td>5</td>\n",
       "      <td>These stickers work like the review says they do. They stick on great and they stay on the phone. They are super stylish and I can share them with my sister. :)</td>\n",
       "    </tr>\n",
       "    <tr>\n",
       "      <th>2</th>\n",
       "      <td>5</td>\n",
       "      <td>These are awesome and make my phone look so stylish! I have only used one so far and have had it on for almost a year! CAN YOU BELIEVE THAT! ONE YEAR!! Great quality!</td>\n",
       "    </tr>\n",
       "    <tr>\n",
       "      <th>3</th>\n",
       "      <td>4</td>\n",
       "      <td>Item arrived in great time and was in perfect condition. However, I ordered these buttons because they were a great deal and included a FREE screen protector. I never received one. Though its not a big deal, it would've been nice to get it since they claim it comes with one.</td>\n",
       "    </tr>\n",
       "    <tr>\n",
       "      <th>4</th>\n",
       "      <td>5</td>\n",
       "      <td>awesome! stays on, and looks great. can be used on multiple apple products.  especially having nails, it helps to have an elevated key.</td>\n",
       "    </tr>\n",
       "  </tbody>\n",
       "</table>\n",
       "</div>"
      ],
      "text/plain": [
       "   overall  \\\n",
       "0  4         \n",
       "1  5         \n",
       "2  5         \n",
       "3  4         \n",
       "4  5         \n",
       "\n",
       "                                                                                                                                                                                                                                                                            reviewText  \n",
       "0  They look good and stick good! I just don't like the rounded shape because I was always bumping it and Siri kept popping up and it was irritating. I just won't buy a product like this again                                                                                        \n",
       "1  These stickers work like the review says they do. They stick on great and they stay on the phone. They are super stylish and I can share them with my sister. :)                                                                                                                     \n",
       "2  These are awesome and make my phone look so stylish! I have only used one so far and have had it on for almost a year! CAN YOU BELIEVE THAT! ONE YEAR!! Great quality!                                                                                                               \n",
       "3  Item arrived in great time and was in perfect condition. However, I ordered these buttons because they were a great deal and included a FREE screen protector. I never received one. Though its not a big deal, it would've been nice to get it since they claim it comes with one.  \n",
       "4  awesome! stays on, and looks great. can be used on multiple apple products.  especially having nails, it helps to have an elevated key.                                                                                                                                              "
      ]
     },
     "execution_count": 11,
     "metadata": {},
     "output_type": "execute_result"
    }
   ],
   "source": [
    "# Extract columns of interest into a new dataframe\n",
    "data_df = phone_df[['overall', 'reviewText']]\n",
    "data_df.head()"
   ]
  },
  {
   "cell_type": "code",
   "execution_count": 12,
   "id": "spanish-pittsburgh",
   "metadata": {},
   "outputs": [
    {
     "data": {
      "text/plain": [
       "\"\\nfrom sklearn.preprocessing import LabelEncoder\\ny1 = data_df['overall']\\nlabel_encoder = LabelEncoder()\\nlabel_encoder.fit(y1)\\nencoded_y = label_encoder.transform(y1)\\nencoded_y\\n\""
      ]
     },
     "execution_count": 12,
     "metadata": {},
     "output_type": "execute_result"
    }
   ],
   "source": [
    "\"\"\"\n",
    "from sklearn.preprocessing import LabelEncoder\n",
    "y1 = data_df['overall']\n",
    "label_encoder = LabelEncoder()\n",
    "label_encoder.fit(y1)\n",
    "encoded_y = label_encoder.transform(y1)\n",
    "encoded_y\n",
    "\"\"\"\n"
   ]
  },
  {
   "cell_type": "code",
   "execution_count": 13,
   "id": "single-stand",
   "metadata": {},
   "outputs": [],
   "source": [
    "# data_df['new_overall'] = [x for x in encoded_y]"
   ]
  },
  {
   "cell_type": "code",
   "execution_count": 14,
   "id": "enclosed-silence",
   "metadata": {},
   "outputs": [
    {
     "data": {
      "text/html": [
       "<div>\n",
       "<style scoped>\n",
       "    .dataframe tbody tr th:only-of-type {\n",
       "        vertical-align: middle;\n",
       "    }\n",
       "\n",
       "    .dataframe tbody tr th {\n",
       "        vertical-align: top;\n",
       "    }\n",
       "\n",
       "    .dataframe thead th {\n",
       "        text-align: right;\n",
       "    }\n",
       "</style>\n",
       "<table border=\"1\" class=\"dataframe\">\n",
       "  <thead>\n",
       "    <tr style=\"text-align: right;\">\n",
       "      <th></th>\n",
       "      <th>overall</th>\n",
       "      <th>reviewText</th>\n",
       "    </tr>\n",
       "  </thead>\n",
       "  <tbody>\n",
       "    <tr>\n",
       "      <th>0</th>\n",
       "      <td>4</td>\n",
       "      <td>They look good and stick good! I just don't like the rounded shape because I was always bumping it and Siri kept popping up and it was irritating. I just won't buy a product like this again</td>\n",
       "    </tr>\n",
       "    <tr>\n",
       "      <th>1</th>\n",
       "      <td>5</td>\n",
       "      <td>These stickers work like the review says they do. They stick on great and they stay on the phone. They are super stylish and I can share them with my sister. :)</td>\n",
       "    </tr>\n",
       "    <tr>\n",
       "      <th>2</th>\n",
       "      <td>5</td>\n",
       "      <td>These are awesome and make my phone look so stylish! I have only used one so far and have had it on for almost a year! CAN YOU BELIEVE THAT! ONE YEAR!! Great quality!</td>\n",
       "    </tr>\n",
       "    <tr>\n",
       "      <th>3</th>\n",
       "      <td>4</td>\n",
       "      <td>Item arrived in great time and was in perfect condition. However, I ordered these buttons because they were a great deal and included a FREE screen protector. I never received one. Though its not a big deal, it would've been nice to get it since they claim it comes with one.</td>\n",
       "    </tr>\n",
       "    <tr>\n",
       "      <th>4</th>\n",
       "      <td>5</td>\n",
       "      <td>awesome! stays on, and looks great. can be used on multiple apple products.  especially having nails, it helps to have an elevated key.</td>\n",
       "    </tr>\n",
       "  </tbody>\n",
       "</table>\n",
       "</div>"
      ],
      "text/plain": [
       "   overall  \\\n",
       "0  4         \n",
       "1  5         \n",
       "2  5         \n",
       "3  4         \n",
       "4  5         \n",
       "\n",
       "                                                                                                                                                                                                                                                                            reviewText  \n",
       "0  They look good and stick good! I just don't like the rounded shape because I was always bumping it and Siri kept popping up and it was irritating. I just won't buy a product like this again                                                                                        \n",
       "1  These stickers work like the review says they do. They stick on great and they stay on the phone. They are super stylish and I can share them with my sister. :)                                                                                                                     \n",
       "2  These are awesome and make my phone look so stylish! I have only used one so far and have had it on for almost a year! CAN YOU BELIEVE THAT! ONE YEAR!! Great quality!                                                                                                               \n",
       "3  Item arrived in great time and was in perfect condition. However, I ordered these buttons because they were a great deal and included a FREE screen protector. I never received one. Though its not a big deal, it would've been nice to get it since they claim it comes with one.  \n",
       "4  awesome! stays on, and looks great. can be used on multiple apple products.  especially having nails, it helps to have an elevated key.                                                                                                                                              "
      ]
     },
     "execution_count": 14,
     "metadata": {},
     "output_type": "execute_result"
    }
   ],
   "source": [
    "data_df.head()"
   ]
  },
  {
   "cell_type": "code",
   "execution_count": 15,
   "id": "senior-knife",
   "metadata": {},
   "outputs": [],
   "source": [
    "df_renamed = data_df.rename(columns = {'overall': 'label', 'reviewText': 'text'})"
   ]
  },
  {
   "cell_type": "code",
   "execution_count": 16,
   "id": "cardiac-mediterranean",
   "metadata": {},
   "outputs": [],
   "source": [
    "y = df_renamed['label']"
   ]
  },
  {
   "cell_type": "code",
   "execution_count": 17,
   "id": "imported-suspension",
   "metadata": {},
   "outputs": [
    {
     "data": {
      "text/plain": [
       "'\\n\\n'"
      ]
     },
     "execution_count": 17,
     "metadata": {},
     "output_type": "execute_result"
    }
   ],
   "source": [
    "\n",
    "\n",
    "# Step 1: Label-encode data set\n",
    "\"\"\"\n",
    "\n",
    "\"\"\"\n"
   ]
  },
  {
   "cell_type": "code",
   "execution_count": 18,
   "id": "behavioral-bangladesh",
   "metadata": {},
   "outputs": [],
   "source": [
    "\n",
    "\n",
    "# Step 2: One-hot encoding\n",
    "# one_hot_y = to_categorical(encoded_y)"
   ]
  },
  {
   "cell_type": "code",
   "execution_count": 19,
   "id": "black-reduction",
   "metadata": {},
   "outputs": [],
   "source": [
    "# Include array in dataframe\n",
    "# df_renamed['class_labels'] = [x for x in one_hot_y]\n"
   ]
  },
  {
   "cell_type": "code",
   "execution_count": 20,
   "id": "hidden-guinea",
   "metadata": {},
   "outputs": [
    {
     "data": {
      "text/html": [
       "<div>\n",
       "<style scoped>\n",
       "    .dataframe tbody tr th:only-of-type {\n",
       "        vertical-align: middle;\n",
       "    }\n",
       "\n",
       "    .dataframe tbody tr th {\n",
       "        vertical-align: top;\n",
       "    }\n",
       "\n",
       "    .dataframe thead th {\n",
       "        text-align: right;\n",
       "    }\n",
       "</style>\n",
       "<table border=\"1\" class=\"dataframe\">\n",
       "  <thead>\n",
       "    <tr style=\"text-align: right;\">\n",
       "      <th></th>\n",
       "      <th>label</th>\n",
       "      <th>text</th>\n",
       "    </tr>\n",
       "  </thead>\n",
       "  <tbody>\n",
       "    <tr>\n",
       "      <th>0</th>\n",
       "      <td>4</td>\n",
       "      <td>They look good and stick good! I just don't like the rounded shape because I was always bumping it and Siri kept popping up and it was irritating. I just won't buy a product like this again</td>\n",
       "    </tr>\n",
       "    <tr>\n",
       "      <th>1</th>\n",
       "      <td>5</td>\n",
       "      <td>These stickers work like the review says they do. They stick on great and they stay on the phone. They are super stylish and I can share them with my sister. :)</td>\n",
       "    </tr>\n",
       "    <tr>\n",
       "      <th>2</th>\n",
       "      <td>5</td>\n",
       "      <td>These are awesome and make my phone look so stylish! I have only used one so far and have had it on for almost a year! CAN YOU BELIEVE THAT! ONE YEAR!! Great quality!</td>\n",
       "    </tr>\n",
       "    <tr>\n",
       "      <th>3</th>\n",
       "      <td>4</td>\n",
       "      <td>Item arrived in great time and was in perfect condition. However, I ordered these buttons because they were a great deal and included a FREE screen protector. I never received one. Though its not a big deal, it would've been nice to get it since they claim it comes with one.</td>\n",
       "    </tr>\n",
       "    <tr>\n",
       "      <th>4</th>\n",
       "      <td>5</td>\n",
       "      <td>awesome! stays on, and looks great. can be used on multiple apple products.  especially having nails, it helps to have an elevated key.</td>\n",
       "    </tr>\n",
       "  </tbody>\n",
       "</table>\n",
       "</div>"
      ],
      "text/plain": [
       "   label  \\\n",
       "0  4       \n",
       "1  5       \n",
       "2  5       \n",
       "3  4       \n",
       "4  5       \n",
       "\n",
       "                                                                                                                                                                                                                                                                                  text  \n",
       "0  They look good and stick good! I just don't like the rounded shape because I was always bumping it and Siri kept popping up and it was irritating. I just won't buy a product like this again                                                                                        \n",
       "1  These stickers work like the review says they do. They stick on great and they stay on the phone. They are super stylish and I can share them with my sister. :)                                                                                                                     \n",
       "2  These are awesome and make my phone look so stylish! I have only used one so far and have had it on for almost a year! CAN YOU BELIEVE THAT! ONE YEAR!! Great quality!                                                                                                               \n",
       "3  Item arrived in great time and was in perfect condition. However, I ordered these buttons because they were a great deal and included a FREE screen protector. I never received one. Though its not a big deal, it would've been nice to get it since they claim it comes with one.  \n",
       "4  awesome! stays on, and looks great. can be used on multiple apple products.  especially having nails, it helps to have an elevated key.                                                                                                                                              "
      ]
     },
     "execution_count": 20,
     "metadata": {},
     "output_type": "execute_result"
    }
   ],
   "source": [
    "df_renamed.head()"
   ]
  },
  {
   "cell_type": "code",
   "execution_count": 50,
   "id": "third-bibliography",
   "metadata": {},
   "outputs": [],
   "source": [
    "model_msk = np.random.rand(len(df_renamed)) < 0.25\n",
    "model_data = df_renamed[model_msk]"
   ]
  },
  {
   "cell_type": "code",
   "execution_count": 51,
   "id": "characteristic-addiction",
   "metadata": {},
   "outputs": [],
   "source": [
    "# Split data into train and test\n",
    "msk = np.random.rand(len(model_data)) < 0.8\n",
    "train_main = model_data[msk]\n",
    "test_main = model_data[~msk]"
   ]
  },
  {
   "cell_type": "code",
   "execution_count": 56,
   "id": "apart-place",
   "metadata": {},
   "outputs": [],
   "source": [
    "# split train into train and validation\n",
    "msk_val = np.random.rand(len(train_main)) < 0.8\n",
    "train = train_main[msk_val]\n",
    "val = train_main[~msk_val]"
   ]
  },
  {
   "cell_type": "code",
   "execution_count": 57,
   "id": "competitive-genealogy",
   "metadata": {},
   "outputs": [
    {
     "data": {
      "text/plain": [
       "(9693, 31015, 7619)"
      ]
     },
     "execution_count": 57,
     "metadata": {},
     "output_type": "execute_result"
    }
   ],
   "source": [
    "len(test_main), len(train), len(val)"
   ]
  },
  {
   "cell_type": "code",
   "execution_count": 24,
   "id": "widespread-vacuum",
   "metadata": {},
   "outputs": [],
   "source": [
    "# Create Tensor Flow datasets"
   ]
  },
  {
   "cell_type": "code",
   "execution_count": 58,
   "id": "spare-ridge",
   "metadata": {},
   "outputs": [],
   "source": [
    "# train dataset\n",
    "target = train.pop('label')\n",
    "train_ds = tf.data.Dataset.from_tensor_slices((train.values, target.values))"
   ]
  },
  {
   "cell_type": "code",
   "execution_count": 59,
   "id": "wooden-experience",
   "metadata": {},
   "outputs": [],
   "source": [
    "# validation dataset\n",
    "target = val.pop('label')\n",
    "val_ds = tf.data.Dataset.from_tensor_slices((val.values, target.values))"
   ]
  },
  {
   "cell_type": "code",
   "execution_count": 60,
   "id": "egyptian-engine",
   "metadata": {},
   "outputs": [],
   "source": [
    "# test dataset\n",
    "target = test_main.pop('label')\n",
    "test_ds = tf.data.Dataset.from_tensor_slices((test_main.values, target.values))"
   ]
  },
  {
   "cell_type": "code",
   "execution_count": 28,
   "id": "presidential-stream",
   "metadata": {},
   "outputs": [],
   "source": [
    "\n",
    "# target = df_renamed.pop('label')\n",
    "# dataset = tf.data.Dataset.from_tensor_slices((df_renamed.values, target.values))"
   ]
  },
  {
   "cell_type": "code",
   "execution_count": 61,
   "id": "addressed-royalty",
   "metadata": {},
   "outputs": [
    {
     "name": "stdout",
     "output_type": "stream",
     "text": [
      "Features: [b'awesome! stays on, and looks great. can be used on multiple apple products.  especially having nails, it helps to have an elevated key.'], Target: 5\n",
      "Features: [b'This charger works great and is short, unlike most chargers. It does a great job with charging both my phone and my GPS when I am in the car.  Great value and easy on the wallet.'], Target: 5\n",
      "Features: [b\"Received this in about a weeks time. Very nice actually considering how cheap the price was. It's a pink/purple with black leopard spots and has a very nice feel to it. I haven't tried to remove it yet, but hopefully it won't give me any trouble when I do want to change covers.\"], Target: 5\n",
      "Features: [b'works good with our phones, better actually than the charger that came with one of the phones initially , great price'], Target: 4\n",
      "Features: [b'I was surprised it game in three steps, but when i put the case together and slid my phone in, i loved it. It is hard to get off'], Target: 5\n"
     ]
    }
   ],
   "source": [
    "# inspect any dataset\n",
    "for feat, targ in val_ds.take(5):\n",
    "  print ('Features: {}, Target: {}'.format(feat, targ))"
   ]
  },
  {
   "cell_type": "code",
   "execution_count": 92,
   "id": "liked-baker",
   "metadata": {},
   "outputs": [
    {
     "ename": "AttributeError",
     "evalue": "'TensorSliceDataset' object has no attribute 'class_names'",
     "output_type": "error",
     "traceback": [
      "\u001b[1;31m---------------------------------------------------------------------------\u001b[0m",
      "\u001b[1;31mAttributeError\u001b[0m                            Traceback (most recent call last)",
      "\u001b[1;32m<ipython-input-92-794d7cd993d8>\u001b[0m in \u001b[0;36m<module>\u001b[1;34m\u001b[0m\n\u001b[1;32m----> 1\u001b[1;33m \u001b[1;32mfor\u001b[0m \u001b[0mi\u001b[0m\u001b[1;33m,\u001b[0m \u001b[0mlabel\u001b[0m \u001b[1;32min\u001b[0m \u001b[0menumerate\u001b[0m\u001b[1;33m(\u001b[0m\u001b[0mtrain_ds\u001b[0m\u001b[1;33m.\u001b[0m\u001b[0mclass_names\u001b[0m\u001b[1;33m)\u001b[0m\u001b[1;33m:\u001b[0m\u001b[1;33m\u001b[0m\u001b[1;33m\u001b[0m\u001b[0m\n\u001b[0m\u001b[0;32m      2\u001b[0m     \u001b[0mprint\u001b[0m\u001b[1;33m(\u001b[0m\u001b[1;34m\"Label\"\u001b[0m\u001b[1;33m,\u001b[0m \u001b[0mi\u001b[0m\u001b[1;33m,\u001b[0m \u001b[1;34m\"corresponds to\"\u001b[0m\u001b[1;33m,\u001b[0m \u001b[0mlabel\u001b[0m\u001b[1;33m)\u001b[0m\u001b[1;33m\u001b[0m\u001b[1;33m\u001b[0m\u001b[0m\n",
      "\u001b[1;31mAttributeError\u001b[0m: 'TensorSliceDataset' object has no attribute 'class_names'"
     ]
    }
   ],
   "source": [
    "for i, label in enumerate(train_ds.class_names):\n",
    "    print(\"Label\", i, \"corresponds to\", label)"
   ]
  },
  {
   "cell_type": "code",
   "execution_count": 30,
   "id": "objective-casino",
   "metadata": {},
   "outputs": [],
   "source": [
    "# Text Preprocessing\n",
    "# standardize, tokenize, and vectorize the data using the preprocessing.TextVectorization"
   ]
  },
  {
   "cell_type": "code",
   "execution_count": 62,
   "id": "composite-formula",
   "metadata": {},
   "outputs": [],
   "source": [
    "VOCAB_SIZE = 10000\n",
    "\n",
    "binary_vectorize_layer = TextVectorization(\n",
    "    max_tokens=VOCAB_SIZE,\n",
    "    output_mode='binary')"
   ]
  },
  {
   "cell_type": "code",
   "execution_count": 63,
   "id": "fuzzy-retro",
   "metadata": {},
   "outputs": [],
   "source": [
    "MAX_SEQUENCE_LENGTH = 250\n",
    "\n",
    "int_vectorize_layer = TextVectorization(\n",
    "    max_tokens=VOCAB_SIZE,\n",
    "    output_mode='int',\n",
    "    output_sequence_length=MAX_SEQUENCE_LENGTH)"
   ]
  },
  {
   "cell_type": "code",
   "execution_count": 64,
   "id": "roman-audience",
   "metadata": {},
   "outputs": [],
   "source": [
    "# Make a text-only dataset (without labels), then call adapt\n",
    "train_text = train_ds.map(lambda text, labels: text)\n",
    "binary_vectorize_layer.adapt(train_text)\n",
    "int_vectorize_layer.adapt(train_text)"
   ]
  },
  {
   "cell_type": "code",
   "execution_count": 65,
   "id": "naked-banner",
   "metadata": {},
   "outputs": [],
   "source": [
    "def binary_vectorize_text(text, label):\n",
    "    \n",
    "      text = tf.expand_dims(text, -1)\n",
    "    \n",
    "      return binary_vectorize_layer(text), label"
   ]
  },
  {
   "cell_type": "code",
   "execution_count": 66,
   "id": "exact-citizen",
   "metadata": {},
   "outputs": [],
   "source": [
    "def int_vectorize_text(text, label):\n",
    "    text = tf.expand_dims(text, -1)\n",
    "    return int_vectorize_layer(text), label"
   ]
  },
  {
   "cell_type": "code",
   "execution_count": 67,
   "id": "fatty-jurisdiction",
   "metadata": {},
   "outputs": [
    {
     "name": "stdout",
     "output_type": "stream",
     "text": [
      "Review tf.Tensor([b\"Item arrived in great time and was in perfect condition. However, I ordered these buttons because they were a great deal and included a FREE screen protector. I never received one. Though its not a big deal, it would've been nice to get it since they claim it comes with one.\"], shape=(1,), dtype=string)\n",
      "Rating tf.Tensor(4, shape=(), dtype=int64)\n"
     ]
    }
   ],
   "source": [
    "# Retrieve a batch (of 32 reviews and labels) from the dataset\n",
    "text_batch, label_batch = next(iter(train_ds))\n",
    "review, star_rating = text_batch, label_batch\n",
    "print(\"Review\", review)\n",
    "print(\"Rating\", star_rating)"
   ]
  },
  {
   "cell_type": "code",
   "execution_count": 68,
   "id": "collected-oasis",
   "metadata": {},
   "outputs": [
    {
     "name": "stdout",
     "output_type": "stream",
     "text": [
      "'binary' vectorized review: (<tf.Tensor: shape=(1, 10000), dtype=int64, numpy=array([[0, 0, 1, ..., 0, 0, 0]], dtype=int64)>, <tf.Tensor: shape=(), dtype=int64, numpy=4>)\n"
     ]
    }
   ],
   "source": [
    "print(\"'binary' vectorized review:\", \n",
    "      binary_vectorize_text(review, star_rating))"
   ]
  },
  {
   "cell_type": "code",
   "execution_count": 69,
   "id": "exact-consolidation",
   "metadata": {},
   "outputs": [
    {
     "name": "stdout",
     "output_type": "stream",
     "text": [
      "'int' vectorized review: (<tf.Tensor: shape=(1, 250), dtype=int64, numpy=\n",
      "array([[ 246,  458,   15,   35,   69,    4,   23,   15,  159, 1443,  193,\n",
      "           3,  292,   70,  213,   75,   46,  168,    6,   35,  368,    4,\n",
      "         397,    6,  378,   40,  108,    3,  212,  274,   27,  195,   26,\n",
      "          22,    6,  248,  368,    5, 2720,  132,   82,    7,   55,    5,\n",
      "         169,   46, 1817,    5,  189,   16,   27,    0,    0,    0,    0,\n",
      "           0,    0,    0,    0,    0,    0,    0,    0,    0,    0,    0,\n",
      "           0,    0,    0,    0,    0,    0,    0,    0,    0,    0,    0,\n",
      "           0,    0,    0,    0,    0,    0,    0,    0,    0,    0,    0,\n",
      "           0,    0,    0,    0,    0,    0,    0,    0,    0,    0,    0,\n",
      "           0,    0,    0,    0,    0,    0,    0,    0,    0,    0,    0,\n",
      "           0,    0,    0,    0,    0,    0,    0,    0,    0,    0,    0,\n",
      "           0,    0,    0,    0,    0,    0,    0,    0,    0,    0,    0,\n",
      "           0,    0,    0,    0,    0,    0,    0,    0,    0,    0,    0,\n",
      "           0,    0,    0,    0,    0,    0,    0,    0,    0,    0,    0,\n",
      "           0,    0,    0,    0,    0,    0,    0,    0,    0,    0,    0,\n",
      "           0,    0,    0,    0,    0,    0,    0,    0,    0,    0,    0,\n",
      "           0,    0,    0,    0,    0,    0,    0,    0,    0,    0,    0,\n",
      "           0,    0,    0,    0,    0,    0,    0,    0,    0,    0,    0,\n",
      "           0,    0,    0,    0,    0,    0,    0,    0,    0,    0,    0,\n",
      "           0,    0,    0,    0,    0,    0,    0,    0,    0,    0,    0,\n",
      "           0,    0,    0,    0,    0,    0,    0,    0,    0,    0,    0,\n",
      "           0,    0,    0,    0,    0,    0,    0,    0,    0,    0,    0,\n",
      "           0,    0,    0,    0,    0,    0,    0,    0]], dtype=int64)>, <tf.Tensor: shape=(), dtype=int64, numpy=4>)\n"
     ]
    }
   ],
   "source": [
    "print(\"'int' vectorized review:\",\n",
    "      int_vectorize_text(review, star_rating))"
   ]
  },
  {
   "cell_type": "code",
   "execution_count": 70,
   "id": "upper-island",
   "metadata": {},
   "outputs": [
    {
     "name": "stdout",
     "output_type": "stream",
     "text": [
      "1817 --->  b'proper'\n",
      "248 --->  b'increase'\n",
      "Vocabulary size: 9999\n"
     ]
    }
   ],
   "source": [
    "print(\"1817 ---> \", int_vectorize_layer.get_vocabulary()[1886])\n",
    "print(\"248 ---> \", int_vectorize_layer.get_vocabulary()[1753])\n",
    "print(\"Vocabulary size: {}\".format(len(int_vectorize_layer.get_vocabulary())))"
   ]
  },
  {
   "cell_type": "code",
   "execution_count": 40,
   "id": "handled-bronze",
   "metadata": {},
   "outputs": [],
   "source": [
    "# Apply TextVectorization layers on train, test and validation datasets"
   ]
  },
  {
   "cell_type": "code",
   "execution_count": 71,
   "id": "given-daughter",
   "metadata": {},
   "outputs": [],
   "source": [
    "binary_train_ds = train_ds.map(binary_vectorize_text)\n",
    "binary_val_ds = val_ds.map(binary_vectorize_text)\n",
    "binary_test_ds = test_ds.map(binary_vectorize_text)\n",
    "\n",
    "int_train_ds = train_ds.map(int_vectorize_text)\n",
    "int_val_ds = val_ds.map(int_vectorize_text)\n",
    "int_test_ds = test_ds.map(int_vectorize_text)"
   ]
  },
  {
   "cell_type": "code",
   "execution_count": 72,
   "id": "determined-concern",
   "metadata": {},
   "outputs": [],
   "source": [
    "import time\n",
    "# Configure the dataset for performance\n",
    "\n",
    "#AUTOTUNE = tf.data.AUTOTUNE\n",
    "\n",
    "def configure_dataset(dataset):\n",
    "    \n",
    "      return dataset.cache()"
   ]
  },
  {
   "cell_type": "code",
   "execution_count": 73,
   "id": "public-explanation",
   "metadata": {},
   "outputs": [],
   "source": [
    "binary_train_ds = configure_dataset(binary_train_ds)\n",
    "binary_val_ds = configure_dataset(binary_val_ds)\n",
    "binary_test_ds = configure_dataset(binary_test_ds)\n",
    "\n",
    "int_train_ds = configure_dataset(int_train_ds)\n",
    "int_val_ds = configure_dataset(int_val_ds)\n",
    "int_test_ds = configure_dataset(int_test_ds)"
   ]
  },
  {
   "cell_type": "code",
   "execution_count": 44,
   "id": "medical-clarity",
   "metadata": {},
   "outputs": [],
   "source": [
    "# Train the Model"
   ]
  },
  {
   "cell_type": "code",
   "execution_count": 75,
   "id": "julian-requirement",
   "metadata": {},
   "outputs": [
    {
     "name": "stdout",
     "output_type": "stream",
     "text": [
      "Train for 31015 steps, validate for 7619 steps\n",
      "Epoch 1/10\n",
      "31015/31015 [==============================] - 104s 3ms/step - loss: 1.0298 - accuracy: 0.6088 - val_loss: 1.0365 - val_accuracy: 0.6333\n",
      "Epoch 2/10\n",
      "31015/31015 [==============================] - 133s 4ms/step - loss: 0.8507 - accuracy: 0.6732 - val_loss: 1.1090 - val_accuracy: 0.6404\n",
      "Epoch 3/10\n",
      "31015/31015 [==============================] - 135s 4ms/step - loss: 0.7876 - accuracy: 0.6984 - val_loss: 1.1811 - val_accuracy: 0.6359\n",
      "Epoch 4/10\n",
      "31015/31015 [==============================] - 126s 4ms/step - loss: 0.7490 - accuracy: 0.7166 - val_loss: 1.2568 - val_accuracy: 0.6320\n",
      "Epoch 5/10\n",
      "31015/31015 [==============================] - 126s 4ms/step - loss: 0.7228 - accuracy: 0.7280 - val_loss: 1.3319 - val_accuracy: 0.6261\n",
      "Epoch 6/10\n",
      "31015/31015 [==============================] - 130s 4ms/step - loss: 0.7009 - accuracy: 0.7391 - val_loss: 1.3994 - val_accuracy: 0.6242\n",
      "Epoch 7/10\n",
      "31015/31015 [==============================] - 134s 4ms/step - loss: 0.6844 - accuracy: 0.7466 - val_loss: 1.4647 - val_accuracy: 0.6192\n",
      "Epoch 8/10\n",
      "31015/31015 [==============================] - 133s 4ms/step - loss: 0.6709 - accuracy: 0.7541 - val_loss: 1.5280 - val_accuracy: 0.6153\n",
      "Epoch 9/10\n",
      "31015/31015 [==============================] - 133s 4ms/step - loss: 0.6594 - accuracy: 0.7591 - val_loss: 1.5887 - val_accuracy: 0.6132\n",
      "Epoch 10/10\n",
      "31015/31015 [==============================] - 133s 4ms/step - loss: 0.6496 - accuracy: 0.7640 - val_loss: 1.6461 - val_accuracy: 0.6123\n"
     ]
    }
   ],
   "source": [
    "binary_model = tf.keras.Sequential([layers.Dense(6)])\n",
    "binary_model.compile(\n",
    "    loss= tf.keras.losses.SparseCategoricalCrossentropy(from_logits=True, reduction=tf.keras.losses.Reduction.SUM),\n",
    "    optimizer='adam', metrics = ['accuracy'])\n",
    "history = binary_model.fit(\n",
    "    binary_train_ds, validation_data=binary_val_ds, epochs=10)"
   ]
  },
  {
   "cell_type": "code",
   "execution_count": 76,
   "id": "arctic-uncertainty",
   "metadata": {},
   "outputs": [],
   "source": [
    "def create_model(vocab_size, num_labels):\n",
    "       \n",
    "    model = tf.keras.Sequential([\n",
    "      layers.Embedding(vocab_size, 64, mask_zero=True),\n",
    "      layers.Conv1D(64, 5, padding=\"valid\", activation=\"relu\", strides=2),\n",
    "      layers.GlobalMaxPooling1D(),\n",
    "      layers.Dense(num_labels)])\n",
    "        \n",
    "    return model"
   ]
  },
  {
   "cell_type": "code",
   "execution_count": 79,
   "id": "controversial-devil",
   "metadata": {},
   "outputs": [
    {
     "name": "stdout",
     "output_type": "stream",
     "text": [
      "Train for 31015 steps, validate for 7619 steps\n",
      "Epoch 1/5\n",
      "31015/31015 [==============================] - 428s 14ms/step - loss: 1.0014 - accuracy: 0.6041 - val_loss: 1.0018 - val_accuracy: 0.6228\n",
      "Epoch 2/5\n",
      "31015/31015 [==============================] - 434s 14ms/step - loss: 0.8521 - accuracy: 0.6631 - val_loss: 1.0383 - val_accuracy: 0.6304\n",
      "Epoch 3/5\n",
      "31015/31015 [==============================] - 438s 14ms/step - loss: 0.6962 - accuracy: 0.7299 - val_loss: 1.2033 - val_accuracy: 0.6328\n",
      "Epoch 4/5\n",
      "31015/31015 [==============================] - 439s 14ms/step - loss: 0.5214 - accuracy: 0.8053 - val_loss: 1.4309 - val_accuracy: 0.6300\n",
      "Epoch 5/5\n",
      "31015/31015 [==============================] - 438s 14ms/step - loss: 0.3701 - accuracy: 0.8670 - val_loss: 1.9512 - val_accuracy: 0.6131\n"
     ]
    }
   ],
   "source": [
    "# vocab_size is VOCAB_SIZE + 1 since 0 is used additionally for padding.\n",
    "int_model = create_model(vocab_size=VOCAB_SIZE + 1, num_labels=6)\n",
    "int_model.compile(\n",
    "    loss=tf.keras.losses.SparseCategoricalCrossentropy(from_logits=True),\n",
    "    optimizer='adam',\n",
    "    metrics=['accuracy'])\n",
    "history = int_model.fit(int_train_ds, validation_data=int_val_ds, epochs=5)"
   ]
  },
  {
   "cell_type": "code",
   "execution_count": 80,
   "id": "toxic-update",
   "metadata": {},
   "outputs": [
    {
     "name": "stdout",
     "output_type": "stream",
     "text": [
      "Linear model on binary vectorized data:\n",
      "Model: \"sequential_3\"\n",
      "_________________________________________________________________\n",
      "Layer (type)                 Output Shape              Param #   \n",
      "=================================================================\n",
      "dense_3 (Dense)              multiple                  60006     \n",
      "=================================================================\n",
      "Total params: 60,006\n",
      "Trainable params: 60,006\n",
      "Non-trainable params: 0\n",
      "_________________________________________________________________\n",
      "None\n"
     ]
    }
   ],
   "source": [
    "print(\"Linear model on binary vectorized data:\")\n",
    "print(binary_model.summary())"
   ]
  },
  {
   "cell_type": "code",
   "execution_count": 81,
   "id": "working-serve",
   "metadata": {},
   "outputs": [
    {
     "name": "stdout",
     "output_type": "stream",
     "text": [
      "ConvNet model on int vectorized data:\n",
      "Model: \"sequential_6\"\n",
      "_________________________________________________________________\n",
      "Layer (type)                 Output Shape              Param #   \n",
      "=================================================================\n",
      "embedding_2 (Embedding)      (None, None, 64)          640064    \n",
      "_________________________________________________________________\n",
      "conv1d_2 (Conv1D)            (None, None, 64)          20544     \n",
      "_________________________________________________________________\n",
      "global_max_pooling1d_2 (Glob (None, 64)                0         \n",
      "_________________________________________________________________\n",
      "dense_6 (Dense)              (None, 6)                 390       \n",
      "=================================================================\n",
      "Total params: 660,998\n",
      "Trainable params: 660,998\n",
      "Non-trainable params: 0\n",
      "_________________________________________________________________\n",
      "None\n"
     ]
    }
   ],
   "source": [
    "print(\"ConvNet model on int vectorized data:\")\n",
    "print(int_model.summary())"
   ]
  },
  {
   "cell_type": "code",
   "execution_count": 82,
   "id": "noticed-level",
   "metadata": {},
   "outputs": [
    {
     "name": "stdout",
     "output_type": "stream",
     "text": [
      "9693/9693 [==============================] - 33s 3ms/step - loss: 1.7161 - accuracy: 0.5972\n",
      "9693/9693 [==============================] - 21s 2ms/step - loss: 2.0296 - accuracy: 0.6001\n",
      "Binary model accuracy: 59.72%\n",
      "Int model accuracy: 60.01%\n"
     ]
    }
   ],
   "source": [
    "binary_loss, binary_accuracy = binary_model.evaluate(binary_test_ds)\n",
    "int_loss, int_accuracy = int_model.evaluate(int_test_ds)\n",
    "\n",
    "print(\"Binary model accuracy: {:2.2%}\".format(binary_accuracy))\n",
    "print(\"Int model accuracy: {:2.2%}\".format(int_accuracy))"
   ]
  },
  {
   "cell_type": "code",
   "execution_count": null,
   "id": "heard-vancouver",
   "metadata": {},
   "outputs": [],
   "source": [
    "# Save the models"
   ]
  },
  {
   "cell_type": "code",
   "execution_count": 84,
   "id": "quiet-lingerie",
   "metadata": {},
   "outputs": [],
   "source": [
    "# Binar Model\n",
    "export_model_binary = tf.keras.Sequential(\n",
    "    [binary_vectorize_layer, binary_model,\n",
    "     layers.Activation('sigmoid')])\n",
    "\n",
    "export_model_binary.compile(\n",
    "    loss= tf.keras.losses.SparseCategoricalCrossentropy(from_logits=False),\n",
    "    optimizer='adam',\n",
    "    metrics=['accuracy'])\n",
    "\n"
   ]
  },
  {
   "cell_type": "code",
   "execution_count": 85,
   "id": "herbal-crest",
   "metadata": {},
   "outputs": [
    {
     "name": "stdout",
     "output_type": "stream",
     "text": [
      "9693/9693 [==============================] - 41s 4ms/step - loss: 1.3947 - accuracy: 0.5735\n",
      "Accuracy: 59.72%\n"
     ]
    }
   ],
   "source": [
    "# Test it with `raw_test_ds`, which yields raw strings\n",
    "loss, accuracy = export_model_binary.evaluate(test_ds)\n",
    "print(\"Accuracy: {:2.2%}\".format(binary_accuracy))"
   ]
  },
  {
   "cell_type": "code",
   "execution_count": 90,
   "id": "stylish-macedonia",
   "metadata": {},
   "outputs": [],
   "source": [
    "def get_string_labels(predicted_scores_batch):\n",
    "    predicted_int_labels = tf.argmax(predicted_scores_batch, axis=1)\n",
    "    predicted_labels = tf.gather(train_ds.class_names, predicted_int_labels)\n",
    "    return predicted_labels   \n",
    "      \n",
    "     \n",
    "    \n",
    "      "
   ]
  },
  {
   "cell_type": "code",
   "execution_count": 91,
   "id": "irish-wales",
   "metadata": {},
   "outputs": [
    {
     "ename": "AttributeError",
     "evalue": "'TensorSliceDataset' object has no attribute 'class_names'",
     "output_type": "error",
     "traceback": [
      "\u001b[1;31m---------------------------------------------------------------------------\u001b[0m",
      "\u001b[1;31mAttributeError\u001b[0m                            Traceback (most recent call last)",
      "\u001b[1;32m<ipython-input-91-618f21c3bc1b>\u001b[0m in \u001b[0;36m<module>\u001b[1;34m\u001b[0m\n\u001b[0;32m      4\u001b[0m ]\n\u001b[0;32m      5\u001b[0m \u001b[0mpredicted_scores\u001b[0m \u001b[1;33m=\u001b[0m \u001b[0mexport_model_binary\u001b[0m\u001b[1;33m.\u001b[0m\u001b[0mpredict\u001b[0m\u001b[1;33m(\u001b[0m\u001b[0minputs\u001b[0m\u001b[1;33m)\u001b[0m\u001b[1;33m\u001b[0m\u001b[1;33m\u001b[0m\u001b[0m\n\u001b[1;32m----> 6\u001b[1;33m \u001b[0mpredicted_labels\u001b[0m \u001b[1;33m=\u001b[0m \u001b[0mget_string_labels\u001b[0m\u001b[1;33m(\u001b[0m\u001b[0mpredicted_scores\u001b[0m\u001b[1;33m)\u001b[0m\u001b[1;33m\u001b[0m\u001b[1;33m\u001b[0m\u001b[0m\n\u001b[0m\u001b[0;32m      7\u001b[0m \u001b[1;32mfor\u001b[0m \u001b[0minput\u001b[0m\u001b[1;33m,\u001b[0m \u001b[0mlabel\u001b[0m \u001b[1;32min\u001b[0m \u001b[0mzip\u001b[0m\u001b[1;33m(\u001b[0m\u001b[0minputs\u001b[0m\u001b[1;33m,\u001b[0m \u001b[0mpredicted_labels\u001b[0m\u001b[1;33m)\u001b[0m\u001b[1;33m:\u001b[0m\u001b[1;33m\u001b[0m\u001b[1;33m\u001b[0m\u001b[0m\n\u001b[0;32m      8\u001b[0m \u001b[1;33m\u001b[0m\u001b[0m\n",
      "\u001b[1;32m<ipython-input-90-e00624f61444>\u001b[0m in \u001b[0;36mget_string_labels\u001b[1;34m(predicted_scores_batch)\u001b[0m\n\u001b[0;32m      1\u001b[0m \u001b[1;32mdef\u001b[0m \u001b[0mget_string_labels\u001b[0m\u001b[1;33m(\u001b[0m\u001b[0mpredicted_scores_batch\u001b[0m\u001b[1;33m)\u001b[0m\u001b[1;33m:\u001b[0m\u001b[1;33m\u001b[0m\u001b[1;33m\u001b[0m\u001b[0m\n\u001b[0;32m      2\u001b[0m     \u001b[0mpredicted_int_labels\u001b[0m \u001b[1;33m=\u001b[0m \u001b[0mtf\u001b[0m\u001b[1;33m.\u001b[0m\u001b[0margmax\u001b[0m\u001b[1;33m(\u001b[0m\u001b[0mpredicted_scores_batch\u001b[0m\u001b[1;33m,\u001b[0m \u001b[0maxis\u001b[0m\u001b[1;33m=\u001b[0m\u001b[1;36m1\u001b[0m\u001b[1;33m)\u001b[0m\u001b[1;33m\u001b[0m\u001b[1;33m\u001b[0m\u001b[0m\n\u001b[1;32m----> 3\u001b[1;33m     \u001b[0mpredicted_labels\u001b[0m \u001b[1;33m=\u001b[0m \u001b[0mtf\u001b[0m\u001b[1;33m.\u001b[0m\u001b[0mgather\u001b[0m\u001b[1;33m(\u001b[0m\u001b[0mtrain_ds\u001b[0m\u001b[1;33m.\u001b[0m\u001b[0mclass_names\u001b[0m\u001b[1;33m,\u001b[0m \u001b[0mpredicted_int_labels\u001b[0m\u001b[1;33m)\u001b[0m\u001b[1;33m\u001b[0m\u001b[1;33m\u001b[0m\u001b[0m\n\u001b[0m\u001b[0;32m      4\u001b[0m     \u001b[1;32mreturn\u001b[0m \u001b[0mpredicted_labels\u001b[0m\u001b[1;33m\u001b[0m\u001b[1;33m\u001b[0m\u001b[0m\n\u001b[0;32m      5\u001b[0m \u001b[1;33m\u001b[0m\u001b[0m\n",
      "\u001b[1;31mAttributeError\u001b[0m: 'TensorSliceDataset' object has no attribute 'class_names'"
     ]
    }
   ],
   "source": [
    "inputs = [\n",
    "    'These make using the home button easy. My daughter and I both like them.  I would purchase them again. Well worth the price.',  # python\n",
    "    'it worked for the first week then it only charge my phone to 20%. it is a waste of money.',  # java\n",
    "]\n",
    "predicted_scores = export_model_binary.predict(inputs)\n",
    "predicted_labels = get_string_labels(predicted_scores)\n",
    "for input, label in zip(inputs, predicted_labels):\n",
    "       \n",
    "    print(\"Question: \", input)\n",
    "    print(\"Predicted label: \", label.numpy())\n",
    "        \n",
    "       "
   ]
  },
  {
   "cell_type": "code",
   "execution_count": null,
   "id": "three-western",
   "metadata": {},
   "outputs": [],
   "source": [
    "# ConvNet model\n",
    "\n"
   ]
  },
  {
   "cell_type": "code",
   "execution_count": null,
   "id": "bored-counter",
   "metadata": {},
   "outputs": [],
   "source": [
    "# PREFETCH\n",
    "\n"
   ]
  },
  {
   "cell_type": "code",
   "execution_count": null,
   "id": "automotive-castle",
   "metadata": {},
   "outputs": [],
   "source": [
    "# standardize, tokenize, and vectorize the data using the helpful preprocessing.TextVectorization layer."
   ]
  },
  {
   "cell_type": "code",
   "execution_count": null,
   "id": "certified-capacity",
   "metadata": {},
   "outputs": [],
   "source": []
  },
  {
   "cell_type": "code",
   "execution_count": null,
   "id": "solar-quantity",
   "metadata": {},
   "outputs": [],
   "source": []
  },
  {
   "cell_type": "code",
   "execution_count": null,
   "id": "assigned-employment",
   "metadata": {},
   "outputs": [],
   "source": []
  },
  {
   "cell_type": "code",
   "execution_count": null,
   "id": "humanitarian-converter",
   "metadata": {},
   "outputs": [],
   "source": []
  },
  {
   "cell_type": "code",
   "execution_count": null,
   "id": "steady-anthony",
   "metadata": {},
   "outputs": [],
   "source": []
  },
  {
   "cell_type": "code",
   "execution_count": null,
   "id": "waiting-episode",
   "metadata": {},
   "outputs": [],
   "source": []
  },
  {
   "cell_type": "code",
   "execution_count": null,
   "id": "proper-chuck",
   "metadata": {},
   "outputs": [],
   "source": [
    "\"\"\"\n",
    "from __future__ import absolute_import, division, print_function, unicode_literals\n",
    "import tensorflow as tf # (I'm using tensorflow 2.0)\n",
    "from tensorflow import keras\n",
    "from tensorflow.keras import layers\n",
    "from tensorflow.keras.preprocessing.text import Tokenizer\n",
    "import pandas as pd\n",
    "import numpy as np\n",
    "# ... [code for importing and preparing the pandas dataframe omitted]\n",
    "\n",
    "# TOKENIZE\n",
    "\n",
    "train_text = training['text'].to_numpy()\n",
    "tok = Tokenizer(oov_token='<unk>')\n",
    "tok.fit_on_texts(train_text)\n",
    "tok.word_index['<pad>'] = 0\n",
    "tok.index_word[0] = '<pad>'\n",
    "\n",
    "train_seqs = tok.texts_to_sequences(train_text)\n",
    "train_seqs = tf.keras.preprocessing.sequence.pad_sequences(train_seqs, padding='post')\n",
    "\n",
    "train_labels = training['label'].to_numpy().flatten()\n",
    "\n",
    "valid_text = validation['text'].to_numpy()\n",
    "valid_seqs = tok.texts_to_sequences(valid_text)\n",
    "valid_seqs = tf.keras.preprocessing.sequence.pad_sequences(valid_seqs, padding='post')\n",
    "\n",
    "valid_labels = validation['label'].to_numpy().flatten()\n",
    "\n",
    "# CONVERT TO TF DATASETS\n",
    "\n",
    "train_ds = tf.data.Dataset.from_tensor_slices((train_seqs,train_labels))\n",
    "valid_ds = tf.data.Dataset.from_tensor_slices((valid_seqs,valid_labels))\n",
    "\n",
    "train_ds = train_ds.shuffle(BUFFER_SIZE).batch(BATCH_SIZE)\n",
    "valid_ds = valid_ds.batch(BATCH_SIZE)\n",
    "\n",
    "# PREFETCH\n",
    "\n",
    "train_ds = train_ds.prefetch(buffer_size=tf.data.experimental.AUTOTUNE)\n",
    "valid_ds = valid_ds.prefetch(buffer_size=tf.data.experimental.AUTOTUNE)\n",
    "\n",
    "# Model\n",
    "model = keras.Sequential([\n",
    "    layers.Embedding(vocab_size, embedding_dim),\n",
    "    layers.GlobalAveragePooling1D(),\n",
    "    layers.Dense(1, activation='sigmoid') # also tried activation='softmax'\n",
    "])\n",
    "\n",
    "model.compile(optimizer='adam',\n",
    "              loss='binary_crossentropy', # binary_crossentropy\n",
    "              metrics=['accuracy'])\n",
    "\n",
    "history = model.fit(\n",
    "    train_ds,\n",
    "    epochs=1,\n",
    "    validation_data=valid_ds, validation_steps=1, steps_per_epoch=BUFFER_SIZE)\n",
    "    \n",
    "model = keras.Sequential([\n",
    "    layers.Embedding(vocab_size, embedding_dim),\n",
    "    layers.GlobalAveragePooling1D(),\n",
    "    layers.Dense(1, activation='sigmoid') # also tried activation='softmax'\n",
    "])\n",
    "\n",
    "x, y = training['text'].to_numpy(), training['label'].to_numpy()\n",
    "x, y = tf.convert_to_tensor(x),tf.convert_to_tensor(y)\n",
    "\"\"\""
   ]
  }
 ],
 "metadata": {
  "kernelspec": {
   "display_name": "Python [conda env:pythonadv] *",
   "language": "python",
   "name": "conda-env-pythonadv-py"
  },
  "language_info": {
   "codemirror_mode": {
    "name": "ipython",
    "version": 3
   },
   "file_extension": ".py",
   "mimetype": "text/x-python",
   "name": "python",
   "nbconvert_exporter": "python",
   "pygments_lexer": "ipython3",
   "version": "3.6.12"
  }
 },
 "nbformat": 4,
 "nbformat_minor": 5
}

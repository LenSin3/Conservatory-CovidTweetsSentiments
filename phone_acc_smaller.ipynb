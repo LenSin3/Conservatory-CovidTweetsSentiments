{
 "cells": [
  {
   "cell_type": "code",
   "execution_count": 27,
   "id": "marine-winning",
   "metadata": {},
   "outputs": [
    {
     "name": "stderr",
     "output_type": "stream",
     "text": [
      "C:\\Users\\lenpk\\anaconda3\\envs\\PythonAdv\\lib\\site-packages\\ipykernel_launcher.py:5: FutureWarning: Passing a negative integer is deprecated in version 1.0 and will not be supported in future version. Instead, use None to not limit the column width.\n",
      "  \"\"\"\n"
     ]
    }
   ],
   "source": [
    "import pandas as pd\n",
    "import gzip\n",
    "import json\n",
    "import numpy as np\n",
    "pd.set_option('display.max_colwidth', -1)"
   ]
  },
  {
   "cell_type": "code",
   "execution_count": 28,
   "id": "specified-round",
   "metadata": {},
   "outputs": [],
   "source": [
    "file_path = \"reviews_Cell_Phones_and_Accessories_5.json.gz\""
   ]
  },
  {
   "cell_type": "code",
   "execution_count": 29,
   "id": "inclusive-present",
   "metadata": {},
   "outputs": [
    {
     "data": {
      "text/html": [
       "<div>\n",
       "<style scoped>\n",
       "    .dataframe tbody tr th:only-of-type {\n",
       "        vertical-align: middle;\n",
       "    }\n",
       "\n",
       "    .dataframe tbody tr th {\n",
       "        vertical-align: top;\n",
       "    }\n",
       "\n",
       "    .dataframe thead th {\n",
       "        text-align: right;\n",
       "    }\n",
       "</style>\n",
       "<table border=\"1\" class=\"dataframe\">\n",
       "  <thead>\n",
       "    <tr style=\"text-align: right;\">\n",
       "      <th></th>\n",
       "      <th>reviewerID</th>\n",
       "      <th>asin</th>\n",
       "      <th>reviewerName</th>\n",
       "      <th>helpful</th>\n",
       "      <th>reviewText</th>\n",
       "      <th>overall</th>\n",
       "      <th>summary</th>\n",
       "      <th>unixReviewTime</th>\n",
       "      <th>reviewTime</th>\n",
       "    </tr>\n",
       "  </thead>\n",
       "  <tbody>\n",
       "    <tr>\n",
       "      <th>0</th>\n",
       "      <td>A30TL5EWN6DFXT</td>\n",
       "      <td>120401325X</td>\n",
       "      <td>christina</td>\n",
       "      <td>[0, 0]</td>\n",
       "      <td>They look good and stick good! I just don't like the rounded shape because I was always bumping it and Siri kept popping up and it was irritating. I just won't buy a product like this again</td>\n",
       "      <td>4</td>\n",
       "      <td>Looks Good</td>\n",
       "      <td>1400630400</td>\n",
       "      <td>05 21, 2014</td>\n",
       "    </tr>\n",
       "    <tr>\n",
       "      <th>1</th>\n",
       "      <td>ASY55RVNIL0UD</td>\n",
       "      <td>120401325X</td>\n",
       "      <td>emily l.</td>\n",
       "      <td>[0, 0]</td>\n",
       "      <td>These stickers work like the review says they do. They stick on great and they stay on the phone. They are super stylish and I can share them with my sister. :)</td>\n",
       "      <td>5</td>\n",
       "      <td>Really great product.</td>\n",
       "      <td>1389657600</td>\n",
       "      <td>01 14, 2014</td>\n",
       "    </tr>\n",
       "    <tr>\n",
       "      <th>2</th>\n",
       "      <td>A2TMXE2AFO7ONB</td>\n",
       "      <td>120401325X</td>\n",
       "      <td>Erica</td>\n",
       "      <td>[0, 0]</td>\n",
       "      <td>These are awesome and make my phone look so stylish! I have only used one so far and have had it on for almost a year! CAN YOU BELIEVE THAT! ONE YEAR!! Great quality!</td>\n",
       "      <td>5</td>\n",
       "      <td>LOVE LOVE LOVE</td>\n",
       "      <td>1403740800</td>\n",
       "      <td>06 26, 2014</td>\n",
       "    </tr>\n",
       "    <tr>\n",
       "      <th>3</th>\n",
       "      <td>AWJ0WZQYMYFQ4</td>\n",
       "      <td>120401325X</td>\n",
       "      <td>JM</td>\n",
       "      <td>[4, 4]</td>\n",
       "      <td>Item arrived in great time and was in perfect condition. However, I ordered these buttons because they were a great deal and included a FREE screen protector. I never received one. Though its not a big deal, it would've been nice to get it since they claim it comes with one.</td>\n",
       "      <td>4</td>\n",
       "      <td>Cute!</td>\n",
       "      <td>1382313600</td>\n",
       "      <td>10 21, 2013</td>\n",
       "    </tr>\n",
       "    <tr>\n",
       "      <th>4</th>\n",
       "      <td>ATX7CZYFXI1KW</td>\n",
       "      <td>120401325X</td>\n",
       "      <td>patrice m rogoza</td>\n",
       "      <td>[2, 3]</td>\n",
       "      <td>awesome! stays on, and looks great. can be used on multiple apple products.  especially having nails, it helps to have an elevated key.</td>\n",
       "      <td>5</td>\n",
       "      <td>leopard home button sticker for iphone 4s</td>\n",
       "      <td>1359849600</td>\n",
       "      <td>02 3, 2013</td>\n",
       "    </tr>\n",
       "  </tbody>\n",
       "</table>\n",
       "</div>"
      ],
      "text/plain": [
       "       reviewerID        asin      reviewerName helpful  \\\n",
       "0  A30TL5EWN6DFXT  120401325X  christina         [0, 0]   \n",
       "1  ASY55RVNIL0UD   120401325X  emily l.          [0, 0]   \n",
       "2  A2TMXE2AFO7ONB  120401325X  Erica             [0, 0]   \n",
       "3  AWJ0WZQYMYFQ4   120401325X  JM                [4, 4]   \n",
       "4  ATX7CZYFXI1KW   120401325X  patrice m rogoza  [2, 3]   \n",
       "\n",
       "                                                                                                                                                                                                                                                                            reviewText  \\\n",
       "0  They look good and stick good! I just don't like the rounded shape because I was always bumping it and Siri kept popping up and it was irritating. I just won't buy a product like this again                                                                                         \n",
       "1  These stickers work like the review says they do. They stick on great and they stay on the phone. They are super stylish and I can share them with my sister. :)                                                                                                                      \n",
       "2  These are awesome and make my phone look so stylish! I have only used one so far and have had it on for almost a year! CAN YOU BELIEVE THAT! ONE YEAR!! Great quality!                                                                                                                \n",
       "3  Item arrived in great time and was in perfect condition. However, I ordered these buttons because they were a great deal and included a FREE screen protector. I never received one. Though its not a big deal, it would've been nice to get it since they claim it comes with one.   \n",
       "4  awesome! stays on, and looks great. can be used on multiple apple products.  especially having nails, it helps to have an elevated key.                                                                                                                                               \n",
       "\n",
       "   overall                                    summary  unixReviewTime  \\\n",
       "0  4        Looks Good                                 1400630400       \n",
       "1  5        Really great product.                      1389657600       \n",
       "2  5        LOVE LOVE LOVE                             1403740800       \n",
       "3  4        Cute!                                      1382313600       \n",
       "4  5        leopard home button sticker for iphone 4s  1359849600       \n",
       "\n",
       "    reviewTime  \n",
       "0  05 21, 2014  \n",
       "1  01 14, 2014  \n",
       "2  06 26, 2014  \n",
       "3  10 21, 2013  \n",
       "4  02 3, 2013   "
      ]
     },
     "execution_count": 29,
     "metadata": {},
     "output_type": "execute_result"
    }
   ],
   "source": [
    "phone_df = pd.read_json(file_path, lines = True)\n",
    "phone_df.head()"
   ]
  },
  {
   "cell_type": "code",
   "execution_count": 30,
   "id": "specialized-swaziland",
   "metadata": {},
   "outputs": [
    {
     "name": "stdout",
     "output_type": "stream",
     "text": [
      "<class 'pandas.core.frame.DataFrame'>\n",
      "RangeIndex: 190920 entries, 0 to 190919\n",
      "Data columns (total 9 columns):\n",
      " #   Column          Non-Null Count   Dtype \n",
      "---  ------          --------------   ----- \n",
      " 0   reviewerID      190920 non-null  object\n",
      " 1   asin            190920 non-null  object\n",
      " 2   reviewerName    190920 non-null  object\n",
      " 3   helpful         190920 non-null  object\n",
      " 4   reviewText      190920 non-null  object\n",
      " 5   overall         190920 non-null  int64 \n",
      " 6   summary         190920 non-null  object\n",
      " 7   unixReviewTime  190920 non-null  int64 \n",
      " 8   reviewTime      190920 non-null  object\n",
      "dtypes: int64(2), object(7)\n",
      "memory usage: 13.1+ MB\n"
     ]
    }
   ],
   "source": [
    "phone_df_clean = phone_df.dropna().reset_index(drop = True)\n",
    "phone_df_clean.info()"
   ]
  },
  {
   "cell_type": "code",
   "execution_count": 31,
   "id": "ordinary-harmony",
   "metadata": {},
   "outputs": [],
   "source": [
    "import matplotlib.pyplot as plt\n",
    "import seaborn as sns"
   ]
  },
  {
   "cell_type": "code",
   "execution_count": 32,
   "id": "empirical-segment",
   "metadata": {},
   "outputs": [
    {
     "name": "stderr",
     "output_type": "stream",
     "text": [
      "C:\\Users\\lenpk\\anaconda3\\envs\\PythonAdv\\lib\\site-packages\\seaborn\\_decorators.py:43: FutureWarning: Pass the following variable as a keyword arg: x. From version 0.12, the only valid positional argument will be `data`, and passing other arguments without an explicit keyword will result in an error or misinterpretation.\n",
      "  FutureWarning\n"
     ]
    },
    {
     "data": {
      "image/png": "[encoded data removed]",
      "text/plain": [
       "<Figure size 432x288 with 1 Axes>"
      ]
     },
     "metadata": {
      "needs_background": "light"
     },
     "output_type": "display_data"
    }
   ],
   "source": [
    "sns.countplot(phone_df_clean['overall'], order=phone_df_clean['overall'].value_counts(ascending=False).index)\n",
    "plt.show()"
   ]
  },
  {
   "cell_type": "code",
   "execution_count": 33,
   "id": "diagnostic-executive",
   "metadata": {},
   "outputs": [
    {
     "data": {
      "text/plain": [
       "Amazon Customer    3562\n",
       "Pen Name           344 \n",
       "John               268 \n",
       "Chris              234 \n",
       "Mike               224 \n",
       "Name: reviewerName, dtype: int64"
      ]
     },
     "execution_count": 33,
     "metadata": {},
     "output_type": "execute_result"
    }
   ],
   "source": [
    "reviewer_count = phone_df_clean['reviewerName'].value_counts(ascending=False)\n",
    "reviewer_count.head()"
   ]
  },
  {
   "cell_type": "code",
   "execution_count": 34,
   "id": "threatened-appointment",
   "metadata": {},
   "outputs": [
    {
     "data": {
      "text/html": [
       "<div>\n",
       "<style scoped>\n",
       "    .dataframe tbody tr th:only-of-type {\n",
       "        vertical-align: middle;\n",
       "    }\n",
       "\n",
       "    .dataframe tbody tr th {\n",
       "        vertical-align: top;\n",
       "    }\n",
       "\n",
       "    .dataframe thead th {\n",
       "        text-align: right;\n",
       "    }\n",
       "</style>\n",
       "<table border=\"1\" class=\"dataframe\">\n",
       "  <thead>\n",
       "    <tr style=\"text-align: right;\">\n",
       "      <th></th>\n",
       "      <th>overall</th>\n",
       "      <th>reviewText</th>\n",
       "    </tr>\n",
       "  </thead>\n",
       "  <tbody>\n",
       "    <tr>\n",
       "      <th>0</th>\n",
       "      <td>4</td>\n",
       "      <td>They look good and stick good! I just don't like the rounded shape because I was always bumping it and Siri kept popping up and it was irritating. I just won't buy a product like this again</td>\n",
       "    </tr>\n",
       "    <tr>\n",
       "      <th>1</th>\n",
       "      <td>5</td>\n",
       "      <td>These stickers work like the review says they do. They stick on great and they stay on the phone. They are super stylish and I can share them with my sister. :)</td>\n",
       "    </tr>\n",
       "    <tr>\n",
       "      <th>2</th>\n",
       "      <td>5</td>\n",
       "      <td>These are awesome and make my phone look so stylish! I have only used one so far and have had it on for almost a year! CAN YOU BELIEVE THAT! ONE YEAR!! Great quality!</td>\n",
       "    </tr>\n",
       "    <tr>\n",
       "      <th>3</th>\n",
       "      <td>4</td>\n",
       "      <td>Item arrived in great time and was in perfect condition. However, I ordered these buttons because they were a great deal and included a FREE screen protector. I never received one. Though its not a big deal, it would've been nice to get it since they claim it comes with one.</td>\n",
       "    </tr>\n",
       "    <tr>\n",
       "      <th>4</th>\n",
       "      <td>5</td>\n",
       "      <td>awesome! stays on, and looks great. can be used on multiple apple products.  especially having nails, it helps to have an elevated key.</td>\n",
       "    </tr>\n",
       "  </tbody>\n",
       "</table>\n",
       "</div>"
      ],
      "text/plain": [
       "   overall  \\\n",
       "0  4         \n",
       "1  5         \n",
       "2  5         \n",
       "3  4         \n",
       "4  5         \n",
       "\n",
       "                                                                                                                                                                                                                                                                            reviewText  \n",
       "0  They look good and stick good! I just don't like the rounded shape because I was always bumping it and Siri kept popping up and it was irritating. I just won't buy a product like this again                                                                                        \n",
       "1  These stickers work like the review says they do. They stick on great and they stay on the phone. They are super stylish and I can share them with my sister. :)                                                                                                                     \n",
       "2  These are awesome and make my phone look so stylish! I have only used one so far and have had it on for almost a year! CAN YOU BELIEVE THAT! ONE YEAR!! Great quality!                                                                                                               \n",
       "3  Item arrived in great time and was in perfect condition. However, I ordered these buttons because they were a great deal and included a FREE screen protector. I never received one. Though its not a big deal, it would've been nice to get it since they claim it comes with one.  \n",
       "4  awesome! stays on, and looks great. can be used on multiple apple products.  especially having nails, it helps to have an elevated key.                                                                                                                                              "
      ]
     },
     "execution_count": 34,
     "metadata": {},
     "output_type": "execute_result"
    }
   ],
   "source": [
    "# Extract columns of interest into a new dataframe\n",
    "data_df = phone_df_clean[['overall', 'reviewText']]\n",
    "data_df.head()"
   ]
  },
  {
   "cell_type": "code",
   "execution_count": 35,
   "id": "geographic-brunswick",
   "metadata": {},
   "outputs": [
    {
     "data": {
      "text/html": [
       "<div>\n",
       "<style scoped>\n",
       "    .dataframe tbody tr th:only-of-type {\n",
       "        vertical-align: middle;\n",
       "    }\n",
       "\n",
       "    .dataframe tbody tr th {\n",
       "        vertical-align: top;\n",
       "    }\n",
       "\n",
       "    .dataframe thead th {\n",
       "        text-align: right;\n",
       "    }\n",
       "</style>\n",
       "<table border=\"1\" class=\"dataframe\">\n",
       "  <thead>\n",
       "    <tr style=\"text-align: right;\">\n",
       "      <th></th>\n",
       "      <th>class</th>\n",
       "      <th>text</th>\n",
       "    </tr>\n",
       "  </thead>\n",
       "  <tbody>\n",
       "    <tr>\n",
       "      <th>190915</th>\n",
       "      <td>5</td>\n",
       "      <td>Works great just like my original one. I really need extras of these for the car and house so love this and the price!</td>\n",
       "    </tr>\n",
       "    <tr>\n",
       "      <th>190916</th>\n",
       "      <td>5</td>\n",
       "      <td>Great product. Great packaging. High quality and apple certified. Works greats. This was a good replacement for my apple cable that is falling apart. I highly recommend this cable.</td>\n",
       "    </tr>\n",
       "    <tr>\n",
       "      <th>190917</th>\n",
       "      <td>5</td>\n",
       "      <td>This is a great cable, just as good as the more expensive Apple one. My husband and my daughter both lost their original cables for their iPhones and they went the cheap route, buying a cheap replacement cable, I believe it messed up their battery memory because coincidentally both of them have battery hold/charge issues but my son and I do not. I used this cable to charge my husbands phone and it charged it from 3% to 100% in about an hour, that's about how long it takes my phone to charge but with the cheap cable his takes 2-1/2 hours. I'm thrilled with the quality of this cable, I'm hoping now that we have &amp;#34;quality&amp;#34; cables again, maybe the battery memory will improve on their phones.  Great cable at a great price. I definitely recommend.</td>\n",
       "    </tr>\n",
       "    <tr>\n",
       "      <th>190918</th>\n",
       "      <td>5</td>\n",
       "      <td>I really like it becasue it works well with my Life Proof case. I do not have to remove the case to charge my phone.</td>\n",
       "    </tr>\n",
       "    <tr>\n",
       "      <th>190919</th>\n",
       "      <td>5</td>\n",
       "      <td>product as described, I have wasted a lot of money on cords. I would buy them (usually on road trips) and then go to plug my phone in just to discover I have to work with cord and leave my phone sit while it was charging. This cord has not given me any issues, works just like my original!!</td>\n",
       "    </tr>\n",
       "  </tbody>\n",
       "</table>\n",
       "</div>"
      ],
      "text/plain": [
       "        class  \\\n",
       "190915  5       \n",
       "190916  5       \n",
       "190917  5       \n",
       "190918  5       \n",
       "190919  5       \n",
       "\n",
       "                                                                                                                                                                                                                                                                                                                                                                                                                                                                                                                                                                                                                                                                                                                                                                                          text  \n",
       "190915  Works great just like my original one. I really need extras of these for the car and house so love this and the price!                                                                                                                                                                                                                                                                                                                                                                                                                                                                                                                                                                                                                                                                  \n",
       "190916  Great product. Great packaging. High quality and apple certified. Works greats. This was a good replacement for my apple cable that is falling apart. I highly recommend this cable.                                                                                                                                                                                                                                                                                                                                                                                                                                                                                                                                                                                                    \n",
       "190917  This is a great cable, just as good as the more expensive Apple one. My husband and my daughter both lost their original cables for their iPhones and they went the cheap route, buying a cheap replacement cable, I believe it messed up their battery memory because coincidentally both of them have battery hold/charge issues but my son and I do not. I used this cable to charge my husbands phone and it charged it from 3% to 100% in about an hour, that's about how long it takes my phone to charge but with the cheap cable his takes 2-1/2 hours. I'm thrilled with the quality of this cable, I'm hoping now that we have &#34;quality&#34; cables again, maybe the battery memory will improve on their phones.  Great cable at a great price. I definitely recommend.  \n",
       "190918  I really like it becasue it works well with my Life Proof case. I do not have to remove the case to charge my phone.                                                                                                                                                                                                                                                                                                                                                                                                                                                                                                                                                                                                                                                                    \n",
       "190919  product as described, I have wasted a lot of money on cords. I would buy them (usually on road trips) and then go to plug my phone in just to discover I have to work with cord and leave my phone sit while it was charging. This cord has not given me any issues, works just like my original!!                                                                                                                                                                                                                                                                                                                                                                                                                                                                                      "
      ]
     },
     "execution_count": 35,
     "metadata": {},
     "output_type": "execute_result"
    }
   ],
   "source": [
    "# rename columns to class and text\n",
    "df_renamed = data_df.rename(columns = {'overall': 'class', 'reviewText': 'text'})\n",
    "df_renamed.tail()"
   ]
  },
  {
   "cell_type": "code",
   "execution_count": 36,
   "id": "fluid-member",
   "metadata": {},
   "outputs": [],
   "source": [
    "# Extract 5% for Machine Learning\n",
    "np.random.seed(42)\n",
    "msk = np.random.rand(len(df_renamed)) < 0.06\n",
    "ml_data = df_renamed[msk]"
   ]
  },
  {
   "cell_type": "code",
   "execution_count": 37,
   "id": "selective-reform",
   "metadata": {},
   "outputs": [
    {
     "data": {
      "text/plain": [
       "11399"
      ]
     },
     "execution_count": 37,
     "metadata": {},
     "output_type": "execute_result"
    }
   ],
   "source": [
    "df = ml_data.reset_index(drop = True)\n",
    "len(df)"
   ]
  },
  {
   "cell_type": "code",
   "execution_count": 38,
   "id": "flush-arabic",
   "metadata": {},
   "outputs": [
    {
     "data": {
      "text/html": [
       "<div>\n",
       "<style scoped>\n",
       "    .dataframe tbody tr th:only-of-type {\n",
       "        vertical-align: middle;\n",
       "    }\n",
       "\n",
       "    .dataframe tbody tr th {\n",
       "        vertical-align: top;\n",
       "    }\n",
       "\n",
       "    .dataframe thead th {\n",
       "        text-align: right;\n",
       "    }\n",
       "</style>\n",
       "<table border=\"1\" class=\"dataframe\">\n",
       "  <thead>\n",
       "    <tr style=\"text-align: right;\">\n",
       "      <th></th>\n",
       "      <th>class</th>\n",
       "      <th>text</th>\n",
       "      <th>class_id</th>\n",
       "    </tr>\n",
       "  </thead>\n",
       "  <tbody>\n",
       "    <tr>\n",
       "      <th>0</th>\n",
       "      <td>5</td>\n",
       "      <td>Came just as described.. It doesn't come unstuck and its cute! People ask where I got them from &amp; it's great when driving.</td>\n",
       "      <td>0</td>\n",
       "    </tr>\n",
       "    <tr>\n",
       "      <th>1</th>\n",
       "      <td>5</td>\n",
       "      <td>this case fits perfectly on the s4 and keeps me powerd all day I can't complain! a+ recommend it to all</td>\n",
       "      <td>0</td>\n",
       "    </tr>\n",
       "    <tr>\n",
       "      <th>2</th>\n",
       "      <td>4</td>\n",
       "      <td>Yo get exactly what you order in a timely fashion. And the item is just as described. Great buy if you ask me</td>\n",
       "      <td>1</td>\n",
       "    </tr>\n",
       "    <tr>\n",
       "      <th>3</th>\n",
       "      <td>5</td>\n",
       "      <td>Works great. The blue led light is a nice touch in the car. We charge a Samsung and Iphone using this outlet. Nice low profile too.</td>\n",
       "      <td>0</td>\n",
       "    </tr>\n",
       "    <tr>\n",
       "      <th>4</th>\n",
       "      <td>4</td>\n",
       "      <td>The case is not white, its more of a silver. It's still a very pretty case- it fit my phone perfectly. It took too long to arrive.</td>\n",
       "      <td>1</td>\n",
       "    </tr>\n",
       "  </tbody>\n",
       "</table>\n",
       "</div>"
      ],
      "text/plain": [
       "   class  \\\n",
       "0  5       \n",
       "1  5       \n",
       "2  4       \n",
       "3  5       \n",
       "4  4       \n",
       "\n",
       "                                                                                                                                  text  \\\n",
       "0  Came just as described.. It doesn't come unstuck and its cute! People ask where I got them from & it's great when driving.            \n",
       "1  this case fits perfectly on the s4 and keeps me powerd all day I can't complain! a+ recommend it to all                               \n",
       "2  Yo get exactly what you order in a timely fashion. And the item is just as described. Great buy if you ask me                         \n",
       "3  Works great. The blue led light is a nice touch in the car. We charge a Samsung and Iphone using this outlet. Nice low profile too.   \n",
       "4  The case is not white, its more of a silver. It's still a very pretty case- it fit my phone perfectly. It took too long to arrive.    \n",
       "\n",
       "   class_id  \n",
       "0  0         \n",
       "1  0         \n",
       "2  1         \n",
       "3  0         \n",
       "4  1         "
      ]
     },
     "execution_count": 38,
     "metadata": {},
     "output_type": "execute_result"
    }
   ],
   "source": [
    "from io import StringIO\n",
    "\n",
    "df['class_id'] = df['class'].factorize()[0]\n",
    "class_id_df = df[['class', 'class_id']].drop_duplicates().sort_values('class_id')\n",
    "class_to_id = dict(class_id_df.values)\n",
    "id_to_class = dict(class_id_df[['class_id', 'class']].values)\n",
    "df.head()"
   ]
  },
  {
   "cell_type": "code",
   "execution_count": 40,
   "id": "narrative-smart",
   "metadata": {},
   "outputs": [
    {
     "data": {
      "text/plain": [
       "(11399, 15863)"
      ]
     },
     "execution_count": 40,
     "metadata": {},
     "output_type": "execute_result"
    }
   ],
   "source": [
    "from sklearn.feature_extraction.text import TfidfVectorizer\n",
    "# max_features = 500, \n",
    "tfidf = TfidfVectorizer(sublinear_tf=True, min_df=5, norm='l2', encoding='latin-1', ngram_range=(1, 2), stop_words='english')\n",
    "features = tfidf.fit_transform(df['text']).toarray()\n",
    "labels = df['class_id']\n",
    "features.shape"
   ]
  },
  {
   "cell_type": "code",
   "execution_count": 41,
   "id": "acquired-entertainment",
   "metadata": {},
   "outputs": [],
   "source": [
    "from sklearn.model_selection import train_test_split\n",
    "from sklearn.feature_extraction.text import CountVectorizer\n",
    "from sklearn.feature_extraction.text import TfidfTransformer"
   ]
  },
  {
   "cell_type": "code",
   "execution_count": 42,
   "id": "ordinary-objective",
   "metadata": {},
   "outputs": [],
   "source": [
    "# Naive Bayes Multinomial \n",
    "from sklearn.naive_bayes import MultinomialNB"
   ]
  },
  {
   "cell_type": "code",
   "execution_count": 43,
   "id": "subtle-juice",
   "metadata": {},
   "outputs": [
    {
     "data": {
      "text/plain": [
       "((11399,), (11399,), (11399,))"
      ]
     },
     "execution_count": 43,
     "metadata": {},
     "output_type": "execute_result"
    }
   ],
   "source": [
    "df['text'].shape, df['class'].shape, df['class_id'].shape"
   ]
  },
  {
   "cell_type": "code",
   "execution_count": 44,
   "id": "saved-singapore",
   "metadata": {},
   "outputs": [],
   "source": [
    "# Split Data\n",
    "X_train, X_test, y_train, y_test = train_test_split(df['text'], df['class_id'], random_state = 0)"
   ]
  },
  {
   "cell_type": "code",
   "execution_count": 45,
   "id": "interior-animation",
   "metadata": {},
   "outputs": [
    {
     "data": {
      "text/plain": [
       "((8549,), (8549,), (2850,), (2850,))"
      ]
     },
     "execution_count": 45,
     "metadata": {},
     "output_type": "execute_result"
    }
   ],
   "source": [
    "X_train.shape, y_train.shape, X_test.shape, y_test.shape"
   ]
  },
  {
   "cell_type": "code",
   "execution_count": 46,
   "id": "overhead-fluid",
   "metadata": {},
   "outputs": [],
   "source": [
    "# Count Vectorizer\n",
    "cnt_vec = CountVectorizer()\n",
    "X_train_cnt_vec = cnt_vec.fit_transform(X_train)"
   ]
  },
  {
   "cell_type": "code",
   "execution_count": 47,
   "id": "vertical-cambodia",
   "metadata": {},
   "outputs": [],
   "source": [
    "# Hashing with TF-IDF\n",
    "tfidfTransformer = TfidfTransformer()\n",
    "X_train_tfidfTransformer  = tfidfTransformer.fit_transform(X_train_cnt_vec)"
   ]
  },
  {
   "cell_type": "code",
   "execution_count": 53,
   "id": "periodic-johnston",
   "metadata": {},
   "outputs": [],
   "source": [
    "# Naive Bayes Classifier\n",
    "clf = MultinomialNB().fit(X_train_tfidfTransformer, y_train)"
   ]
  },
  {
   "cell_type": "code",
   "execution_count": 54,
   "id": "sixth-province",
   "metadata": {},
   "outputs": [
    {
     "name": "stdout",
     "output_type": "stream",
     "text": [
      "[0]\n"
     ]
    }
   ],
   "source": [
    "print(clf.predict(cnt_vec.transform([\"Works great. The blue led light is a nice touch in the car. We charge a Samsung and Iphone using this outlet. Nice low profile too.\t\"])))"
   ]
  },
  {
   "cell_type": "code",
   "execution_count": 56,
   "id": "known-output",
   "metadata": {},
   "outputs": [],
   "source": [
    "from sklearn.linear_model import LogisticRegression\n",
    "from sklearn.ensemble import RandomForestClassifier\n",
    "from sklearn.svm import LinearSVC\n",
    "from sklearn.model_selection import cross_val_score"
   ]
  },
  {
   "cell_type": "code",
   "execution_count": 57,
   "id": "mysterious-mother",
   "metadata": {},
   "outputs": [],
   "source": [
    "models = [\n",
    "    RandomForestClassifier(n_estimators=200, max_depth=3, random_state=0),\n",
    "    LinearSVC(),\n",
    "    MultinomialNB(),\n",
    "    LogisticRegression(max_iter=500, random_state=0),\n",
    "]\n",
    "CV = 5\n",
    "cv_df = pd.DataFrame(index=range(CV * len(models)))\n",
    "entries = []\n",
    "for model in models:\n",
    "    \n",
    "    model_name = model.__class__.__name__\n",
    "    accuracies = cross_val_score(model, features, labels, scoring='accuracy', cv=CV)\n",
    "    for fold_idx, accuracy in enumerate(accuracies):\n",
    "        entries.append((model_name, fold_idx, accuracy))\n",
    "        \n",
    "cv_df = pd.DataFrame(entries, columns=['model_name', 'fold_idx', 'accuracy'])"
   ]
  },
  {
   "cell_type": "code",
   "execution_count": 58,
   "id": "organic-consortium",
   "metadata": {},
   "outputs": [
    {
     "data": {
      "text/plain": [
       "model_name\n",
       "LinearSVC                 0.593648\n",
       "LogisticRegression        0.604088\n",
       "MultinomialNB             0.558031\n",
       "RandomForestClassifier    0.556628\n",
       "Name: accuracy, dtype: float64"
      ]
     },
     "execution_count": 58,
     "metadata": {},
     "output_type": "execute_result"
    }
   ],
   "source": [
    "cv_df.groupby('model_name').accuracy.mean()"
   ]
  }
 ],
 "metadata": {
  "kernelspec": {
   "display_name": "Python [conda env:pythonadv] *",
   "language": "python",
   "name": "conda-env-pythonadv-py"
  },
  "language_info": {
   "codemirror_mode": {
    "name": "ipython",
    "version": 3
   },
   "file_extension": ".py",
   "mimetype": "text/x-python",
   "name": "python",
   "nbconvert_exporter": "python",
   "pygments_lexer": "ipython3",
   "version": "3.6.12"
  }
 },
 "nbformat": 4,
 "nbformat_minor": 5
}
